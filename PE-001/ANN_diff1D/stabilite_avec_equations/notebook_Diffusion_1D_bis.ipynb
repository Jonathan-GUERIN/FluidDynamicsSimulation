{
 "cells": [
  {
   "cell_type": "markdown",
   "metadata": {},
   "source": [
    "## Algorithme pour l'analyse de la stabilité de la discrétisation de l'équation de diffusion en 1 dimension.\n",
    "\n",
    "Tout d'abord, on importe les modules Python pertinents."
   ]
  },
  {
   "cell_type": "code",
   "execution_count": 1,
   "metadata": {},
   "outputs": [],
   "source": [
    "from __future__ import absolute_import, division, print_function, unicode_literals\n",
    "\n",
    "import sqlite3\n",
    "import pathlib\n",
    "import matplotlib.pyplot as plt\n",
    "import pandas as pd\n",
    "import seaborn as sns\n",
    "import numpy as np\n",
    "import sys\n",
    "import datetime, os\n",
    "from sklearn import metrics\n",
    "from sklearn import preprocessing\n",
    "from time import time\n",
    "\n",
    "import tensorflow as tf\n",
    "from tensorflow import keras\n",
    "from tensorflow.keras import layers\n",
    "from tensorflow.keras.layers import LeakyReLU\n",
    "from tensorflow.python.keras.callbacks import TensorBoard\n",
    "\n",
    "import os"
   ]
  },
  {
   "cell_type": "markdown",
   "metadata": {},
   "source": [
    "Ici, on importe les données contenues dans les fichiers \"db.db\" et \"db_diffusion_1D_4.db\" pour les fussioner après dans un même objet."
   ]
  },
  {
   "cell_type": "code",
   "execution_count": 2,
   "metadata": {},
   "outputs": [
    {
     "name": "stdout",
     "output_type": "stream",
     "text": [
      "      tmax     alpha        dx        dt  stable  nb_iteration         erreur\n",
      "7495   500  0.000235  0.010582  0.233290       1          2143   8.190000e-04\n",
      "7496   500  0.000235  0.010582  0.242621       0          2060   4.866662e+26\n",
      "7497   500  0.000235  0.010582  0.251953       0          1984   1.988704e+88\n",
      "7498   500  0.000235  0.010582  0.261284       0          1913  2.404208e+141\n",
      "7499   500  0.000235  0.010582  0.270616       0          1847   1.000000e+07\n"
     ]
    },
    {
     "data": {
      "image/png": "[encoded data removed]",
      "text/plain": [
       "<Figure size 432x288 with 1 Axes>"
      ]
     },
     "metadata": {
      "needs_background": "light"
     },
     "output_type": "display_data"
    }
   ],
   "source": [
    "columns=['tmax','alpha','dx','dt','stable','nb_iteration','erreur']\n",
    "#os.chdir('/Users/rachadi/Desktop/machine learning PE')\n",
    "cnx1 = sqlite3.connect('db_final.db')\n",
    "raw_dataset1 = pd.read_sql_query(\"SELECT * FROM db_diffusion1D_\", cnx1)\n",
    "\n",
    "data = raw_dataset1.copy()\n",
    "data.columns=['tmax','alpha','dx','dt','stable','nb_iteration','erreur']\n",
    "print(data.tail())\n",
    "X=(data['dx']*data['dx'])/(2*data['alpha'])\n",
    "Y=data['dt']\n",
    "identity = np.linspace(0,90)\n",
    "plt.scatter(X.values,Y.values)\n",
    "plt.plot(identity,identity,'r')\n",
    "plt.title('Caractarisation des données de dt')\n",
    "plt.xlabel('max dt theorique')\n",
    "plt.ylabel('dt')\n",
    "plt.yscale('log')\n",
    "plt.xscale('log')"
   ]
  },
  {
   "cell_type": "markdown",
   "metadata": {},
   "source": [
    "Dans la suite, on applique un filtrage des données pour n'obtenir que les données pour lesquelles la simulation est stable. "
   ]
  },
  {
   "cell_type": "code",
   "execution_count": 3,
   "metadata": {},
   "outputs": [
    {
     "name": "stdout",
     "output_type": "stream",
     "text": [
      "<class 'pandas.core.frame.DataFrame'>\n",
      "Int64Index: 750 entries, 3595 to 4957\n",
      "Data columns (total 3 columns):\n",
      " #   Column  Non-Null Count  Dtype  \n",
      "---  ------  --------------  -----  \n",
      " 0   alpha   750 non-null    float64\n",
      " 1   dx      750 non-null    float64\n",
      " 2   dt      750 non-null    float64\n",
      "dtypes: float64(3)\n",
      "memory usage: 23.4 KB\n"
     ]
    },
    {
     "data": {
      "image/png": "[encoded data removed]",
      "text/plain": [
       "<Figure size 432x288 with 1 Axes>"
      ]
     },
     "metadata": {
      "needs_background": "light"
     },
     "output_type": "display_data"
    }
   ],
   "source": [
    "dt_maximale = 0.5*data['dx']*data['dx']/data['alpha']\n",
    "data_stable = data[(data['dt']<=dt_maximale) == 1]\n",
    "\n",
    "index_dt_optimal = data_stable.groupby(['alpha','dx'])['nb_iteration'].agg(pd.Series.idxmin)\n",
    "data_stable_optimal = data_stable.filter(items = index_dt_optimal.values, axis = 0)\n",
    "\n",
    "data_stable_optimal.tail()\n",
    "\n",
    "data_stable_optimal_clean=data_stable_optimal.drop(['stable','nb_iteration','erreur', 'tmax'],axis=1)\n",
    "data_stable_optimal_clean.info()\n",
    "X=(data_stable_optimal_clean['dx']*data_stable_optimal_clean['dx'])/(2*data_stable_optimal_clean['alpha'])\n",
    "Y=data_stable_optimal_clean['dt']\n",
    "plt.scatter(X.values,Y.values)\n",
    "plt.plot(identity,identity,'r')\n",
    "plt.title('Caractarisation des données de dt')\n",
    "plt.xlabel('max dt theorique')\n",
    "plt.ylabel('dt')\n",
    "plt.xscale('log')\n",
    "plt.yscale('log')"
   ]
  },
  {
   "cell_type": "markdown",
   "metadata": {},
   "source": [
    "Avant de normaliser les données, on sauvegardera les paramètres statistiques principaux pour l'étude de la base de données. Ces données sont sauvegardées dans le fichier *db_synthese.txt*, où les colonnes correspondent à alpha, dx et dt respectivement."
   ]
  },
  {
   "cell_type": "code",
   "execution_count": 4,
   "metadata": {},
   "outputs": [
    {
     "name": "stdout",
     "output_type": "stream",
     "text": [
      "[[2.35000000e-04 4.08160000e-02 7.38177620e+01]\n",
      " [1.00000000e-05 1.05820000e-02 2.33290000e-01]\n",
      " [7.37000000e-05 1.97552667e-02 5.74493804e+00]\n",
      " [5.61231659e-05 8.71204326e-03 8.50529503e+00]]\n"
     ]
    }
   ],
   "source": [
    "maxvals = data_stable_optimal_clean.max(axis=0).values\n",
    "minvals = data_stable_optimal_clean.min(axis=0).values\n",
    "meanvals = data_stable_optimal_clean.mean(axis=0).values\n",
    "stdvals = data_stable_optimal_clean.std(axis=0).values\n",
    "\n",
    "synthese = np.array([maxvals, minvals, meanvals, stdvals])\n",
    "content = str(synthese)\n",
    "fichier = open(\"db_synthese_bis.txt\",\"w+\")\n",
    "fichier.write(content)\n",
    "fichier.close()\n",
    "\n",
    "fichier = open(\"db_synthese_bis.txt\",\"r\")\n",
    "print(fichier.read())"
   ]
  },
  {
   "cell_type": "markdown",
   "metadata": {},
   "source": [
    "On normalise les données en utilisant des méthodes inclues dans le module SciKitLearn."
   ]
  },
  {
   "cell_type": "code",
   "execution_count": 7,
   "metadata": {},
   "outputs": [
    {
     "name": "stdout",
     "output_type": "stream",
     "text": [
      "        alpha        dx        dt\n",
      "745  2.875954  0.312045 -0.550154\n",
      "746  2.875954  0.638707 -0.517187\n",
      "747  2.875954  1.060244 -0.469329\n",
      "748  2.875954  1.624438 -0.396048\n",
      "749  2.875954  2.419041 -0.260142\n"
     ]
    },
    {
     "data": {
      "image/png": "[encoded data removed]",
      "text/plain": [
       "<Figure size 432x288 with 1 Axes>"
      ]
     },
     "metadata": {
      "needs_background": "light"
     },
     "output_type": "display_data"
    }
   ],
   "source": [
    "x=data_stable_optimal_clean.values\n",
    "scaler = preprocessing.StandardScaler()\n",
    "x_scaled = scaler.fit_transform(x)\n",
    "data_stable_optimal_clean = pd.DataFrame(x_scaled)\n",
    "data_stable_optimal_clean.columns = ['alpha','dx','dt']\n",
    "print(data_stable_optimal_clean.tail())\n",
    "X=(data_stable_optimal_clean['dx']*data_stable_optimal_clean['dx'])/(2*data_stable_optimal_clean['alpha'])\n",
    "Y=data_stable_optimal_clean['dt']\n",
    "plt.scatter(X.values,Y.values)"
   ]
  },
  {
   "cell_type": "markdown",
   "metadata": {},
   "source": [
    "On divise les données en une base d'entraînement, qui contient 75% des données, et une base de test, qui contient le reste."
   ]
  },
  {
   "cell_type": "code",
   "execution_count": 6,
   "metadata": {},
   "outputs": [],
   "source": [
    "train_dataset = data_stable_optimal_clean.sample(frac=0.8,random_state=0)\n",
    "test_dataset = data_stable_optimal_clean.drop(train_dataset.index)\n",
    "#print(test_dataset.tail())\n",
    "train_labels = train_dataset.pop('dt')\n",
    "test_labels = test_dataset.pop('dt')\n",
    "#print(test_labels.tail() )\n",
    "train_labels = np.asarray(train_labels)\n",
    "test_labels = np.asarray(test_labels)\n",
    "train_dataset = np.asarray(train_dataset)\n",
    "test_dataset = np.asarray(test_dataset)"
   ]
  },
  {
   "cell_type": "markdown",
   "metadata": {},
   "source": [
    "Ici on défine la fonction du réseau, avec 3 couches de 5 neurones, qui donne en total 81 degrés de liberté"
   ]
  },
  {
   "cell_type": "code",
   "execution_count": 7,
   "metadata": {},
   "outputs": [
    {
     "name": "stdout",
     "output_type": "stream",
     "text": [
      "Model: \"sequential\"\n",
      "_________________________________________________________________\n",
      "Layer (type)                 Output Shape              Param #   \n",
      "=================================================================\n",
      "dense (Dense)                (None, 5)                 15        \n",
      "_________________________________________________________________\n",
      "leaky_re_lu (LeakyReLU)      (None, 5)                 0         \n",
      "_________________________________________________________________\n",
      "dense_1 (Dense)              (None, 20)                120       \n",
      "_________________________________________________________________\n",
      "leaky_re_lu_1 (LeakyReLU)    (None, 20)                0         \n",
      "_________________________________________________________________\n",
      "dense_2 (Dense)              (None, 20)                420       \n",
      "_________________________________________________________________\n",
      "leaky_re_lu_2 (LeakyReLU)    (None, 20)                0         \n",
      "_________________________________________________________________\n",
      "dense_3 (Dense)              (None, 1)                 21        \n",
      "=================================================================\n",
      "Total params: 576\n",
      "Trainable params: 576\n",
      "Non-trainable params: 0\n",
      "_________________________________________________________________\n"
     ]
    }
   ],
   "source": [
    "def build_model():\n",
    "    model = keras.Sequential()\n",
    "    model.add(layers.Dense(5,use_bias=True,input_shape=[train_dataset.shape[1]]))\n",
    "    model.add(LeakyReLU(alpha=0.1))\n",
    "    model.add(layers.Dense(20,use_bias=True,input_shape=[train_dataset.shape[1]]))\n",
    "    model.add(LeakyReLU(alpha=0.1))\n",
    "    model.add(layers.Dense(20,use_bias=True,input_shape=[train_dataset.shape[1]]))\n",
    "    model.add(LeakyReLU(alpha=0.1))\n",
    "    model.add(layers.Dense(1,use_bias=True,activation='linear'))\n",
    "\n",
    "    return model\n",
    "\n",
    "model = build_model()\n",
    "model.summary()"
   ]
  },
  {
   "cell_type": "markdown",
   "metadata": {},
   "source": [
    "Ici la définition de la fonction d'optimisation pour le réseau. D'après nos essais, avec 1000 epoches, la courbe de résidu atteint son asymptote."
   ]
  },
  {
   "cell_type": "code",
   "execution_count": 8,
   "metadata": {},
   "outputs": [
    {
     "name": "stdout",
     "output_type": "stream",
     "text": [
      "[[-0.007711  ]\n",
      " [-0.06593682]\n",
      " [-0.26198637]\n",
      " [-0.0324384 ]\n",
      " [ 0.06541371]\n",
      " [ 0.06035062]\n",
      " [ 0.5626937 ]\n",
      " [-0.95459104]\n",
      " [ 0.04385262]\n",
      " [-0.03126336]]\n",
      "[[ 0.05883849  0.0513119 ]\n",
      " [-0.93963282 -0.16152412]\n",
      " [-0.54737623  0.63870714]\n",
      " [-1.08227158 -0.98576116]\n",
      " [ 0.29062647 -0.16152412]\n",
      " [ 0.23713694 -0.3386386 ]\n",
      " [ 2.60850629 -1.05364356]\n",
      " [-1.13576111  2.41904077]\n",
      " [ 0.05883849 -0.82426767]\n",
      " [-0.8148239  -0.3386386 ]]\n"
     ]
    }
   ],
   "source": [
    "def train_model():\n",
    "  \n",
    "    \n",
    "  optimizer = tf.optimizers.Adam() #\n",
    "\n",
    "  model.compile(loss='mse',\n",
    "                optimizer=optimizer,\n",
    "                metrics=['mse'])\n",
    "\n",
    "  early_stop = keras.callbacks.EarlyStopping(monitor='val_mse',min_delta=1e-17, patience=10)\n",
    "  logdir = os.path.join(\"logs\", datetime.datetime.now().strftime(\"%Y%m%d-%H%M%S\"))\n",
    "  tensorboard_callback = tf.keras.callbacks.TensorBoard(logdir, histogram_freq=1,profile_batch=0)\n",
    "\n",
    "\n",
    "  model.fit(train_dataset, \n",
    "            train_labels, \n",
    "            epochs=7000,\n",
    "            batch_size=1000,\n",
    "            validation_split = 0.5, \n",
    "            verbose=0, \n",
    "            callbacks=[early_stop,tensorboard_callback])\n",
    "    \n",
    "  \n",
    "example_batch = train_dataset[:10]\n",
    "example_result = model.predict(example_batch)\n",
    "print(example_result)\n",
    "print(example_batch)"
   ]
  },
  {
   "cell_type": "markdown",
   "metadata": {},
   "source": [
    "Entraînement du modèle."
   ]
  },
  {
   "cell_type": "code",
   "execution_count": 9,
   "metadata": {},
   "outputs": [],
   "source": [
    "train_model()\n",
    "model.save(\"diffusion1D_modele_entraine_more_neurons_4_bis.h5\")"
   ]
  },
  {
   "cell_type": "markdown",
   "metadata": {},
   "source": [
    "Par la suite, on affiche les résultats d'entraînement du réseau par rapport à la base de test."
   ]
  },
  {
   "cell_type": "code",
   "execution_count": 10,
   "metadata": {},
   "outputs": [],
   "source": [
    "def evaluate(model, test_features, test_labels):\n",
    "    predictions = model.predict(test_features).flatten()\n",
    "    #R2\n",
    "    R2=metrics.r2_score(test_labels, predictions)\n",
    "    #Correlation entre predictions et vraies donnees\n",
    "    Correl=np.corrcoef(test_labels, predictions)[0, 1]\n",
    "    print('Model Performance:')\n",
    "    print('Correlation: {:0.4f}.'.format(Correl))\n",
    "    print('R2: {:0.4f}.'.format(R2))"
   ]
  },
  {
   "cell_type": "code",
   "execution_count": 11,
   "metadata": {},
   "outputs": [],
   "source": [
    "def visualize(model, test_features, test_labels):\n",
    "    X_test=test_labels\n",
    "    Y_pred=model.predict(test_features).flatten()\n",
    "    Y_test=test_labels\n",
    "    plt.scatter(Y_test,Y_pred, color = 'red',marker=\".\")\n",
    "    plt.scatter(Y_test,Y_test, color = 'black',marker=\".\")\n",
    "    plt.title('ANN Regression Results')\n",
    "    plt.xlabel('dt_exact')\n",
    "    plt.ylabel('dt_model')\n",
    "    plt.xscale('log')\n",
    "    plt.yscale('log')\n",
    "    plt.show()"
   ]
  },
  {
   "cell_type": "code",
   "execution_count": 12,
   "metadata": {},
   "outputs": [
    {
     "name": "stdout",
     "output_type": "stream",
     "text": [
      "Model Performance:\n",
      "Correlation: 0.9957.\n",
      "R2: 0.9854.\n"
     ]
    },
    {
     "data": {
      "image/png": "[encoded data removed]",
      "text/plain": [
       "<Figure size 432x288 with 1 Axes>"
      ]
     },
     "metadata": {
      "needs_background": "light"
     },
     "output_type": "display_data"
    },
    {
     "name": "stdout",
     "output_type": "stream",
     "text": [
      "[[-1.13576111  0.0513119 ]\n",
      " [-1.13576111  0.63870714]\n",
      " [-1.10010142 -0.72732564]\n",
      " [-1.10010142 -0.16152412]\n",
      " [-1.10010142  1.62443767]\n",
      " [-1.08227158 -0.90983855]\n",
      " [-1.08227158 -0.48830149]\n",
      " [-1.08227158  0.63870714]\n",
      " [-1.08227158  1.0602442 ]\n",
      " [-1.08227158  1.62443767]\n",
      " [-1.04661189 -0.90983855]\n",
      " [-1.04661189 -0.16152412]\n",
      " [-1.04661189  1.0602442 ]\n",
      " [-1.04661189  1.62443767]\n",
      " [-1.02878204  0.31204463]\n",
      " [-1.02878204  1.0602442 ]\n",
      " [-0.99312235 -0.61648551]\n",
      " [-0.99312235 -0.3386386 ]\n",
      " [-0.99312235  0.0513119 ]\n",
      " [-0.99312235  0.63870714]\n",
      " [-0.99312235  1.0602442 ]\n",
      " [-0.97529251 -0.98576116]\n",
      " [-0.97529251 -0.72732564]\n",
      " [-0.97529251 -0.61648551]\n",
      " [-0.97529251 -0.16152412]\n",
      " [-0.97529251  0.0513119 ]\n",
      " [-0.93963282  0.31204463]\n",
      " [-0.93963282  2.41904077]\n",
      " [-0.92180297 -0.82426767]\n",
      " [-0.92180297 -0.16152412]\n",
      " [-0.92180297  0.31204463]\n",
      " [-0.92180297  0.63870714]\n",
      " [-0.88614328 -0.72732564]\n",
      " [-0.88614328 -0.16152412]\n",
      " [-0.88614328  1.0602442 ]\n",
      " [-0.88614328  1.62443767]\n",
      " [-0.86831344 -0.98576116]\n",
      " [-0.8148239  -0.72732564]\n",
      " [-0.8148239   0.0513119 ]\n",
      " [-0.8148239   1.0602442 ]\n",
      " [-0.77916422 -1.05364356]\n",
      " [-0.77916422 -0.90983855]\n",
      " [-0.77916422 -0.82426767]\n",
      " [-0.77916422 -0.72732564]\n",
      " [-0.77916422  1.0602442 ]\n",
      " [-0.72567468 -0.90983855]\n",
      " [-0.72567468 -0.48830149]\n",
      " [-0.72567468 -0.16152412]\n",
      " [-0.72567468  2.41904077]\n",
      " [-0.63652546 -0.98576116]\n",
      " [-0.63652546 -0.90983855]\n",
      " [-0.60086577 -0.72732564]\n",
      " [-0.60086577 -0.16152412]\n",
      " [-0.54737623 -0.98576116]\n",
      " [-0.54737623 -0.90983855]\n",
      " [-0.54737623 -0.61648551]\n",
      " [-0.54737623  0.31204463]\n",
      " [-0.54737623  2.41904077]\n",
      " [-0.51171654 -0.82426767]\n",
      " [-0.51171654 -0.61648551]\n",
      " [-0.51171654 -0.3386386 ]\n",
      " [-0.51171654  0.31204463]\n",
      " [-0.45822701 -0.98576116]\n",
      " [-0.45822701 -0.82426767]\n",
      " [-0.45822701 -0.48830149]\n",
      " [-0.45822701 -0.3386386 ]\n",
      " [-0.45822701  0.63870714]\n",
      " [-0.42256732 -0.61648551]\n",
      " [-0.42256732 -0.3386386 ]\n",
      " [-0.42256732  2.41904077]\n",
      " [-0.36907779 -0.48830149]\n",
      " [-0.36907779 -0.16152412]\n",
      " [-0.36907779  0.0513119 ]\n",
      " [-0.36907779  1.62443767]\n",
      " [-0.3334181  -0.61648551]\n",
      " [-0.27992856  2.41904077]\n",
      " [-0.24426887 -0.16152412]\n",
      " [-0.24426887  0.31204463]\n",
      " [-0.24426887  0.63870714]\n",
      " [-0.24426887  1.62443767]\n",
      " [-0.19077934 -0.90983855]\n",
      " [-0.19077934 -0.16152412]\n",
      " [-0.19077934  1.0602442 ]\n",
      " [-0.19077934  1.62443767]\n",
      " [-0.15511965 -0.48830149]\n",
      " [-0.15511965 -0.16152412]\n",
      " [-0.10163012 -0.61648551]\n",
      " [-0.10163012 -0.48830149]\n",
      " [-0.06597043 -0.82426767]\n",
      " [-0.06597043  0.31204463]\n",
      " [-0.06597043  0.63870714]\n",
      " [-0.01248089 -0.3386386 ]\n",
      " [-0.01248089  0.0513119 ]\n",
      " [-0.01248089  1.62443767]\n",
      " [ 0.0231788  -1.05364356]\n",
      " [ 0.0231788   0.0513119 ]\n",
      " [ 0.0231788   0.63870714]\n",
      " [ 0.05883849 -0.3386386 ]\n",
      " [ 0.11232802 -0.48830149]\n",
      " [ 0.11232802 -0.16152412]\n",
      " [ 0.20147725 -1.05364356]\n",
      " [ 0.20147725 -0.90983855]\n",
      " [ 0.20147725 -0.61648551]\n",
      " [ 0.23713694  1.0602442 ]\n",
      " [ 0.29062647 -0.82426767]\n",
      " [ 0.29062647 -0.72732564]\n",
      " [ 0.29062647  0.31204463]\n",
      " [ 0.29062647  0.63870714]\n",
      " [ 0.29062647  2.41904077]\n",
      " [ 0.32628616 -1.05364356]\n",
      " [ 0.32628616 -0.72732564]\n",
      " [ 0.32628616 -0.61648551]\n",
      " [ 0.32628616 -0.3386386 ]\n",
      " [ 0.32628616  0.31204463]\n",
      " [ 0.37977569 -0.72732564]\n",
      " [ 0.37977569  0.63870714]\n",
      " [ 0.41543538 -0.72732564]\n",
      " [ 0.41543538  0.0513119 ]\n",
      " [ 0.41543538  1.62443767]\n",
      " [ 0.41543538  2.41904077]\n",
      " [ 0.46892492 -1.05364356]\n",
      " [ 0.46892492 -0.48830149]\n",
      " [ 0.46892492 -0.3386386 ]\n",
      " [ 0.46892492  0.31204463]\n",
      " [ 0.46892492  0.63870714]\n",
      " [ 0.73637259 -0.90983855]\n",
      " [ 0.73637259  2.41904077]\n",
      " [ 1.00382026 -0.82426767]\n",
      " [ 1.00382026  0.0513119 ]\n",
      " [ 1.27126793 -0.16152412]\n",
      " [ 1.27126793  0.63870714]\n",
      " [ 1.27126793  2.41904077]\n",
      " [ 1.5387156  -1.05364356]\n",
      " [ 1.5387156   1.62443767]\n",
      " [ 1.80616327 -1.05364356]\n",
      " [ 1.80616327 -0.90983855]\n",
      " [ 1.80616327  0.0513119 ]\n",
      " [ 2.07361094 -0.3386386 ]\n",
      " [ 2.07361094  0.0513119 ]\n",
      " [ 2.07361094  1.0602442 ]\n",
      " [ 2.07361094  1.62443767]\n",
      " [ 2.34105862 -1.05364356]\n",
      " [ 2.34105862 -0.90983855]\n",
      " [ 2.34105862 -0.72732564]\n",
      " [ 2.34105862 -0.48830149]\n",
      " [ 2.34105862 -0.16152412]\n",
      " [ 2.60850629 -0.90983855]\n",
      " [ 2.60850629 -0.82426767]\n",
      " [ 2.60850629  0.31204463]\n",
      " [ 2.87595396 -0.90983855]]\n",
      "[ 1.72304349e+00  3.05396441e+00  1.85584110e-01  9.18349910e-01\n",
      "  4.82295700e+00 -5.68992348e-02  3.78832447e-01  2.19322529e+00\n",
      "  3.05834696e+00  4.38304808e+00 -1.43133060e-01  6.41187732e-01\n",
      "  2.54327776e+00  3.68526136e+00  1.17106947e+00  2.35817472e+00\n",
      "  4.17778376e-04  2.42473104e-01  6.42198483e-01  1.37347375e+00\n",
      "  1.88472490e+00 -2.97880866e-01 -1.32751188e-01 -5.29761196e-02\n",
      "  3.29244718e-01  5.86699433e-01  7.10192205e-01  3.91363819e+00\n",
      " -2.63279684e-01  1.92178873e-01  6.67349128e-01  1.01949016e+00\n",
      " -2.36759449e-01  1.36769239e-01  1.31039918e+00  2.01502750e+00\n",
      " -3.88606655e-01 -3.00635106e-01  1.62888162e-01  1.02148225e+00\n",
      " -4.60903157e-01 -4.07669148e-01 -3.73313153e-01 -3.31907670e-01\n",
      "  9.42270853e-01 -4.28302652e-01 -2.54010096e-01 -8.82789798e-02\n",
      "  2.21903761e+00 -4.84372786e-01 -4.61316351e-01 -4.17907014e-01\n",
      " -1.98458926e-01 -5.06906021e-01 -4.86562059e-01 -3.97419164e-01\n",
      " -7.31703533e-03  1.53787457e+00 -4.74177157e-01 -4.12890556e-01\n",
      " -3.18758027e-01 -1.92029744e-02 -5.24695398e-01 -4.84794334e-01\n",
      " -3.87240006e-01 -3.37555214e-01  1.09330610e-01 -4.39192076e-01\n",
      " -3.54472671e-01  1.27818128e+00 -4.14731932e-01 -3.12136557e-01\n",
      " -2.36537204e-01  5.76788052e-01 -4.60711383e-01  9.60366833e-01\n",
      " -3.57607633e-01 -1.83378493e-01 -5.42601766e-02  4.20201459e-01\n",
      " -5.47151806e-01 -3.70339492e-01  1.00819409e-01  3.76357161e-01\n",
      " -4.64957572e-01 -3.82092013e-01 -5.00562092e-01 -4.72770389e-01\n",
      " -5.46222824e-01 -2.53739496e-01 -1.43066587e-01 -4.54227566e-01\n",
      " -3.57742110e-01  2.31217546e-01 -5.89904291e-01 -3.56045211e-01\n",
      " -1.78589104e-01 -4.60234303e-01 -5.04510150e-01 -4.37181987e-01\n",
      " -6.00022034e-01 -5.81233553e-01 -5.36662164e-01 -1.21101848e-01\n",
      " -5.75041043e-01 -5.61239254e-01 -3.47554011e-01 -2.61475133e-01\n",
      "  4.09698405e-01 -6.06174660e-01 -5.64338333e-01 -5.47952077e-01\n",
      " -5.02157810e-01 -3.56428404e-01 -5.67274228e-01 -2.83287160e-01\n",
      " -5.70059646e-01 -4.29859074e-01 -1.37794834e-03  3.26190465e-01\n",
      " -6.11404421e-01 -5.38789200e-01 -5.15188859e-01 -3.80389114e-01\n",
      " -3.02918148e-01 -6.05930413e-01  1.73697700e-01 -6.06076185e-01\n",
      " -4.91370508e-01 -5.44195793e-01 -4.18672695e-01 -2.08221488e-03\n",
      " -6.35592200e-01 -2.64865166e-01 -6.39047530e-01 -6.29921713e-01\n",
      " -5.38822260e-01 -5.91317530e-01 -5.49644623e-01 -4.20403595e-01\n",
      " -3.29766163e-01 -6.44441298e-01 -6.36651070e-01 -6.25563990e-01\n",
      " -6.09019256e-01 -5.82744797e-01 -6.39327424e-01 -6.34642511e-01\n",
      " -5.41579677e-01 -6.41662116e-01]\n"
     ]
    }
   ],
   "source": [
    "evaluate(model,test_dataset,test_labels)\n",
    "visualize(model,test_dataset,test_labels)\n",
    "print(test_dataset)\n",
    "print(test_labels)"
   ]
  },
  {
   "cell_type": "code",
   "execution_count": 13,
   "metadata": {},
   "outputs": [
    {
     "data": {
      "text/plain": [
       "Reusing TensorBoard on port 6006 (pid 13812), started 7 days, 0:56:20 ago. (Use '!kill 13812' to kill it.)"
      ]
     },
     "metadata": {},
     "output_type": "display_data"
    },
    {
     "data": {
      "text/html": [
       "\n",
       "      <iframe id=\"tensorboard-frame-7d8f411ff906070f\" width=\"100%\" height=\"800\" frameborder=\"0\">\n",
       "      </iframe>\n",
       "      <script>\n",
       "        (function() {\n",
       "          const frame = document.getElementById(\"tensorboard-frame-7d8f411ff906070f\");\n",
       "          const url = new URL(\"/\", window.location);\n",
       "          const port = 6006;\n",
       "          if (port) {\n",
       "            url.port = port;\n",
       "          }\n",
       "          frame.src = url;\n",
       "        })();\n",
       "      </script>\n",
       "    "
      ],
      "text/plain": [
       "<IPython.core.display.HTML object>"
      ]
     },
     "metadata": {},
     "output_type": "display_data"
    }
   ],
   "source": [
    "%reload_ext tensorboard\n",
    "%tensorboard --logdir logs\n",
    "\n",
    "###%tensorboard dev upload --logdir \\'logs'\n",
    "### Dans Anaconda Prompt\n",
    "### cd C:\\Users\\jonat\\Git\\PE-001\\Private\\Jupyter_notebook\\Pull corr\\Diffusion1D\n",
    "### tensorboard --logdir logs"
   ]
  },
  {
   "cell_type": "code",
   "execution_count": null,
   "metadata": {},
   "outputs": [],
   "source": []
  },
  {
   "cell_type": "code",
   "execution_count": null,
   "metadata": {},
   "outputs": [],
   "source": []
  },
  {
   "cell_type": "code",
   "execution_count": null,
   "metadata": {},
   "outputs": [],
   "source": []
  },
  {
   "cell_type": "code",
   "execution_count": null,
   "metadata": {},
   "outputs": [],
   "source": []
  }
 ],
 "metadata": {
  "kernelspec": {
   "display_name": "Python 3",
   "language": "python",
   "name": "python3"
  },
  "language_info": {
   "codemirror_mode": {
    "name": "ipython",
    "version": 3
   },
   "file_extension": ".py",
   "mimetype": "text/x-python",
   "name": "python",
   "nbconvert_exporter": "python",
   "pygments_lexer": "ipython3",
   "version": "3.8.3"
  }
 },
 "nbformat": 4,
 "nbformat_minor": 4
}
