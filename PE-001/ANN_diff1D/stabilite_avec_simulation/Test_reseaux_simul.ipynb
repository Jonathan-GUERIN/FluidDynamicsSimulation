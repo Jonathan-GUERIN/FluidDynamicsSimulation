{
 "cells": [
  {
   "cell_type": "markdown",
   "metadata": {},
   "source": [
    "Load a neural network and test it with a randomly generated set of paires of dx and alfa"
   ]
  },
  {
   "cell_type": "markdown",
   "metadata": {},
   "source": [
    "Import modules (reviser si tous sont necessaires)"
   ]
  },
  {
   "cell_type": "code",
   "execution_count": 5,
   "metadata": {},
   "outputs": [],
   "source": [
    "from __future__ import absolute_import, division, print_function, unicode_literals\n",
    "\n",
    "import sqlite3\n",
    "import pathlib\n",
    "import matplotlib.pyplot as plt\n",
    "import pandas as pd\n",
    "import seaborn as sns\n",
    "import sys\n",
    "import datetime, os\n",
    "from sklearn import metrics\n",
    "from sklearn import preprocessing\n",
    "from time import time\n",
    "\n",
    "import tensorflow as tf\n",
    "from tensorflow import keras\n",
    "from tensorflow.keras import layers\n",
    "from tensorflow.keras.layers import LeakyReLU\n",
    "from tensorflow.python.keras.callbacks import TensorBoard\n",
    "from tensorflow.keras.models import load_model\n",
    "\n",
    "import matplotlib.pyplot as plt\n",
    "from mpl_toolkits.mplot3d import Axes3D\n",
    "import numpy as np\n",
    "from matplotlib import cm\n",
    "\n",
    "import os"
   ]
  },
  {
   "cell_type": "markdown",
   "metadata": {},
   "source": [
    "Load neural network"
   ]
  },
  {
   "cell_type": "code",
   "execution_count": 6,
   "metadata": {},
   "outputs": [
    {
     "name": "stdout",
     "output_type": "stream",
     "text": [
      "Model: \"sequential\"\n",
      "_________________________________________________________________\n",
      "Layer (type)                 Output Shape              Param #   \n",
      "=================================================================\n",
      "dense (Dense)                (None, 5)                 15        \n",
      "_________________________________________________________________\n",
      "leaky_re_lu (LeakyReLU)      (None, 5)                 0         \n",
      "_________________________________________________________________\n",
      "dense_1 (Dense)              (None, 20)                120       \n",
      "_________________________________________________________________\n",
      "leaky_re_lu_1 (LeakyReLU)    (None, 20)                0         \n",
      "_________________________________________________________________\n",
      "dense_2 (Dense)              (None, 20)                420       \n",
      "_________________________________________________________________\n",
      "leaky_re_lu_2 (LeakyReLU)    (None, 20)                0         \n",
      "_________________________________________________________________\n",
      "dense_3 (Dense)              (None, 1)                 21        \n",
      "=================================================================\n",
      "Total params: 576\n",
      "Trainable params: 576\n",
      "Non-trainable params: 0\n",
      "_________________________________________________________________\n"
     ]
    }
   ],
   "source": [
    "reseaux = load_model('diffusion1D_modele_entraine_more_neurons_4.h5',compile=False)\n",
    "reseaux.summary()"
   ]
  },
  {
   "cell_type": "markdown",
   "metadata": {},
   "source": [
    "Code for a random vector of N pairs of alpha and dx between alphamax, alphamin, dxmax, dxmin;"
   ]
  },
  {
   "cell_type": "code",
   "execution_count": 7,
   "metadata": {},
   "outputs": [],
   "source": [
    "N = 5\n",
    "alphamax = 2\n",
    "alphamin = 0\n",
    "dxmax = 2\n",
    "dxmin = 0\n",
    "\n",
    "rand_array = np.random.rand(N,2)\n",
    "\n",
    "check_pairs = pd.DataFrame(rand_array)\n",
    "check_pairs.columns = ['alpha','dx']\n",
    "check_pairs['alpha'] = alphamin + (alphamax - alphamin)*check_pairs['alpha']\n",
    "check_pairs['dx'] = dxmin + (dxmax - dxmin)*check_pairs['dx']"
   ]
  },
  {
   "cell_type": "markdown",
   "metadata": {},
   "source": [
    "Code for manual choice of the alpha/dx pairs"
   ]
  },
  {
   "cell_type": "code",
   "execution_count": 8,
   "metadata": {},
   "outputs": [],
   "source": [
    "check_pairs = pd.DataFrame([[1,2],[3,4],[5,6]])\n",
    "check_pairs.columns = ['alpha','dx']"
   ]
  },
  {
   "cell_type": "markdown",
   "metadata": {},
   "source": [
    "Code for 3 samples with alpha fixed and 3 samples with dx fixed. "
   ]
  },
  {
   "cell_type": "code",
   "execution_count": 9,
   "metadata": {},
   "outputs": [],
   "source": [
    "N = 10 #sample size\n",
    "alphamax = 7.37000000e-05 + 0.5*5.61231659e-05\n",
    "alphamin = 7.37000000e-05 - 0.5*5.61231659e-05\n",
    "dxmax = 1.97552667e-02 + 0.5*8.71204326e-03\n",
    "dxmin = 1.97552667e-02 - 0.5*8.71204326e-03\n",
    "\n",
    "fixed_aplha1 = alphamin + (1/6)*(alphamax-alphamin)\n",
    "fixed_aplha2 = alphamin + (3/6)*(alphamax-alphamin)\n",
    "fixed_aplha3 = alphamin + (5/6)*(alphamax-alphamin)\n",
    "fixed_dx1 = dxmin + (1/6)*(dxmax-dxmin)\n",
    "fixed_dx2 = dxmin + (3/6)*(dxmax-dxmin)\n",
    "fixed_dx3 = dxmin + (5/6)*(dxmax-dxmin)\n",
    "\n",
    "np_changing_dx1 = (np.linspace(dxmin, dxmax, N))\n",
    "np_changing_alpha = (np.linspace(alphamin, alphamax, N))\n",
    "\n",
    "changing_alpha_serie = pd.Series(np.tile(np_changing_alpha,3))\n",
    "changing_dx1_serie = pd.Series(np.tile(np_changing_dx1,3))\n",
    "fixed_alpha_serie = pd.Series(np.array([fixed_aplha1,fixed_aplha2,fixed_aplha3]).repeat(N))\n",
    "fixed_dx_serie = pd.Series(np.array([fixed_dx1,fixed_dx2,fixed_dx3]).repeat(N))\n",
    "\n",
    "alpha_fixed_pairs = pd.DataFrame([fixed_alpha_serie,changing_dx1_serie]).T\n",
    "dx_fixed_pairs = pd.DataFrame([changing_alpha_serie,fixed_dx_serie]).T\n",
    "\n",
    "check_pairs = alpha_fixed_pairs.append(dx_fixed_pairs, ignore_index=True)\n",
    "check_pairs.columns = ['alpha','dx']"
   ]
  },
  {
   "cell_type": "code",
   "execution_count": 10,
   "metadata": {},
   "outputs": [
    {
     "name": "stdout",
     "output_type": "stream",
     "text": [
      "       alpha        dx\n",
      "0   0.000046  0.015399\n",
      "1   0.000046  0.016367\n",
      "2   0.000046  0.017335\n",
      "3   0.000046  0.018303\n",
      "4   0.000046  0.019271\n",
      "..       ...       ...\n",
      "95  0.000102  0.020239\n",
      "96  0.000102  0.021207\n",
      "97  0.000102  0.022175\n",
      "98  0.000102  0.023143\n",
      "99  0.000102  0.024111\n",
      "\n",
      "[100 rows x 2 columns]\n"
     ]
    }
   ],
   "source": [
    "N=10\n",
    "alphamax = 7.37000000e-05 + 0.5*5.61231659e-05\n",
    "alphamin = 7.37000000e-05 - 0.5*5.61231659e-05\n",
    "dxmax = 1.97552667e-02 + 0.5*8.71204326e-03\n",
    "dxmin = 1.97552667e-02 - 0.5*8.71204326e-03\n",
    "\n",
    "L_alpha=np.linspace(alphamin,alphamax,N)\n",
    "L_dx=np.linspace(dxmin,dxmax,N)\n",
    "\n",
    "changing_dx1_serie = pd.Series(np.tile(np_changing_dx1,3))\n",
    "\n",
    "series_alpha=pd.Series(np.array(L_alpha).repeat(N))\n",
    "series_dx=pd.Series(np.tile(L_dx,N))\n",
    "\n",
    "check_pairs=pd.DataFrame({'alpha':series_alpha,'dx':series_dx})\n",
    "print(check_pairs)"
   ]
  },
  {
   "cell_type": "markdown",
   "metadata": {},
   "source": [
    "Calcul of the biggest dt possible for each pair (the network shoul provide a value a little under this limit)"
   ]
  },
  {
   "cell_type": "code",
   "execution_count": 11,
   "metadata": {},
   "outputs": [
    {
     "name": "stdout",
     "output_type": "stream",
     "text": [
      "       alpha        dx\n",
      "0   0.000046  0.015399\n",
      "1   0.000046  0.016367\n",
      "2   0.000046  0.017335\n",
      "3   0.000046  0.018303\n",
      "4   0.000046  0.019271\n",
      "..       ...       ...\n",
      "95  0.000102  0.020239\n",
      "96  0.000102  0.021207\n",
      "97  0.000102  0.022175\n",
      "98  0.000102  0.023143\n",
      "99  0.000102  0.024111\n",
      "\n",
      "[100 rows x 2 columns]\n",
      "\n",
      "0     2.597995\n",
      "1     2.934883\n",
      "2     3.292304\n",
      "3     3.670256\n",
      "4     4.068739\n",
      "        ...   \n",
      "95    2.012685\n",
      "96    2.209815\n",
      "97    2.416152\n",
      "98    2.631698\n",
      "99    2.856452\n",
      "Name: expected_td, Length: 100, dtype: float64\n"
     ]
    }
   ],
   "source": [
    "expected_dt = 0.5*check_pairs['dx']*check_pairs['dx']/check_pairs['alpha']\n",
    "expected_dt.name = 'expected_td'\n",
    "print(check_pairs)\n",
    "print()\n",
    "print(expected_dt)"
   ]
  },
  {
   "cell_type": "markdown",
   "metadata": {},
   "source": [
    "Scale aplha, dx and dt to the format accepted by the network. At this moment, it creates a scaler with mean 0 and var 1, so it does not change de data"
   ]
  },
  {
   "cell_type": "code",
   "execution_count": 12,
   "metadata": {},
   "outputs": [
    {
     "name": "stdout",
     "output_type": "stream",
     "text": [
      "    alpha        dx\n",
      "0    -0.5 -0.500000\n",
      "1    -0.5 -0.388889\n",
      "2    -0.5 -0.277778\n",
      "3    -0.5 -0.166667\n",
      "4    -0.5 -0.055556\n",
      "..    ...       ...\n",
      "95    0.5  0.055556\n",
      "96    0.5  0.166667\n",
      "97    0.5  0.277778\n",
      "98    0.5  0.388889\n",
      "99    0.5  0.500000\n",
      "\n",
      "[100 rows x 2 columns]\n",
      "\n",
      "0    -0.370429\n",
      "1    -0.334062\n",
      "2    -0.295480\n",
      "3    -0.254681\n",
      "4    -0.211665\n",
      "        ...   \n",
      "95   -0.433611\n",
      "96   -0.412332\n",
      "97   -0.390058\n",
      "98   -0.366790\n",
      "99   -0.342529\n",
      "Name: expected_dt, Length: 100, dtype: float64\n"
     ]
    }
   ],
   "source": [
    "mean = np.array([[7.37000000e-05, 1.97552667e-02, 6.02955241e+00],[7.37000000e-05, 1.97552667e-02, 6.02955241e+00]])\n",
    "std = np.array([[5.61231659e-05, 8.71204326e-03, 9.26374808e+00],[-5.61231659e-05, -8.71204326e-03, -9.26374808e+00]])\n",
    "fit_data = mean + std\n",
    "Scaler = preprocessing.StandardScaler()\n",
    "Scaler.fit(fit_data)\n",
    "temp_matrix = check_pairs.join(expected_dt)\n",
    "scaled_temp_matrix = pd.DataFrame(Scaler.transform(temp_matrix))\n",
    "scaled_temp_matrix.columns = ['alpha','dx','expected_dt']\n",
    "expected_dt = scaled_temp_matrix.pop('expected_dt')\n",
    "check_pairs = scaled_temp_matrix\n",
    "print(check_pairs)\n",
    "print()\n",
    "print(expected_dt)"
   ]
  },
  {
   "cell_type": "markdown",
   "metadata": {},
   "source": [
    "Runs the network with the pairs alpha and dx. Then it compares the result with the expected dt to verify if the results are stable"
   ]
  },
  {
   "cell_type": "code",
   "execution_count": 13,
   "metadata": {},
   "outputs": [],
   "source": [
    "network_output = pd.Series(reseaux.predict(check_pairs).flatten())\n",
    "network_output.name = 'output'"
   ]
  },
  {
   "cell_type": "code",
   "execution_count": 14,
   "metadata": {},
   "outputs": [
    {
     "name": "stdout",
     "output_type": "stream",
     "text": [
      "       alpha        dx\n",
      "0   0.000046  0.015399\n",
      "1   0.000046  0.016367\n",
      "2   0.000046  0.017335\n",
      "3   0.000046  0.018303\n",
      "4   0.000046  0.019271\n",
      "..       ...       ...\n",
      "95  0.000102  0.020239\n",
      "96  0.000102  0.021207\n",
      "97  0.000102  0.022175\n",
      "98  0.000102  0.023143\n",
      "99  0.000102  0.024111\n",
      "\n",
      "[100 rows x 2 columns]\n",
      "\n",
      "0     2.597995\n",
      "1     2.934883\n",
      "2     3.292304\n",
      "3     3.670256\n",
      "4     4.068739\n",
      "        ...   \n",
      "95    2.012685\n",
      "96    2.209815\n",
      "97    2.416152\n",
      "98    2.631698\n",
      "99    2.856452\n",
      "Name: expected_dt, Length: 100, dtype: float64\n",
      "\n",
      "0     2.073947\n",
      "1     2.294045\n",
      "2     2.949358\n",
      "3     3.547201\n",
      "4     4.047519\n",
      "        ...   \n",
      "95    1.997930\n",
      "96    2.212192\n",
      "97    2.426454\n",
      "98    2.640713\n",
      "99    2.854976\n",
      "Name: network_output, Length: 100, dtype: float64\n"
     ]
    }
   ],
   "source": [
    "temp_matrix = check_pairs.join(expected_dt)\n",
    "scaled_temp_matrix = pd.DataFrame(Scaler.inverse_transform(temp_matrix))\n",
    "scaled_temp_matrix.columns = ['alpha','dx','expected_dt']\n",
    "expected_dt = scaled_temp_matrix.pop('expected_dt')\n",
    "check_pairs = scaled_temp_matrix\n",
    "temp_matrix = pd.DataFrame(np.zeros((6*N, 2)))\n",
    "temp_matrix = check_pairs.join(network_output)\n",
    "scaled_temp_matrix = pd.DataFrame(Scaler.inverse_transform(temp_matrix))\n",
    "scaled_temp_matrix.columns = ['alpha','dx','network_output']\n",
    "network_output = scaled_temp_matrix.pop('network_output')\n",
    "print(check_pairs)\n",
    "print()\n",
    "print(expected_dt)\n",
    "print()\n",
    "print(network_output)"
   ]
  },
  {
   "cell_type": "code",
   "execution_count": 15,
   "metadata": {},
   "outputs": [
    {
     "name": "stdout",
     "output_type": "stream",
     "text": [
      "     network  expected\n",
      "0   2.073947  2.597995\n",
      "1   2.294045  2.934883\n",
      "2   2.949358  3.292304\n",
      "3   3.547201  3.670256\n",
      "4   4.047519  4.068739\n",
      "..       ...       ...\n",
      "95  1.997930  2.012685\n",
      "96  2.212192  2.209815\n",
      "97  2.426454  2.416152\n",
      "98  2.640713  2.631698\n",
      "99  2.854976  2.856452\n",
      "\n",
      "[100 rows x 2 columns]\n",
      "\n",
      "    Is stable ?\n",
      "0          True\n",
      "1          True\n",
      "2          True\n",
      "3          True\n",
      "4          True\n",
      "..          ...\n",
      "95         True\n",
      "96        False\n",
      "97        False\n",
      "98        False\n",
      "99         True\n",
      "\n",
      "[100 rows x 1 columns]\n"
     ]
    }
   ],
   "source": [
    "stable = pd.DataFrame(network_output<expected_dt)\n",
    "stable.columns = ['Is stable ?']\n",
    "compare = pd.DataFrame([network_output,expected_dt]).T\n",
    "compare.columns = ['network','expected']\n",
    "print(compare)\n",
    "print('')\n",
    "print(stable)"
   ]
  },
  {
   "cell_type": "markdown",
   "metadata": {},
   "source": [
    "Generates 3 graphs of dt vs aplha and 3 graphs of dt vs dx."
   ]
  },
  {
   "cell_type": "code",
   "execution_count": 16,
   "metadata": {},
   "outputs": [],
   "source": [
    "def graph(fixed_name, fixed_value, changing_value, expected_result, result, axis_name):\n",
    "    plt.plot(changing_value,expected_result, color = 'red',marker=\".\")\n",
    "    plt.scatter(changing_value,result, color = 'black',marker=\".\")\n",
    "    plt.title('dt for '+ fixed_name + '='+ str(fixed_value))\n",
    "    plt.xlabel(axis_name)\n",
    "    plt.ylabel('dt')\n",
    "    plt.show()"
   ]
  },
  {
   "cell_type": "code",
   "execution_count": 17,
   "metadata": {},
   "outputs": [],
   "source": [
    "expected_dt_1 = expected_dt[0:N]\n",
    "expected_dt_2 = expected_dt[N:2*N]\n",
    "expected_dt_3 = expected_dt[2*N:3*N]\n",
    "expected_dt_4 = expected_dt[3*N:4*N]\n",
    "expected_dt_5 = expected_dt[4*N:5*N]\n",
    "expected_dt_6 = expected_dt[5*N:6*N]\n",
    "\n",
    "network_output_1 = network_output[0:N]\n",
    "network_output_2 = network_output[N:2*N]\n",
    "network_output_3 = network_output[2*N:3*N]\n",
    "network_output_4 = network_output[3*N:4*N]\n",
    "network_output_5 = network_output[4*N:5*N]\n",
    "network_output_6 = network_output[5*N:6*N]\n",
    "\n",
    "graph_changing_dx = check_pairs['dx'][0:N]\n",
    "graph_changing_alpha = check_pairs['alpha'][3*N:4*N]\n",
    "\n",
    "graph_fixed_alpha_1 = check_pairs['alpha'][0]\n",
    "graph_fixed_alpha_2 = check_pairs['alpha'][N]\n",
    "graph_fixed_alpha_3 = check_pairs['alpha'][2*N]\n",
    "\n",
    "graph_fixed_dx_1 = check_pairs['dx'][3*N]\n",
    "graph_fixed_dx_2 = check_pairs['dx'][4*N]\n",
    "graph_fixed_dx_3 = check_pairs['dx'][5*N]\n",
    "\n",
    "#graph('alpha', graph_fixed_alpha_1, graph_changing_dx, expected_dt_1, network_output_1,'dx')\n",
    "#graph('alpha', graph_fixed_alpha_2, graph_changing_dx, expected_dt_2, network_output_2,'dx')\n",
    "#graph('alpha', graph_fixed_alpha_3, graph_changing_dx, expected_dt_3, network_output_3,'dx')\n",
    "#graph('dx', graph_fixed_dx_1, graph_changing_alpha, expected_dt_4, network_output_4,'alpha')\n",
    "#graph('dx', graph_fixed_dx_2, graph_changing_alpha, expected_dt_5, network_output_5,'alpha')\n",
    "#graph('dx', graph_fixed_dx_3, graph_changing_alpha, expected_dt_6, network_output_6,'alpha')\n",
    "\n"
   ]
  },
  {
   "cell_type": "code",
   "execution_count": 18,
   "metadata": {},
   "outputs": [
    {
     "name": "stdout",
     "output_type": "stream",
     "text": [
      "(10, 10)\n",
      "(10, 10)\n",
      "(10, 10)\n"
     ]
    },
    {
     "data": {
      "image/png": "[encoded data removed]",
      "text/plain": [
       "<Figure size 432x288 with 2 Axes>"
      ]
     },
     "metadata": {
      "needs_background": "light"
     },
     "output_type": "display_data"
    }
   ],
   "source": [
    "fig = plt.figure()\n",
    "ax = fig.add_subplot(111, projection='3d')\n",
    "\n",
    "ax.set_xlabel('alpha')\n",
    "ax.set_ylabel('dx')\n",
    "ax.set_zlabel('diff_dt')\n",
    "\n",
    "alpha=check_pairs['alpha'].values\n",
    "dx=check_pairs['dx'].values\n",
    "diff_dt=expected_dt-network_output\n",
    "ax.scatter(alpha,dx,diff_dt,zdir='z',c='b',marker='o')\n",
    "\n",
    "alpha_list=(check_pairs['alpha'].unique())\n",
    "#L_alpha=np.linspace(alphamin,alphamax,N)\n",
    "dx_list=dx[:N]\n",
    "#L_dx=np.linspace(dxmin,dxmax,N)\n",
    "dx_grid,alpha_grid=np.meshgrid(dx_list,alpha_list)\n",
    "\n",
    "diff_dt_list=[]\n",
    "little=diff_dt.values\n",
    "for i in range(N):\n",
    "    L=[]\n",
    "    for j in range(N):\n",
    "        L.append(little[(j+i*N)])\n",
    "    diff_dt_list.append(L)\n",
    "diff_dt_grid=np.array(diff_dt_list)\n",
    "print(dx_grid.shape)\n",
    "print(alpha_grid.shape)\n",
    "print(diff_dt_grid.shape)\n",
    "\n",
    "surf = ax.plot_surface(alpha_grid, dx_grid, diff_dt_grid, cmap=cm.coolwarm, linewidth=0, antialiased=False)\n",
    "fig.colorbar(surf, shrink=0.5, aspect=5)\n",
    "plt.show()"
   ]
  },
  {
   "cell_type": "code",
   "execution_count": null,
   "metadata": {},
   "outputs": [],
   "source": []
  }
 ],
 "metadata": {
  "kernelspec": {
   "display_name": "Python 3",
   "language": "python",
   "name": "python3"
  },
  "language_info": {
   "codemirror_mode": {
    "name": "ipython",
    "version": 3
   },
   "file_extension": ".py",
   "mimetype": "text/x-python",
   "name": "python",
   "nbconvert_exporter": "python",
   "pygments_lexer": "ipython3",
   "version": "3.8.3"
  }
 },
 "nbformat": 4,
 "nbformat_minor": 4
}
