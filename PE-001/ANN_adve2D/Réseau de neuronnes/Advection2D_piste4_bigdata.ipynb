{
 "cells": [
  {
   "cell_type": "markdown",
   "metadata": {},
   "source": [
    "# Réseau de neurones pour le calcul de flux pour l'advection en 2D"
   ]
  },
  {
   "cell_type": "markdown",
   "metadata": {},
   "source": [
    "Importer les bibliothèques utiles "
   ]
  },
  {
   "cell_type": "code",
   "execution_count": 1,
   "metadata": {},
   "outputs": [],
   "source": [
    "from __future__ import absolute_import, division, print_function, unicode_literals\n",
    "\n",
    "import sqlite3\n",
    "import pathlib\n",
    "import matplotlib.pyplot as plt\n",
    "import pandas as pd\n",
    "import seaborn as sns\n",
    "import numpy as np\n",
    "import sys\n",
    "import datetime, os\n",
    "from sklearn import metrics\n",
    "from sklearn import preprocessing\n",
    "from sklearn.utils import shuffle\n",
    "from time import time\n",
    "\n",
    "import tensorflow as tf\n",
    "from tensorflow import keras\n",
    "from tensorflow.keras import layers\n",
    "from tensorflow.keras.layers import LeakyReLU\n",
    "from tensorflow.python.keras.callbacks import TensorBoard\n",
    "from tensorflow.keras.models import load_model\n",
    "\n",
    "\n",
    "import matplotlib.pyplot as plt\n",
    "from mpl_toolkits.mplot3d import Axes3D\n",
    "import numpy as np\n",
    "from matplotlib import cm\n",
    "\n",
    "from sklearn.preprocessing import StandardScaler\n",
    "\n",
    "\n",
    "from sklearn.model_selection import GridSearchCV"
   ]
  },
  {
   "cell_type": "markdown",
   "metadata": {},
   "source": [
    "# Importer la grande base"
   ]
  },
  {
   "cell_type": "code",
   "execution_count": 2,
   "metadata": {},
   "outputs": [
    {
     "name": "stdout",
     "output_type": "stream",
     "text": [
      "                   P1            P2            P3            P4            P5  \\\n",
      "3991999  1.044813e-24  1.365423e-24  1.783170e-24  1.044813e-24  1.580897e-24   \n",
      "3992000  1.073063e-24  9.264329e-25  7.989262e-25  1.401159e-24  1.210625e-24   \n",
      "3992001  1.828304e-24  1.401159e-24  1.073063e-24  1.580897e-24  1.210625e-24   \n",
      "3992002  1.365423e-24  1.580897e-24  1.828304e-24  1.044813e-24  1.210625e-24   \n",
      "3992003  7.989262e-25  1.044813e-24  1.365423e-24  7.989262e-25  1.210625e-24   \n",
      "\n",
      "                   P6            P7            P8            P9            F1  \\\n",
      "3991999  2.384010e-24  1.401159e-24  1.401159e-24  2.384010e-24  1.127537e-27   \n",
      "3992000  1.044813e-24  1.828304e-24  1.580897e-24  1.365423e-24  5.199348e-28   \n",
      "3992001  7.989262e-25  1.365423e-24  1.044813e-24  7.989262e-25  1.000165e-27   \n",
      "3992002  1.073063e-24  7.989262e-25  7.989262e-25  1.073063e-24  6.791624e-28   \n",
      "3992003  1.828304e-24  1.073063e-24  1.073063e-24  1.828304e-24  8.637148e-28   \n",
      "\n",
      "         ...            F3            F4        A1        B1        A2  \\\n",
      "3991999  ...  8.865358e-28  1.304662e-27 -0.542402  0.840119 -0.541563   \n",
      "3992000  ...  8.637148e-28  6.791624e-28  0.840660  0.541563  0.840119   \n",
      "3992001  ...  5.199348e-28  8.637148e-28  0.542402 -0.840119  0.542402   \n",
      "3992002  ...  1.000165e-27  5.199348e-28 -0.840119 -0.542402 -0.840660   \n",
      "3992003  ...  6.791624e-28  1.000165e-27 -0.541563  0.840660 -0.541563   \n",
      "\n",
      "               B2        A3        B3        A4        B4  \n",
      "3991999  0.840660 -0.542402  0.840119 -0.543241  0.839577  \n",
      "3992000  0.542402  0.840660  0.541563  0.840119  0.542402  \n",
      "3992001 -0.840119  0.541563 -0.840660  0.541563 -0.840660  \n",
      "3992002 -0.541563 -0.840119 -0.542402 -0.840660 -0.541563  \n",
      "3992003  0.840660 -0.542402  0.840119 -0.542402  0.840119  \n",
      "\n",
      "[5 rows x 21 columns]\n",
      "<class 'pandas.core.frame.DataFrame'>\n"
     ]
    }
   ],
   "source": [
    "con=sqlite3.connect('Table-2.db')\n",
    "raw_data=pd.read_sql_query(\"SELECT * FROM A\",con)\n",
    "data = raw_data.copy()\n",
    "print(data.tail())\n",
    "print(type(data))"
   ]
  },
  {
   "cell_type": "markdown",
   "metadata": {},
   "source": [
    "# Introduction de la stabilité"
   ]
  },
  {
   "cell_type": "code",
   "execution_count": 3,
   "metadata": {},
   "outputs": [
    {
     "name": "stdout",
     "output_type": "stream",
     "text": [
      "<class 'pandas.core.series.Series'>\n"
     ]
    },
    {
     "data": {
      "image/png": "[encoded data removed]",
      "text/plain": [
       "<Figure size 432x288 with 1 Axes>"
      ]
     },
     "metadata": {
      "needs_background": "light"
     },
     "output_type": "display_data"
    }
   ],
   "source": [
    "#On peut tester une petite proportion de data (plus rapide)\n",
    "small_data=data.sample(frac=0.0025,random_state=0) #extraire \n",
    "small_data=shuffle(small_data) #shuffle\n",
    "\n",
    "#test rapide i=1, gros test i=2\n",
    "i=1\n",
    "\n",
    "if i==1:\n",
    "    #Attention, on devra faire varier dt et dx (=dy)\n",
    "    dx=1/1001 #?\n",
    "    dy=1/1001 #?\n",
    "    dt=0.01 #?\n",
    "\n",
    "    #Calcul fonction objectif\n",
    "    w = small_data['P5']\n",
    "    print(type(w))\n",
    "    obj = ((small_data['F1']-small_data['F4'])/(dx*w))+((small_data['F3']-small_data['F2'])/(dy*w))\n",
    "    \n",
    "    #A retenir: j'utilise le fait que la serie 'obj' suit le meme ordre d'indentation que small_data, est-ce vrai?\n",
    "    \n",
    "    absi = small_data.index\n",
    "    plt.scatter(absi,obj)\n",
    "    nul = [0 for i in range((small_data.shape)[0])]\n",
    "    plt.plot(absi,nul,'r')\n",
    "    plt.title('Valeur prise par la fonction objectif obj')\n",
    "    plt.xlabel('number of row')\n",
    "    plt.ylabel('Fonction objectif')\n",
    "    \n",
    "elif i==2:\n",
    "    #Attention, on devra faire varier dt et dx (=dy)\n",
    "    dx=1/1001 #?\n",
    "    dy=1/1001 #?\n",
    "    dt=0.01 #?\n",
    "\n",
    "    #Calcul fonction objectif\n",
    "    w = data['P5']\n",
    "    print(type(w))\n",
    "    obj = ((data['F1']-data['F4'])/(dx*w))+((data['F3']-data['F2'])/(dy*w))\n",
    "    \n",
    "    #A retenir: j'utilise le fait que la serie 'obj' suit le meme ordre d'indentation que small_data, est-ce vrai?\n",
    "    \n",
    "    absi = data.index\n",
    "    plt.scatter(absi,obj)\n",
    "    nul = [0 for i in range((data.shape)[0])]\n",
    "    plt.plot(absi,nul,'r')\n",
    "    plt.title('Valeur prise par la fonction objectif obj')\n",
    "    plt.xlabel('number of row')\n",
    "    plt.ylabel('Fonction objectif')\n"
   ]
  },
  {
   "cell_type": "markdown",
   "metadata": {},
   "source": [
    "but : moyenne = 0 et Ecart type = 1 >> recours a la fonction : preprocessing.StandardScaler()\n",
    "\n"
   ]
  },
  {
   "cell_type": "markdown",
   "metadata": {},
   "source": [
    "# Shuffle (améliore la généralisation)"
   ]
  },
  {
   "cell_type": "code",
   "execution_count": 4,
   "metadata": {},
   "outputs": [
    {
     "data": {
      "text/html": [
       "<div>\n",
       "<style scoped>\n",
       "    .dataframe tbody tr th:only-of-type {\n",
       "        vertical-align: middle;\n",
       "    }\n",
       "\n",
       "    .dataframe tbody tr th {\n",
       "        vertical-align: top;\n",
       "    }\n",
       "\n",
       "    .dataframe thead th {\n",
       "        text-align: right;\n",
       "    }\n",
       "</style>\n",
       "<table border=\"1\" class=\"dataframe\">\n",
       "  <thead>\n",
       "    <tr style=\"text-align: right;\">\n",
       "      <th></th>\n",
       "      <th>P1</th>\n",
       "      <th>P2</th>\n",
       "      <th>P3</th>\n",
       "      <th>P4</th>\n",
       "      <th>P5</th>\n",
       "      <th>P6</th>\n",
       "      <th>P7</th>\n",
       "      <th>P8</th>\n",
       "      <th>P9</th>\n",
       "      <th>F1</th>\n",
       "      <th>...</th>\n",
       "      <th>F3</th>\n",
       "      <th>F4</th>\n",
       "      <th>A1</th>\n",
       "      <th>B1</th>\n",
       "      <th>A2</th>\n",
       "      <th>B2</th>\n",
       "      <th>A3</th>\n",
       "      <th>B3</th>\n",
       "      <th>A4</th>\n",
       "      <th>B4</th>\n",
       "    </tr>\n",
       "  </thead>\n",
       "  <tbody>\n",
       "    <tr>\n",
       "      <th>2248894</th>\n",
       "      <td>2.497426e-08</td>\n",
       "      <td>2.412257e-08</td>\n",
       "      <td>2.329750e-08</td>\n",
       "      <td>2.286268e-08</td>\n",
       "      <td>2.208230e-08</td>\n",
       "      <td>1.951644e-08</td>\n",
       "      <td>2.092372e-08</td>\n",
       "      <td>2.092372e-08</td>\n",
       "      <td>1.951644e-08</td>\n",
       "      <td>1.752041e-11</td>\n",
       "      <td>...</td>\n",
       "      <td>1.386526e-11</td>\n",
       "      <td>1.603626e-11</td>\n",
       "      <td>-0.532827</td>\n",
       "      <td>-0.846224</td>\n",
       "      <td>-0.707330</td>\n",
       "      <td>-0.706883</td>\n",
       "      <td>-0.706624</td>\n",
       "      <td>-0.707589</td>\n",
       "      <td>-0.533672</td>\n",
       "      <td>-0.845691</td>\n",
       "    </tr>\n",
       "    <tr>\n",
       "      <th>2564373</th>\n",
       "      <td>1.475873e-05</td>\n",
       "      <td>1.374050e-05</td>\n",
       "      <td>1.278884e-05</td>\n",
       "      <td>1.514123e-05</td>\n",
       "      <td>1.409702e-05</td>\n",
       "      <td>1.346065e-05</td>\n",
       "      <td>1.553224e-05</td>\n",
       "      <td>1.446148e-05</td>\n",
       "      <td>1.346065e-05</td>\n",
       "      <td>8.420190e-09</td>\n",
       "      <td>...</td>\n",
       "      <td>9.782831e-09</td>\n",
       "      <td>8.638261e-09</td>\n",
       "      <td>0.742658</td>\n",
       "      <td>-0.669671</td>\n",
       "      <td>0.801582</td>\n",
       "      <td>-0.597884</td>\n",
       "      <td>0.800985</td>\n",
       "      <td>-0.598685</td>\n",
       "      <td>0.741988</td>\n",
       "      <td>-0.670413</td>\n",
       "    </tr>\n",
       "    <tr>\n",
       "      <th>1141261</th>\n",
       "      <td>1.008532e-07</td>\n",
       "      <td>9.472649e-08</td>\n",
       "      <td>8.895420e-08</td>\n",
       "      <td>1.061096e-07</td>\n",
       "      <td>9.967156e-08</td>\n",
       "      <td>9.848972e-08</td>\n",
       "      <td>1.116284e-07</td>\n",
       "      <td>1.048639e-07</td>\n",
       "      <td>9.848972e-08</td>\n",
       "      <td>4.955220e-11</td>\n",
       "      <td>...</td>\n",
       "      <td>8.311077e-11</td>\n",
       "      <td>5.213607e-11</td>\n",
       "      <td>0.825392</td>\n",
       "      <td>-0.564560</td>\n",
       "      <td>0.959601</td>\n",
       "      <td>-0.281364</td>\n",
       "      <td>0.959320</td>\n",
       "      <td>-0.282322</td>\n",
       "      <td>0.824828</td>\n",
       "      <td>-0.565384</td>\n",
       "    </tr>\n",
       "    <tr>\n",
       "      <th>2967416</th>\n",
       "      <td>1.006141e-01</td>\n",
       "      <td>1.018747e-01</td>\n",
       "      <td>1.031450e-01</td>\n",
       "      <td>1.037345e-01</td>\n",
       "      <td>1.050284e-01</td>\n",
       "      <td>1.063320e-01</td>\n",
       "      <td>1.069257e-01</td>\n",
       "      <td>1.082534e-01</td>\n",
       "      <td>1.095910e-01</td>\n",
       "      <td>6.846926e-05</td>\n",
       "      <td>...</td>\n",
       "      <td>5.348521e-05</td>\n",
       "      <td>7.058042e-05</td>\n",
       "      <td>0.676321</td>\n",
       "      <td>0.736607</td>\n",
       "      <td>0.561257</td>\n",
       "      <td>0.827641</td>\n",
       "      <td>0.562084</td>\n",
       "      <td>0.827080</td>\n",
       "      <td>0.675585</td>\n",
       "      <td>0.737282</td>\n",
       "    </tr>\n",
       "    <tr>\n",
       "      <th>1681905</th>\n",
       "      <td>3.079158e-16</td>\n",
       "      <td>2.719984e-16</td>\n",
       "      <td>2.402068e-16</td>\n",
       "      <td>3.255089e-16</td>\n",
       "      <td>2.875511e-16</td>\n",
       "      <td>2.684480e-16</td>\n",
       "      <td>3.440613e-16</td>\n",
       "      <td>3.039526e-16</td>\n",
       "      <td>2.684480e-16</td>\n",
       "      <td>1.977550e-19</td>\n",
       "      <td>...</td>\n",
       "      <td>2.211600e-19</td>\n",
       "      <td>2.090481e-19</td>\n",
       "      <td>0.625047</td>\n",
       "      <td>-0.780587</td>\n",
       "      <td>0.913056</td>\n",
       "      <td>-0.407833</td>\n",
       "      <td>0.912648</td>\n",
       "      <td>-0.408745</td>\n",
       "      <td>0.624267</td>\n",
       "      <td>-0.781211</td>\n",
       "    </tr>\n",
       "    <tr>\n",
       "      <th>...</th>\n",
       "      <td>...</td>\n",
       "      <td>...</td>\n",
       "      <td>...</td>\n",
       "      <td>...</td>\n",
       "      <td>...</td>\n",
       "      <td>...</td>\n",
       "      <td>...</td>\n",
       "      <td>...</td>\n",
       "      <td>...</td>\n",
       "      <td>...</td>\n",
       "      <td>...</td>\n",
       "      <td>...</td>\n",
       "      <td>...</td>\n",
       "      <td>...</td>\n",
       "      <td>...</td>\n",
       "      <td>...</td>\n",
       "      <td>...</td>\n",
       "      <td>...</td>\n",
       "      <td>...</td>\n",
       "      <td>...</td>\n",
       "      <td>...</td>\n",
       "    </tr>\n",
       "    <tr>\n",
       "      <th>922494</th>\n",
       "      <td>2.134899e-19</td>\n",
       "      <td>1.974123e-19</td>\n",
       "      <td>1.825201e-19</td>\n",
       "      <td>1.883738e-19</td>\n",
       "      <td>1.741730e-19</td>\n",
       "      <td>1.420181e-19</td>\n",
       "      <td>1.661716e-19</td>\n",
       "      <td>1.661716e-19</td>\n",
       "      <td>1.420181e-19</td>\n",
       "      <td>1.616859e-22</td>\n",
       "      <td>...</td>\n",
       "      <td>1.142531e-22</td>\n",
       "      <td>1.426342e-22</td>\n",
       "      <td>-0.228240</td>\n",
       "      <td>-0.973605</td>\n",
       "      <td>-0.753682</td>\n",
       "      <td>-0.657239</td>\n",
       "      <td>-0.753025</td>\n",
       "      <td>-0.657992</td>\n",
       "      <td>-0.229213</td>\n",
       "      <td>-0.973376</td>\n",
       "    </tr>\n",
       "    <tr>\n",
       "      <th>1372184</th>\n",
       "      <td>6.949699e-03</td>\n",
       "      <td>7.158998e-03</td>\n",
       "      <td>7.373900e-03</td>\n",
       "      <td>7.123843e-03</td>\n",
       "      <td>7.337908e-03</td>\n",
       "      <td>7.557687e-03</td>\n",
       "      <td>7.301487e-03</td>\n",
       "      <td>7.520399e-03</td>\n",
       "      <td>7.745139e-03</td>\n",
       "      <td>6.125756e-06</td>\n",
       "      <td>...</td>\n",
       "      <td>2.549152e-06</td>\n",
       "      <td>6.278492e-06</td>\n",
       "      <td>0.337402</td>\n",
       "      <td>0.941361</td>\n",
       "      <td>0.379366</td>\n",
       "      <td>0.925247</td>\n",
       "      <td>0.380290</td>\n",
       "      <td>0.924867</td>\n",
       "      <td>0.336462</td>\n",
       "      <td>0.941697</td>\n",
       "    </tr>\n",
       "    <tr>\n",
       "      <th>3762400</th>\n",
       "      <td>9.412681e-01</td>\n",
       "      <td>9.424036e-01</td>\n",
       "      <td>9.435218e-01</td>\n",
       "      <td>9.465907e-01</td>\n",
       "      <td>9.476849e-01</td>\n",
       "      <td>9.487617e-01</td>\n",
       "      <td>9.516737e-01</td>\n",
       "      <td>9.527252e-01</td>\n",
       "      <td>9.537593e-01</td>\n",
       "      <td>5.000876e-04</td>\n",
       "      <td>...</td>\n",
       "      <td>4.398362e-04</td>\n",
       "      <td>5.028199e-04</td>\n",
       "      <td>0.808476</td>\n",
       "      <td>0.588529</td>\n",
       "      <td>0.514958</td>\n",
       "      <td>0.857215</td>\n",
       "      <td>0.515814</td>\n",
       "      <td>0.856700</td>\n",
       "      <td>0.807888</td>\n",
       "      <td>0.589336</td>\n",
       "    </tr>\n",
       "    <tr>\n",
       "      <th>2600396</th>\n",
       "      <td>5.301903e-06</td>\n",
       "      <td>5.437125e-06</td>\n",
       "      <td>5.575271e-06</td>\n",
       "      <td>5.720176e-06</td>\n",
       "      <td>5.865940e-06</td>\n",
       "      <td>6.014854e-06</td>\n",
       "      <td>6.169616e-06</td>\n",
       "      <td>6.326696e-06</td>\n",
       "      <td>6.487168e-06</td>\n",
       "      <td>4.034917e-09</td>\n",
       "      <td>...</td>\n",
       "      <td>3.653705e-09</td>\n",
       "      <td>4.352500e-09</td>\n",
       "      <td>0.605862</td>\n",
       "      <td>0.795570</td>\n",
       "      <td>0.680725</td>\n",
       "      <td>0.732539</td>\n",
       "      <td>0.681456</td>\n",
       "      <td>0.731859</td>\n",
       "      <td>0.605067</td>\n",
       "      <td>0.796174</td>\n",
       "    </tr>\n",
       "    <tr>\n",
       "      <th>3236548</th>\n",
       "      <td>8.759489e-15</td>\n",
       "      <td>8.643040e-15</td>\n",
       "      <td>8.525674e-15</td>\n",
       "      <td>1.026487e-14</td>\n",
       "      <td>1.013042e-14</td>\n",
       "      <td>9.994855e-15</td>\n",
       "      <td>1.202371e-14</td>\n",
       "      <td>1.186858e-14</td>\n",
       "      <td>1.171208e-14</td>\n",
       "      <td>5.807198e-18</td>\n",
       "      <td>...</td>\n",
       "      <td>7.405626e-18</td>\n",
       "      <td>6.805003e-18</td>\n",
       "      <td>0.724074</td>\n",
       "      <td>0.689723</td>\n",
       "      <td>0.810822</td>\n",
       "      <td>0.585293</td>\n",
       "      <td>0.811406</td>\n",
       "      <td>0.584483</td>\n",
       "      <td>0.723384</td>\n",
       "      <td>0.690446</td>\n",
       "    </tr>\n",
       "  </tbody>\n",
       "</table>\n",
       "<p>3992004 rows × 21 columns</p>\n",
       "</div>"
      ],
      "text/plain": [
       "                   P1            P2            P3            P4            P5  \\\n",
       "2248894  2.497426e-08  2.412257e-08  2.329750e-08  2.286268e-08  2.208230e-08   \n",
       "2564373  1.475873e-05  1.374050e-05  1.278884e-05  1.514123e-05  1.409702e-05   \n",
       "1141261  1.008532e-07  9.472649e-08  8.895420e-08  1.061096e-07  9.967156e-08   \n",
       "2967416  1.006141e-01  1.018747e-01  1.031450e-01  1.037345e-01  1.050284e-01   \n",
       "1681905  3.079158e-16  2.719984e-16  2.402068e-16  3.255089e-16  2.875511e-16   \n",
       "...               ...           ...           ...           ...           ...   \n",
       "922494   2.134899e-19  1.974123e-19  1.825201e-19  1.883738e-19  1.741730e-19   \n",
       "1372184  6.949699e-03  7.158998e-03  7.373900e-03  7.123843e-03  7.337908e-03   \n",
       "3762400  9.412681e-01  9.424036e-01  9.435218e-01  9.465907e-01  9.476849e-01   \n",
       "2600396  5.301903e-06  5.437125e-06  5.575271e-06  5.720176e-06  5.865940e-06   \n",
       "3236548  8.759489e-15  8.643040e-15  8.525674e-15  1.026487e-14  1.013042e-14   \n",
       "\n",
       "                   P6            P7            P8            P9            F1  \\\n",
       "2248894  1.951644e-08  2.092372e-08  2.092372e-08  1.951644e-08  1.752041e-11   \n",
       "2564373  1.346065e-05  1.553224e-05  1.446148e-05  1.346065e-05  8.420190e-09   \n",
       "1141261  9.848972e-08  1.116284e-07  1.048639e-07  9.848972e-08  4.955220e-11   \n",
       "2967416  1.063320e-01  1.069257e-01  1.082534e-01  1.095910e-01  6.846926e-05   \n",
       "1681905  2.684480e-16  3.440613e-16  3.039526e-16  2.684480e-16  1.977550e-19   \n",
       "...               ...           ...           ...           ...           ...   \n",
       "922494   1.420181e-19  1.661716e-19  1.661716e-19  1.420181e-19  1.616859e-22   \n",
       "1372184  7.557687e-03  7.301487e-03  7.520399e-03  7.745139e-03  6.125756e-06   \n",
       "3762400  9.487617e-01  9.516737e-01  9.527252e-01  9.537593e-01  5.000876e-04   \n",
       "2600396  6.014854e-06  6.169616e-06  6.326696e-06  6.487168e-06  4.034917e-09   \n",
       "3236548  9.994855e-15  1.202371e-14  1.186858e-14  1.171208e-14  5.807198e-18   \n",
       "\n",
       "         ...            F3            F4        A1        B1        A2  \\\n",
       "2248894  ...  1.386526e-11  1.603626e-11 -0.532827 -0.846224 -0.707330   \n",
       "2564373  ...  9.782831e-09  8.638261e-09  0.742658 -0.669671  0.801582   \n",
       "1141261  ...  8.311077e-11  5.213607e-11  0.825392 -0.564560  0.959601   \n",
       "2967416  ...  5.348521e-05  7.058042e-05  0.676321  0.736607  0.561257   \n",
       "1681905  ...  2.211600e-19  2.090481e-19  0.625047 -0.780587  0.913056   \n",
       "...      ...           ...           ...       ...       ...       ...   \n",
       "922494   ...  1.142531e-22  1.426342e-22 -0.228240 -0.973605 -0.753682   \n",
       "1372184  ...  2.549152e-06  6.278492e-06  0.337402  0.941361  0.379366   \n",
       "3762400  ...  4.398362e-04  5.028199e-04  0.808476  0.588529  0.514958   \n",
       "2600396  ...  3.653705e-09  4.352500e-09  0.605862  0.795570  0.680725   \n",
       "3236548  ...  7.405626e-18  6.805003e-18  0.724074  0.689723  0.810822   \n",
       "\n",
       "               B2        A3        B3        A4        B4  \n",
       "2248894 -0.706883 -0.706624 -0.707589 -0.533672 -0.845691  \n",
       "2564373 -0.597884  0.800985 -0.598685  0.741988 -0.670413  \n",
       "1141261 -0.281364  0.959320 -0.282322  0.824828 -0.565384  \n",
       "2967416  0.827641  0.562084  0.827080  0.675585  0.737282  \n",
       "1681905 -0.407833  0.912648 -0.408745  0.624267 -0.781211  \n",
       "...           ...       ...       ...       ...       ...  \n",
       "922494  -0.657239 -0.753025 -0.657992 -0.229213 -0.973376  \n",
       "1372184  0.925247  0.380290  0.924867  0.336462  0.941697  \n",
       "3762400  0.857215  0.515814  0.856700  0.807888  0.589336  \n",
       "2600396  0.732539  0.681456  0.731859  0.605067  0.796174  \n",
       "3236548  0.585293  0.811406  0.584483  0.723384  0.690446  \n",
       "\n",
       "[3992004 rows x 21 columns]"
      ]
     },
     "execution_count": 4,
     "metadata": {},
     "output_type": "execute_result"
    }
   ],
   "source": [
    "data = data.sample(frac = 1)\n",
    "data\n"
   ]
  },
  {
   "cell_type": "markdown",
   "metadata": {},
   "source": [
    "# Scaler la grande base"
   ]
  },
  {
   "cell_type": "code",
   "execution_count": 5,
   "metadata": {
    "scrolled": true
   },
   "outputs": [
    {
     "name": "stdout",
     "output_type": "stream",
     "text": [
      "moyenne: [ 1.60349265e-01  1.60349330e-01  1.60349265e-01  1.60385081e-01\n",
      "  1.60349394e-01  1.60286411e-01  1.60349265e-01  1.60322227e-01\n",
      "  1.60349265e-01  7.77446432e-05  7.77446432e-05  7.77446432e-05\n",
      "  7.77446432e-05  3.24974506e-04  9.55264427e-05 -9.55264427e-05\n",
      "  3.24974506e-04  9.55264427e-05 -3.24974506e-04 -3.24974506e-04\n",
      " -9.55264427e-05]\n",
      "std [8.78614806e-02 8.78615044e-02 8.78614806e-02 8.78751162e-02\n",
      " 8.78615281e-02 8.78371894e-02 8.78614806e-02 8.78508294e-02\n",
      " 8.78614806e-02 2.75861539e-08 2.75861539e-08 2.75861539e-08\n",
      " 2.75861539e-08 4.99999894e-01 4.99999991e-01 4.99999991e-01\n",
      " 4.99999894e-01 4.99999991e-01 4.99999894e-01 4.99999894e-01\n",
      " 4.99999991e-01]\n"
     ]
    },
    {
     "data": {
      "text/plain": [
       "StandardScaler()"
      ]
     },
     "execution_count": 5,
     "metadata": {},
     "output_type": "execute_result"
    }
   ],
   "source": [
    "#On normalise avec scaler classique sur tout\n",
    "\n",
    "x=data.values\n",
    "scaler = preprocessing.StandardScaler()\n",
    "x_scaled = scaler.fit_transform(x)\n",
    "data_scaled = pd.DataFrame(x_scaled)\n",
    "col = ['P1','P2','P3','P4','P5','P6','P7','P8','P9','F1','F2','F3','F4','A1','B1','A2','B2','A3','B3','A4','B4']\n",
    "data_scaled.columns = ['P1','P2','P3','P4','P5','P6','P7','P8','P9','F1','F2','F3','F4','A1','B1','A2','B2','A3','B3','A4','B4']\n",
    "\n",
    "print('moyenne:',scaler.mean_)\n",
    "print('std',scaler.var_)\n",
    "\n",
    "\n",
    "###Introduction inverse transform pour les flux\n",
    "output_unscaled = data[['F1','F2','F3','F4']]\n",
    "output_unscaled_values = output_unscaled.values\n",
    "output_scaler = preprocessing.StandardScaler()\n",
    "output_scaled_values = output_scaler.fit_transform(output_unscaled_values)\n",
    "\n",
    "###Introduction inverse transform pour les valeurs d'entree du réseau\n",
    "input_unscaled = data[['P1','P2','P3','P4','P5','P6','P7','P8','P9','A1','B1','A2','B2','A3','B3','A4','B4']]\n",
    "input_unscaled_values = input_unscaled.values\n",
    "input_scaler = preprocessing.StandardScaler()\n",
    "input_scaler.fit(input_unscaled_values)"
   ]
  },
  {
   "cell_type": "markdown",
   "metadata": {},
   "source": [
    "## Diviser la base de donnée 0.7 > entrainement ET 0.3 > test"
   ]
  },
  {
   "cell_type": "code",
   "execution_count": 6,
   "metadata": {},
   "outputs": [
    {
     "name": "stdout",
     "output_type": "stream",
     "text": [
      "The shape of the initial data before spliting it(3992004, 21)\n",
      "The shape of the initial data for training(2794403, 21)\n",
      "The shape of the initial data for testing(1197601, 21)\n",
      "The shape of the features dataframe for training(2794403, 17)\n",
      "The shape of the features dataframe for testing(1197601, 17)\n",
      "The shape of the labels dataframe for training(2794403, 4)\n",
      "The shape of the labels dataframe for testing(1197601, 4)\n"
     ]
    }
   ],
   "source": [
    "print('The shape of the initial data before spliting it'+str(data_scaled.shape))\n",
    "\n",
    "\n",
    "data_training=data_scaled.sample(frac=0.7,random_state=0) \n",
    "data_test=data_scaled.drop(data_training.index)\n",
    "\n",
    "print('The shape of the initial data for training'+str(data_training.shape))\n",
    "print('The shape of the initial data for testing'+str(data_test.shape))\n",
    "\n",
    "\n",
    "data_training_labels = pd.DataFrame(columns =['F1','F2','F3','F4'])\n",
    "data_test_labels = pd.DataFrame(columns =['F1','F2','F3','F4'])\n",
    "\n",
    "data_training_labels['F1']=data_training['F1']\n",
    "data_training_labels['F2']=data_training['F2']\n",
    "data_training_labels['F3']=data_training['F3']\n",
    "data_training_labels['F4']=data_training['F4']\n",
    "\n",
    "\n",
    "data_test_labels['F1']=data_test['F1']\n",
    "data_test_labels['F2']=data_test['F2']\n",
    "data_test_labels['F3']=data_test['F3']\n",
    "data_test_labels['F4']=data_test['F4']\n",
    "\n",
    "\n",
    "data_training.pop('F1')\n",
    "data_training.pop('F2')\n",
    "data_training.pop('F3')\n",
    "data_training.pop('F4')\n",
    "\n",
    "data_test.pop('F1')\n",
    "data_test.pop('F2')\n",
    "data_test.pop('F3')\n",
    "data_test.pop('F4')\n",
    "\n",
    "data_training_features=data_training\n",
    "data_test_features=data_test\n",
    "\n",
    "print('The shape of the features dataframe for training'+str(data_training_features.shape))\n",
    "print('The shape of the features dataframe for testing'+str(data_test_features.shape))\n",
    "print('The shape of the labels dataframe for training'+str(data_training_labels.shape))\n",
    "print('The shape of the labels dataframe for testing'+str(data_test_labels.shape))\n"
   ]
  },
  {
   "cell_type": "markdown",
   "metadata": {},
   "source": [
    "## Créer le modèle de réseau de neurones ( fonction d'activation = LeakyRelu ) "
   ]
  },
  {
   "cell_type": "markdown",
   "metadata": {},
   "source": [
    "Définir shape = nombre de 'features' d'entrée"
   ]
  },
  {
   "cell_type": "code",
   "execution_count": 7,
   "metadata": {},
   "outputs": [],
   "source": [
    "shape = len(data.columns)-4"
   ]
  },
  {
   "cell_type": "markdown",
   "metadata": {},
   "source": [
    "On crée le réseau de neuronnes avec une implémentation du Dropout, BUT : Regularisation et diminuer l'effet du overfitting (Dropout > randomly reducing the number of interconnecting neurons within a neural network), on choisit le dropout_rate=0.2, et on l'applique sur toute les Hidden layers.\n",
    "\n",
    "\n"
   ]
  },
  {
   "cell_type": "markdown",
   "metadata": {},
   "source": [
    "Define Loss functionaa\n",
    "\n",
    "function(y_true (type:tensor), y_pred (type:tensor))\n",
    "returns: loss (type: scaler)\n"
   ]
  },
  {
   "cell_type": "code",
   "execution_count": 8,
   "metadata": {},
   "outputs": [],
   "source": [
    "def f_loss(y_true, y_pred):\n",
    "    \n",
    "    dx_tensor=tf.constant(1/1001)\n",
    "    dy_tensor=tf.constant(1/1001)\n",
    "    e = 0.000001\n",
    "    n = 2\n",
    "    \n",
    "    wobj_list = tf.TensorArray(tf.float32, size=0, dynamic_size=True)\n",
    "    for i in range(0,tf.shape(y_pred)[0]):        \n",
    "        wobj_list = wobj_list.write(i,tf.add(tf.divide(tf.subtract(y_pred[i][0],y_pred[i][3]),dx_tensor),tf.divide(tf.subtract(y_pred[i][2],y_pred[i][1]),dy_tensor)))\n",
    "        \n",
    "    wobj = wobj_list.stack()\n",
    "        \n",
    "    mse = tf.reduce_mean(tf.square(tf.subtract(y_true,y_pred)))\n",
    "    rest = e*pow(tf.maximum(0.0,-wobj),n)\n",
    "    \n",
    "    loss = mse + tf.reduce_mean(rest)\n",
    "    \n",
    "    return loss    "
   ]
  },
  {
   "cell_type": "markdown",
   "metadata": {},
   "source": [
    "Nombre de degré de liberté du réseau : 6 051 , du meme ordre de la taille de la base de données => Overfitting/Underfitting évité"
   ]
  },
  {
   "cell_type": "markdown",
   "metadata": {},
   "source": [
    "Optimiser le réseau, on choisit l'algorithm Adam et 20 000 epoches ( on peut changer d'algorithm d'optimisation apres ( gradient descent par exemple ), ca dependra de la performance ) \n",
    "On a pas encore Etudié le batch_size, on met une valeur arbitraire de 128"
   ]
  },
  {
   "cell_type": "code",
   "execution_count": 25,
   "metadata": {},
   "outputs": [
    {
     "name": "stdout",
     "output_type": "stream",
     "text": [
      "Model: \"sequential_4\"\n",
      "_________________________________________________________________\n",
      "Layer (type)                 Output Shape              Param #   \n",
      "=================================================================\n",
      "dense_20 (Dense)             (None, 17)                306       \n",
      "_________________________________________________________________\n",
      "dropout_16 (Dropout)         (None, 17)                0         \n",
      "_________________________________________________________________\n",
      "dense_21 (Dense)             (None, 70)                1260      \n",
      "_________________________________________________________________\n",
      "dropout_17 (Dropout)         (None, 70)                0         \n",
      "_________________________________________________________________\n",
      "dense_22 (Dense)             (None, 40)                2840      \n",
      "_________________________________________________________________\n",
      "dropout_18 (Dropout)         (None, 40)                0         \n",
      "_________________________________________________________________\n",
      "dense_23 (Dense)             (None, 70)                2870      \n",
      "_________________________________________________________________\n",
      "dropout_19 (Dropout)         (None, 70)                0         \n",
      "_________________________________________________________________\n",
      "dense_24 (Dense)             (None, 4)                 284       \n",
      "=================================================================\n",
      "Total params: 7,560\n",
      "Trainable params: 7,560\n",
      "Non-trainable params: 0\n",
      "_________________________________________________________________\n"
     ]
    }
   ],
   "source": [
    "def build_model():\n",
    "    model = keras.Sequential()\n",
    "    model.add(layers.Dense(17,use_bias=True,input_shape=[shape],activation='elu'))\n",
    "    model.add(keras.layers.Dropout(rate=0.2))\n",
    "    \n",
    "    model.add(layers.Dense(70,use_bias=True,input_shape=[shape],activation='elu'))\n",
    "    model.add(keras.layers.Dropout(rate=0.2))\n",
    "    \n",
    "    model.add(layers.Dense(40,use_bias=True,input_shape=[shape],activation='elu'))\n",
    "    model.add(keras.layers.Dropout(rate=0.2))\n",
    "    \n",
    "    model.add(layers.Dense(70,use_bias=True,input_shape=[shape],activation='elu'))\n",
    "    model.add(keras.layers.Dropout(rate=0.2))\n",
    "    \n",
    "    model.add(layers.Dense(4,use_bias=True,activation='elu'))\n",
    "\n",
    "    return model\n",
    "\n",
    "model = build_model()\n",
    "model.summary()\n",
    "\n",
    "def train_model():\n",
    "  \n",
    "    \n",
    "  optimizer = tf.optimizers.Adam() #Algorithm d'optimisation\n",
    "\n",
    "  model.compile(loss=f_loss,\n",
    "                optimizer='adam',\n",
    "                metrics=['mse'])\n",
    "\n",
    "  early_stop = keras.callbacks.EarlyStopping(monitor='val_mse',min_delta=1e-17, patience=10)\n",
    "  logdir = os.path.join(\"logs\", datetime.datetime.now().strftime(\"%Y%m%d-%H%M%S\"))\n",
    "  tensorboard_callback = tf.keras.callbacks.TensorBoard(logdir, histogram_freq=1,profile_batch=0)\n",
    "\n",
    "\n",
    "  model.fit(data_training_features, \n",
    "            data_training_labels, \n",
    "            epochs=1300,\n",
    "            batch_size=120,\n",
    "            validation_split = 0.5, \n",
    "            verbose=0, \n",
    "            callbacks=[early_stop,tensorboard_callback])"
   ]
  },
  {
   "cell_type": "markdown",
   "metadata": {},
   "source": [
    "La méthode callbacks.TensorBoard() a été ajouté pour conserver la performence du Réseau de neurones a chaque itération (epochs) et visualiser les courbes a la fin"
   ]
  },
  {
   "cell_type": "markdown",
   "metadata": {},
   "source": [
    "# Save the model in .h5 format "
   ]
  },
  {
   "cell_type": "code",
   "execution_count": 26,
   "metadata": {
    "scrolled": true
   },
   "outputs": [],
   "source": [
    "train_model()\n",
    "model.save(\"Advection2D_contrainteLoss-1.h5\")"
   ]
  },
  {
   "cell_type": "markdown",
   "metadata": {},
   "source": [
    "# Résultats"
   ]
  },
  {
   "cell_type": "code",
   "execution_count": 27,
   "metadata": {},
   "outputs": [],
   "source": [
    "Y_pred_scaled=model.predict(data_test_features) #output du réseau, qu'on veut comparer a Y_test\n",
    "Y_test_scaled=data_test_labels\n",
    "\n",
    "Y_pred_df=pd.DataFrame(Y_pred_scaled,columns=['F1','F2','F3','F4'])\n"
   ]
  },
  {
   "cell_type": "code",
   "execution_count": 28,
   "metadata": {},
   "outputs": [],
   "source": [
    "Y_pred_unscaled = output_scaler.inverse_transform(Y_pred_scaled)\n",
    "Y_test_unscaled = output_scaler.inverse_transform(Y_test_scaled)\n",
    "\n",
    "Y_pred_unscaled_df = pd.DataFrame(Y_pred_unscaled,columns=['F1','F2','F3','F4'])\n",
    "Y_test_unscaled_df = pd.DataFrame(Y_test_unscaled,columns=['F1','F2','F3','F4'])\n"
   ]
  },
  {
   "cell_type": "markdown",
   "metadata": {},
   "source": [
    "Affichage de la fontion wobj dénormalisés"
   ]
  },
  {
   "cell_type": "code",
   "execution_count": 29,
   "metadata": {},
   "outputs": [
    {
     "name": "stdout",
     "output_type": "stream",
     "text": [
      "moyenne: 9.75040759315737e-05\n",
      "ecart-type: 0.00011589449415038753\n",
      "moyenne du scaler[7.77446432e-05 7.77446432e-05 7.77446432e-05 7.77446432e-05]\n",
      "variance du scaler[2.75861539e-08 2.75861539e-08 2.75861539e-08 2.75861539e-08]\n",
      "nb de wobj_unscaled effectué positif: 1197601\n",
      "nb de wobj_unscaled effectué négatif: 0\n"
     ]
    },
    {
     "data": {
      "image/png": "[encoded data removed]",
      "text/plain": [
       "<Figure size 432x288 with 1 Axes>"
      ]
     },
     "metadata": {
      "needs_background": "light"
     },
     "output_type": "display_data"
    }
   ],
   "source": [
    "#On va étudier avec wobj en dénormalisé\n",
    "dx=1/1001 #? Attention; ils ne sont pas normalisés ceux-là!\n",
    "dy=1/1001 #?\n",
    "dt=0.01 #?\n",
    "wobj_unscaled = ((Y_pred_unscaled_df['F1']-Y_pred_unscaled_df['F4'])/(dx))+((Y_pred_unscaled_df['F3']-Y_pred_unscaled_df['F2'])/(dy))\n",
    "\n",
    "absi = wobj_unscaled.index\n",
    "plt.scatter(absi,wobj_unscaled)\n",
    "print('moyenne:',wobj_unscaled.mean())\n",
    "print('ecart-type:',wobj_unscaled.std())\n",
    "nul = [0 for i in range((wobj_unscaled.shape)[0])]\n",
    "plt.plot(absi,nul,'r')\n",
    "\n",
    "\n",
    "x_min = absi[0]\n",
    "x_max = absi.shape[0]\n",
    "y_max = wobj_unscaled.mean() + 2*wobj_unscaled.std()\n",
    "y_min = wobj_unscaled.mean() - 2*wobj_unscaled.std()\n",
    "print('moyenne du scaler'+str(output_scaler.mean_))\n",
    "print('variance du scaler'+str(output_scaler.var_))\n",
    "\n",
    "plt.title('Valeur prise par la fonction objectif wobj_unscaled calculé après le reseau (flux dénormalisés)')\n",
    "plt.xlabel('number of row')\n",
    "plt.ylabel('Fonction objectif')\n",
    "plt.axis([x_min, x_max, y_min, y_max])\n",
    "\n",
    "\n",
    "### Ici tout est dénormalisé\n",
    "wobj_unscaled = wobj_unscaled.to_frame()\n",
    "wobj_unscaled.columns = ['wobj_unscaled']\n",
    "\n",
    "au_dessus_realise = wobj_unscaled.loc[wobj_unscaled['wobj_unscaled']>=0]\n",
    "nb_au_dessus_realise = au_dessus_realise.shape[0]\n",
    "print('nb de wobj_unscaled effectué positif: '+str(nb_au_dessus_realise))\n",
    "en_dessous_realise = wobj_unscaled.loc[wobj_unscaled['wobj_unscaled']<0]\n",
    "nb_en_dessous_realise = en_dessous_realise.shape[0]\n",
    "print('nb de wobj_unscaled effectué négatif: '+str(nb_en_dessous_realise))\n"
   ]
  },
  {
   "cell_type": "code",
   "execution_count": 32,
   "metadata": {},
   "outputs": [],
   "source": [
    "def visualize1(): #we feed it the test data\n",
    "    plt.scatter(data_test_labels['F1'],Y_pred_df['F1'], color = 'red',marker=\".\")\n",
    "    plt.scatter(data_test_labels['F1'],data_test_labels['F1'], color = 'black',marker=\".\") #just for the y=x black line, the result (red points) should be close to the line\n",
    "    \n",
    "    plt.title('Neural Network prediction de F1')\n",
    "    plt.xlabel('exact')\n",
    "    plt.ylabel('prediction')\n",
    "    \n",
    "    R2=metrics.r2_score(data_test_labels, Y_pred_df)\n",
    "    \n",
    "  \n",
    "    print('Model Performance')\n",
    "   \n",
    "    print('R2: {:0.4f}.'.format(R2))\n",
    "    \n",
    "    plt.show()   \n"
   ]
  },
  {
   "cell_type": "code",
   "execution_count": 67,
   "metadata": {},
   "outputs": [],
   "source": [
    "def visualize2(): #we feed it the test data\n",
    "    plt.scatter(data_test_labels['F2'],Y_pred_df['F2'], color = 'red',marker=\".\")\n",
    "    plt.scatter(data_test_labels['F2'],data_test_labels['F2'], color = 'black',marker=\".\") #just for the y=x black line, the result (red points) should be close to the line\n",
    "    \n",
    "    \n",
    "    plt.title('Neural Network prediction de F2')\n",
    "    plt.xlabel('exact')\n",
    "    plt.ylabel('prediction')\n",
    "    \n",
    "    R2=metrics.r2_score(data_test_labels, Y_pred_df)\n",
    "    \n",
    "   \n",
    "    \n",
    "    print('Model Performance')\n",
    " \n",
    "    print('R2: {:0.4f}.'.format(R2))\n",
    "    \n",
    "    plt.show()"
   ]
  },
  {
   "cell_type": "code",
   "execution_count": 68,
   "metadata": {},
   "outputs": [],
   "source": [
    "def visualize3(): #we feed it the test data\n",
    "    plt.scatter(data_test_labels['F3'],Y_pred_df['F3'], color = 'red',marker=\".\")\n",
    "    plt.scatter(data_test_labels['F3'],data_test_labels['F3'], color = 'black',marker=\".\") #just for the y=x black line, the result (red points) should be close to the line\n",
    "    \n",
    "    \n",
    "    plt.title('Neural Network prediction de F3')\n",
    "    plt.xlabel('exact')\n",
    "    plt.ylabel('prediction')\n",
    "    \n",
    "    R2=metrics.r2_score(data_test_labels, Y_pred_df)\n",
    "    \n",
    "    Correl=np.corrcoef(data_test_labels, Y_pred_df)[0, 1]\n",
    "    \n",
    "    print('Model Performance')\n",
    "    print('Correlation: {:0.4f}.'.format(Correl))\n",
    "    print('R2: {:0.4f}.'.format(R2))\n",
    "    \n",
    "    plt.show()"
   ]
  },
  {
   "cell_type": "code",
   "execution_count": 69,
   "metadata": {},
   "outputs": [],
   "source": [
    "def visualize4(): #we feed it the test data\n",
    "    plt.scatter(data_test_labels['F4'],Y_pred_df['F4'], color = 'red',marker=\".\")\n",
    "    plt.scatter(data_test_labels['F4'],data_test_labels['F4'], color = 'black',marker=\".\") #just for the y=x black line, the result (red points) should be close to the line\n",
    "    \n",
    "    \n",
    "    plt.title('Neural Network prediction de F4')\n",
    "    plt.xlabel('exact')\n",
    "    plt.ylabel('prediction')\n",
    "    \n",
    "    R2=metrics.r2_score(data_test_labels, Y_pred_df)\n",
    "    \n",
    "    Correl=np.corrcoef(data_test_labels, Y_pred_df)[0, 1]\n",
    "    \n",
    "    print('Model Performance')\n",
    "    print('Correlation: {:0.4f}.'.format(Correl))\n",
    "    print('R2: {:0.4f}.'.format(R2))\n",
    "    \n",
    "    plt.show()"
   ]
  },
  {
   "cell_type": "code",
   "execution_count": 33,
   "metadata": {},
   "outputs": [
    {
     "name": "stdout",
     "output_type": "stream",
     "text": [
      "Model Performance\n",
      "R2: 0.9814.\n"
     ]
    },
    {
     "data": {
      "image/png": "[encoded data removed]",
      "text/plain": [
       "<Figure size 432x288 with 1 Axes>"
      ]
     },
     "metadata": {
      "needs_background": "light"
     },
     "output_type": "display_data"
    }
   ],
   "source": [
    "visualize1()"
   ]
  },
  {
   "cell_type": "code",
   "execution_count": 71,
   "metadata": {},
   "outputs": [
    {
     "name": "stdout",
     "output_type": "stream",
     "text": [
      "Model Performance\n",
      "Correlation: 1.0000.\n",
      "R2: 0.9537.\n"
     ]
    },
    {
     "data": {
      "image/png": "[encoded data removed]",
      "text/plain": [
       "<Figure size 432x288 with 1 Axes>"
      ]
     },
     "metadata": {
      "needs_background": "light"
     },
     "output_type": "display_data"
    }
   ],
   "source": [
    "visualize2()"
   ]
  },
  {
   "cell_type": "code",
   "execution_count": 72,
   "metadata": {},
   "outputs": [
    {
     "name": "stdout",
     "output_type": "stream",
     "text": [
      "Model Performance\n",
      "Correlation: 1.0000.\n",
      "R2: 0.9537.\n"
     ]
    },
    {
     "data": {
      "image/png": "[encoded data removed]",
      "text/plain": [
       "<Figure size 432x288 with 1 Axes>"
      ]
     },
     "metadata": {
      "needs_background": "light"
     },
     "output_type": "display_data"
    }
   ],
   "source": [
    "visualize3()"
   ]
  },
  {
   "cell_type": "code",
   "execution_count": 73,
   "metadata": {},
   "outputs": [
    {
     "name": "stdout",
     "output_type": "stream",
     "text": [
      "Model Performance\n",
      "Correlation: 1.0000.\n",
      "R2: 0.9537.\n"
     ]
    },
    {
     "data": {
      "image/png": "[encoded data removed]",
      "text/plain": [
       "<Figure size 432x288 with 1 Axes>"
      ]
     },
     "metadata": {
      "needs_background": "light"
     },
     "output_type": "display_data"
    }
   ],
   "source": [
    "visualize4()"
   ]
  },
  {
   "cell_type": "markdown",
   "metadata": {},
   "source": [
    "# Visualisation de la Loss-fonction"
   ]
  },
  {
   "cell_type": "code",
   "execution_count": null,
   "metadata": {},
   "outputs": [],
   "source": [
    "%load_ext tensorboard\n",
    "%tensorboard --logdir logs/fit"
   ]
  },
  {
   "cell_type": "code",
   "execution_count": null,
   "metadata": {},
   "outputs": [],
   "source": []
  }
 ],
 "metadata": {
  "kernelspec": {
   "display_name": "Python 3",
   "language": "python",
   "name": "python3"
  },
  "language_info": {
   "codemirror_mode": {
    "name": "ipython",
    "version": 3
   },
   "file_extension": ".py",
   "mimetype": "text/x-python",
   "name": "python",
   "nbconvert_exporter": "python",
   "pygments_lexer": "ipython3",
   "version": "3.8.3"
  }
 },
 "nbformat": 4,
 "nbformat_minor": 4
}
