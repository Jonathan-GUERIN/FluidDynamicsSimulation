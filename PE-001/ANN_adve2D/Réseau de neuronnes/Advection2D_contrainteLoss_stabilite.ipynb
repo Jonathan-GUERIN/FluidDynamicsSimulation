{
 "cells": [
  {
   "cell_type": "markdown",
   "metadata": {},
   "source": [
    "# Réseau de neurones pour le calcul de flux pour l'advection en 2D"
   ]
  },
  {
   "cell_type": "markdown",
   "metadata": {},
   "source": [
    "Importer les bibliothèques utiles "
   ]
  },
  {
   "cell_type": "code",
   "execution_count": 1,
   "metadata": {},
   "outputs": [],
   "source": [
    "from __future__ import absolute_import, division, print_function, unicode_literals\n",
    "\n",
    "import sqlite3\n",
    "import pathlib\n",
    "import matplotlib.pyplot as plt\n",
    "import pandas as pd\n",
    "import seaborn as sns\n",
    "import numpy as np\n",
    "import sys\n",
    "import datetime, os\n",
    "from sklearn import metrics\n",
    "from sklearn import preprocessing\n",
    "from sklearn.utils import shuffle\n",
    "from time import time\n",
    "\n",
    "import tensorflow as tf\n",
    "from tensorflow import keras\n",
    "from tensorflow.keras import layers\n",
    "from tensorflow.keras.layers import LeakyReLU\n",
    "from tensorflow.python.keras.callbacks import TensorBoard\n",
    "from tensorflow.keras.models import load_model\n",
    "\n",
    "\n",
    "import matplotlib.pyplot as plt\n",
    "from mpl_toolkits.mplot3d import Axes3D\n",
    "import numpy as np\n",
    "from matplotlib import cm\n",
    "\n",
    "from sklearn.preprocessing import StandardScaler\n",
    "\n",
    "\n",
    "from sklearn.model_selection import GridSearchCV"
   ]
  },
  {
   "cell_type": "markdown",
   "metadata": {},
   "source": [
    "Importer la base de donnée et visualiser les dernieres lignes"
   ]
  },
  {
   "cell_type": "code",
   "execution_count": 2,
   "metadata": {},
   "outputs": [
    {
     "ename": "DatabaseError",
     "evalue": "Execution failed on sql 'SELECT * FROM A': no such table: A",
     "output_type": "error",
     "traceback": [
      "\u001b[1;31m---------------------------------------------------------------------------\u001b[0m",
      "\u001b[1;31mOperationalError\u001b[0m                          Traceback (most recent call last)",
      "\u001b[1;32m~\\anaconda3\\envs\\peone\\lib\\site-packages\\pandas\\io\\sql.py\u001b[0m in \u001b[0;36mexecute\u001b[1;34m(self, *args, **kwargs)\u001b[0m\n\u001b[0;32m   1724\u001b[0m         \u001b[1;32mtry\u001b[0m\u001b[1;33m:\u001b[0m\u001b[1;33m\u001b[0m\u001b[1;33m\u001b[0m\u001b[0m\n\u001b[1;32m-> 1725\u001b[1;33m             \u001b[0mcur\u001b[0m\u001b[1;33m.\u001b[0m\u001b[0mexecute\u001b[0m\u001b[1;33m(\u001b[0m\u001b[1;33m*\u001b[0m\u001b[0margs\u001b[0m\u001b[1;33m,\u001b[0m \u001b[1;33m**\u001b[0m\u001b[0mkwargs\u001b[0m\u001b[1;33m)\u001b[0m\u001b[1;33m\u001b[0m\u001b[1;33m\u001b[0m\u001b[0m\n\u001b[0m\u001b[0;32m   1726\u001b[0m             \u001b[1;32mreturn\u001b[0m \u001b[0mcur\u001b[0m\u001b[1;33m\u001b[0m\u001b[1;33m\u001b[0m\u001b[0m\n",
      "\u001b[1;31mOperationalError\u001b[0m: no such table: A",
      "\nThe above exception was the direct cause of the following exception:\n",
      "\u001b[1;31mDatabaseError\u001b[0m                             Traceback (most recent call last)",
      "\u001b[1;32m<ipython-input-2-ab637ef2e2a0>\u001b[0m in \u001b[0;36m<module>\u001b[1;34m\u001b[0m\n\u001b[0;32m      1\u001b[0m \u001b[0mcon\u001b[0m\u001b[1;33m=\u001b[0m\u001b[0msqlite3\u001b[0m\u001b[1;33m.\u001b[0m\u001b[0mconnect\u001b[0m\u001b[1;33m(\u001b[0m\u001b[1;34m'Table-2.db'\u001b[0m\u001b[1;33m)\u001b[0m\u001b[1;33m\u001b[0m\u001b[1;33m\u001b[0m\u001b[0m\n\u001b[1;32m----> 2\u001b[1;33m \u001b[0mraw_data\u001b[0m\u001b[1;33m=\u001b[0m\u001b[0mpd\u001b[0m\u001b[1;33m.\u001b[0m\u001b[0mread_sql_query\u001b[0m\u001b[1;33m(\u001b[0m\u001b[1;34m\"SELECT * FROM A\"\u001b[0m\u001b[1;33m,\u001b[0m\u001b[0mcon\u001b[0m\u001b[1;33m)\u001b[0m\u001b[1;33m\u001b[0m\u001b[1;33m\u001b[0m\u001b[0m\n\u001b[0m\u001b[0;32m      3\u001b[0m \u001b[0mdata\u001b[0m \u001b[1;33m=\u001b[0m \u001b[0mraw_data\u001b[0m\u001b[1;33m.\u001b[0m\u001b[0mcopy\u001b[0m\u001b[1;33m(\u001b[0m\u001b[1;33m)\u001b[0m\u001b[1;33m\u001b[0m\u001b[1;33m\u001b[0m\u001b[0m\n\u001b[0;32m      4\u001b[0m \u001b[0mprint\u001b[0m\u001b[1;33m(\u001b[0m\u001b[0mdata\u001b[0m\u001b[1;33m.\u001b[0m\u001b[0mtail\u001b[0m\u001b[1;33m(\u001b[0m\u001b[1;33m)\u001b[0m\u001b[1;33m)\u001b[0m\u001b[1;33m\u001b[0m\u001b[1;33m\u001b[0m\u001b[0m\n\u001b[0;32m      5\u001b[0m \u001b[0mprint\u001b[0m\u001b[1;33m(\u001b[0m\u001b[0mtype\u001b[0m\u001b[1;33m(\u001b[0m\u001b[0mdata\u001b[0m\u001b[1;33m)\u001b[0m\u001b[1;33m)\u001b[0m\u001b[1;33m\u001b[0m\u001b[1;33m\u001b[0m\u001b[0m\n",
      "\u001b[1;32m~\\anaconda3\\envs\\peone\\lib\\site-packages\\pandas\\io\\sql.py\u001b[0m in \u001b[0;36mread_sql_query\u001b[1;34m(sql, con, index_col, coerce_float, params, parse_dates, chunksize)\u001b[0m\n\u001b[0;32m    386\u001b[0m     \"\"\"\n\u001b[0;32m    387\u001b[0m     \u001b[0mpandas_sql\u001b[0m \u001b[1;33m=\u001b[0m \u001b[0mpandasSQL_builder\u001b[0m\u001b[1;33m(\u001b[0m\u001b[0mcon\u001b[0m\u001b[1;33m)\u001b[0m\u001b[1;33m\u001b[0m\u001b[1;33m\u001b[0m\u001b[0m\n\u001b[1;32m--> 388\u001b[1;33m     return pandas_sql.read_query(\n\u001b[0m\u001b[0;32m    389\u001b[0m         \u001b[0msql\u001b[0m\u001b[1;33m,\u001b[0m\u001b[1;33m\u001b[0m\u001b[1;33m\u001b[0m\u001b[0m\n\u001b[0;32m    390\u001b[0m         \u001b[0mindex_col\u001b[0m\u001b[1;33m=\u001b[0m\u001b[0mindex_col\u001b[0m\u001b[1;33m,\u001b[0m\u001b[1;33m\u001b[0m\u001b[1;33m\u001b[0m\u001b[0m\n",
      "\u001b[1;32m~\\anaconda3\\envs\\peone\\lib\\site-packages\\pandas\\io\\sql.py\u001b[0m in \u001b[0;36mread_query\u001b[1;34m(self, sql, index_col, coerce_float, params, parse_dates, chunksize)\u001b[0m\n\u001b[0;32m   1769\u001b[0m \u001b[1;33m\u001b[0m\u001b[0m\n\u001b[0;32m   1770\u001b[0m         \u001b[0margs\u001b[0m \u001b[1;33m=\u001b[0m \u001b[0m_convert_params\u001b[0m\u001b[1;33m(\u001b[0m\u001b[0msql\u001b[0m\u001b[1;33m,\u001b[0m \u001b[0mparams\u001b[0m\u001b[1;33m)\u001b[0m\u001b[1;33m\u001b[0m\u001b[1;33m\u001b[0m\u001b[0m\n\u001b[1;32m-> 1771\u001b[1;33m         \u001b[0mcursor\u001b[0m \u001b[1;33m=\u001b[0m \u001b[0mself\u001b[0m\u001b[1;33m.\u001b[0m\u001b[0mexecute\u001b[0m\u001b[1;33m(\u001b[0m\u001b[1;33m*\u001b[0m\u001b[0margs\u001b[0m\u001b[1;33m)\u001b[0m\u001b[1;33m\u001b[0m\u001b[1;33m\u001b[0m\u001b[0m\n\u001b[0m\u001b[0;32m   1772\u001b[0m         \u001b[0mcolumns\u001b[0m \u001b[1;33m=\u001b[0m \u001b[1;33m[\u001b[0m\u001b[0mcol_desc\u001b[0m\u001b[1;33m[\u001b[0m\u001b[1;36m0\u001b[0m\u001b[1;33m]\u001b[0m \u001b[1;32mfor\u001b[0m \u001b[0mcol_desc\u001b[0m \u001b[1;32min\u001b[0m \u001b[0mcursor\u001b[0m\u001b[1;33m.\u001b[0m\u001b[0mdescription\u001b[0m\u001b[1;33m]\u001b[0m\u001b[1;33m\u001b[0m\u001b[1;33m\u001b[0m\u001b[0m\n\u001b[0;32m   1773\u001b[0m \u001b[1;33m\u001b[0m\u001b[0m\n",
      "\u001b[1;32m~\\anaconda3\\envs\\peone\\lib\\site-packages\\pandas\\io\\sql.py\u001b[0m in \u001b[0;36mexecute\u001b[1;34m(self, *args, **kwargs)\u001b[0m\n\u001b[0;32m   1735\u001b[0m \u001b[1;33m\u001b[0m\u001b[0m\n\u001b[0;32m   1736\u001b[0m             \u001b[0mex\u001b[0m \u001b[1;33m=\u001b[0m \u001b[0mDatabaseError\u001b[0m\u001b[1;33m(\u001b[0m\u001b[1;34mf\"Execution failed on sql '{args[0]}': {exc}\"\u001b[0m\u001b[1;33m)\u001b[0m\u001b[1;33m\u001b[0m\u001b[1;33m\u001b[0m\u001b[0m\n\u001b[1;32m-> 1737\u001b[1;33m             \u001b[1;32mraise\u001b[0m \u001b[0mex\u001b[0m \u001b[1;32mfrom\u001b[0m \u001b[0mexc\u001b[0m\u001b[1;33m\u001b[0m\u001b[1;33m\u001b[0m\u001b[0m\n\u001b[0m\u001b[0;32m   1738\u001b[0m \u001b[1;33m\u001b[0m\u001b[0m\n\u001b[0;32m   1739\u001b[0m     \u001b[1;33m@\u001b[0m\u001b[0mstaticmethod\u001b[0m\u001b[1;33m\u001b[0m\u001b[1;33m\u001b[0m\u001b[0m\n",
      "\u001b[1;31mDatabaseError\u001b[0m: Execution failed on sql 'SELECT * FROM A': no such table: A"
     ]
    }
   ],
   "source": [
    "con=sqlite3.connect('Table-2.db')\n",
    "raw_data=pd.read_sql_query(\"SELECT * FROM A\",con)\n",
    "data = raw_data.copy()\n",
    "print(data.tail())\n",
    "print(type(data))"
   ]
  },
  {
   "cell_type": "code",
   "execution_count": 4,
   "metadata": {},
   "outputs": [
    {
     "name": "stdout",
     "output_type": "stream",
     "text": [
      "                   P1            P2            P3            P4            P5  \\\n",
      "1937696  1.459125e-15  1.529925e-15  1.603941e-15  1.654300e-15  1.734533e-15   \n",
      "2289090  1.186900e-10  1.146183e-10  1.106731e-10  1.068300e-10  1.031638e-10   \n",
      "559027   2.131183e-25  2.461431e-25  2.842167e-25  2.131183e-25  2.236590e-25   \n",
      "3932279  1.014280e-05  1.004761e-05  9.955005e-06  1.014280e-05  1.053638e-05   \n",
      "3439306  9.680825e-03  9.614402e-03  9.547670e-03  9.167210e-03  9.104522e-03   \n",
      "\n",
      "                   P6            P7            P8            P9            F1  \\\n",
      "1937696  1.818410e-15  1.875059e-15  1.965956e-15  2.060980e-15  1.292841e-18   \n",
      "2289090  8.962903e-11  9.612634e-11  9.612634e-11  8.962903e-11  8.202180e-14   \n",
      "559027   2.346744e-25  1.758979e-25  1.758979e-25  2.346744e-25  1.659736e-28   \n",
      "3932279  1.094675e-05  1.115176e-05  1.115176e-05  1.094675e-05  5.027441e-10   \n",
      "3439306  8.559066e-03  8.677625e-03  8.677625e-03  8.559066e-03  5.482879e-06   \n",
      "\n",
      "         ...            F3            F4        A1        B1        A2  \\\n",
      "1937696  ...  1.267842e-18  1.465540e-18  0.466222  0.884668  0.788024   \n",
      "2289090  ...  6.853548e-14  7.381385e-14 -0.541254 -0.840859 -0.747742   \n",
      "559027   ...  2.130228e-28  1.508015e-28 -0.625047  0.780587 -0.990166   \n",
      "3932279  ...  5.230216e-09  5.271755e-10 -0.998518  0.054419 -0.553267   \n",
      "3439306  ...  5.186824e-06  5.191152e-06 -0.757608 -0.652710 -0.634076   \n",
      "\n",
      "               B2        A3        B3        A4        B4  \n",
      "1937696  0.615645  0.788638  0.614857  0.465338  0.885133  \n",
      "2289090 -0.663989 -0.747079 -0.664736 -0.542094 -0.840318  \n",
      "559027   0.139899 -0.990305  0.138910 -0.625827  0.779962  \n",
      "3932279  0.833004 -0.554099  0.832451 -0.998572  0.053421  \n",
      "3439306 -0.773271 -0.633303 -0.773904 -0.758260 -0.651953  \n",
      "\n",
      "[5 rows x 21 columns]\n",
      "(9980, 21)\n",
      "<class 'pandas.core.frame.DataFrame'>\n"
     ]
    }
   ],
   "source": [
    "small_data=data.sample(frac=0.0025,random_state=0) #extraire \n",
    "small_data=shuffle(small_data) #shuffle\n",
    "print(small_data.tail())\n",
    "print(small_data.shape)\n",
    "print(type(small_data))"
   ]
  },
  {
   "cell_type": "code",
   "execution_count": 5,
   "metadata": {},
   "outputs": [
    {
     "name": "stdout",
     "output_type": "stream",
     "text": [
      "<class 'pandas.core.frame.DataFrame'>\n",
      "Int64Index: 9980 entries, 439134 to 3439306\n",
      "Data columns (total 21 columns):\n",
      " #   Column  Non-Null Count  Dtype  \n",
      "---  ------  --------------  -----  \n",
      " 0   P1      9980 non-null   float64\n",
      " 1   P2      9980 non-null   float64\n",
      " 2   P3      9980 non-null   float64\n",
      " 3   P4      9980 non-null   float64\n",
      " 4   P5      9980 non-null   float64\n",
      " 5   P6      9980 non-null   float64\n",
      " 6   P7      9980 non-null   float64\n",
      " 7   P8      9980 non-null   float64\n",
      " 8   P9      9980 non-null   float64\n",
      " 9   F1      9980 non-null   float64\n",
      " 10  F2      9980 non-null   float64\n",
      " 11  F3      9980 non-null   float64\n",
      " 12  F4      9980 non-null   float64\n",
      " 13  A1      9980 non-null   float64\n",
      " 14  B1      9980 non-null   float64\n",
      " 15  A2      9980 non-null   float64\n",
      " 16  B2      9980 non-null   float64\n",
      " 17  A3      9980 non-null   float64\n",
      " 18  B3      9980 non-null   float64\n",
      " 19  A4      9980 non-null   float64\n",
      " 20  B4      9980 non-null   float64\n",
      "dtypes: float64(21)\n",
      "memory usage: 1.7 MB\n"
     ]
    }
   ],
   "source": [
    "small_data.info()"
   ]
  },
  {
   "cell_type": "markdown",
   "metadata": {},
   "source": [
    "# Introduction de la stabilité"
   ]
  },
  {
   "cell_type": "code",
   "execution_count": 6,
   "metadata": {},
   "outputs": [
    {
     "name": "stdout",
     "output_type": "stream",
     "text": [
      "<class 'pandas.core.series.Series'>\n"
     ]
    },
    {
     "data": {
      "text/plain": [
       "Text(0, 0.5, 'Fonction objectif')"
      ]
     },
     "execution_count": 6,
     "metadata": {},
     "output_type": "execute_result"
    },
    {
     "data": {
      "image/png": "[encoded data removed]",
      "text/plain": [
       "<Figure size 432x288 with 1 Axes>"
      ]
     },
     "metadata": {
      "needs_background": "light"
     },
     "output_type": "display_data"
    }
   ],
   "source": [
    "#Attention, on devra faire varier dt et dx (=dy)\n",
    "dx=1/1001 #?\n",
    "dy=1/1001 #?\n",
    "dt=0.01 #?\n",
    "\n",
    "#Calcul fonction objectif\n",
    "w = small_data['P5']\n",
    "print(type(w))\n",
    "obj = ((small_data['F1']-small_data['F4'])/(dx*w))+((small_data['F3']-small_data['F2'])/(dy*w))\n",
    "\n",
    "#A retenir: j'utilise le fait que la serie 'obj' suit le meme ordre d'indentation que small_data, est-ce vrai?\n",
    "\n",
    "absi = small_data.index\n",
    "plt.scatter(absi,obj)\n",
    "nul = [0 for i in range((small_data.shape)[0])]\n",
    "plt.plot(absi,nul,'r')\n",
    "plt.title('Valeur prise par la fonction objectif obj')\n",
    "plt.xlabel('number of row')\n",
    "plt.ylabel('Fonction objectif')"
   ]
  },
  {
   "cell_type": "markdown",
   "metadata": {},
   "source": [
    "# Scaler les données"
   ]
  },
  {
   "cell_type": "markdown",
   "metadata": {},
   "source": [
    "but : moyenne = 0 et Ecart type = 1 >> recours a la fonction : preprocessing.StandardScaler()\n",
    "\n"
   ]
  },
  {
   "cell_type": "code",
   "execution_count": 7,
   "metadata": {},
   "outputs": [
    {
     "name": "stdout",
     "output_type": "stream",
     "text": [
      "moyenne: [ 1.60396547e-01  1.60416232e-01  1.60436281e-01  1.60406544e-01\n",
      "  1.60371121e-01  1.60297751e-01  1.60306837e-01  1.60285684e-01\n",
      "  1.60345583e-01  7.72808417e-05  7.80860777e-05  7.81018498e-05\n",
      "  7.72662893e-05 -5.67106104e-03  6.29223618e-03 -7.46448427e-03\n",
      "  8.91523874e-03 -7.27952707e-03  8.26281048e-03 -6.31795292e-03\n",
      "  6.09525853e-03]\n",
      "std [8.68567895e-02 8.68693803e-02 8.68823698e-02 8.68393253e-02\n",
      " 8.68225164e-02 8.67801806e-02 8.67638511e-02 8.67600126e-02\n",
      " 8.67886545e-02 2.71774223e-08 2.74562837e-08 2.74683068e-08\n",
      " 2.71699468e-08 5.02437863e-01 4.97490384e-01 5.02311599e-01\n",
      " 4.97553201e-01 5.02325330e-01 4.97553405e-01 5.02432055e-01\n",
      " 4.97490876e-01]\n"
     ]
    },
    {
     "data": {
      "text/plain": [
       "StandardScaler()"
      ]
     },
     "execution_count": 7,
     "metadata": {},
     "output_type": "execute_result"
    }
   ],
   "source": [
    "#On normalise avec scaler classique sur tout\n",
    "x=small_data.values\n",
    "scaler = preprocessing.StandardScaler()\n",
    "x_scaled = scaler.fit_transform(x)\n",
    "data_scaled = pd.DataFrame(x_scaled)\n",
    "col = ['P1','P2','P3','P4','P5','P6','P7','P8','P9','F1','F2','F3','F4','A1','B1','A2','B2','A3','B3','A4','B4']\n",
    "data_scaled.columns = ['P1','P2','P3','P4','P5','P6','P7','P8','P9','F1','F2','F3','F4','A1','B1','A2','B2','A3','B3','A4','B4']\n",
    "\n",
    "print('moyenne:',scaler.mean_)\n",
    "print('std',scaler.var_)\n",
    "\n",
    "\n",
    "###Introduction inverse transform pour les flux\n",
    "output_unscaled = small_data[['F1','F2','F3','F4']]\n",
    "output_unscaled_values = output_unscaled.values\n",
    "output_scaler = preprocessing.StandardScaler()\n",
    "output_scaled_values = output_scaler.fit_transform(output_unscaled_values)\n",
    "\n",
    "###Introduction inverse transform pour les valeurs d'entree du réseau\n",
    "input_unscaled = small_data[['P1','P2','P3','P4','P5','P6','P7','P8','P9','A1','B1','A2','B2','A3','B3','A4','B4']]\n",
    "input_unscaled_values = input_unscaled.values\n",
    "input_scaler = preprocessing.StandardScaler()\n",
    "input_scaler.fit(input_unscaled_values)"
   ]
  },
  {
   "cell_type": "markdown",
   "metadata": {},
   "source": [
    "# Extraire une 'petite' base de donnée de table.db, taille de l'ordre de 10 000"
   ]
  },
  {
   "cell_type": "code",
   "execution_count": 8,
   "metadata": {},
   "outputs": [],
   "source": [
    "#data_scaled_extraite=data_scaled.sample(frac=0.0025,random_state=0) #extraire \n",
    "#data_scaled_extraite=shuffle(data_scaled_extraite) #shuffle\n",
    "\n",
    "data_scaled_extraite=data_scaled\n",
    "Data_copy=data_scaled_extraite.copy()"
   ]
  },
  {
   "cell_type": "markdown",
   "metadata": {},
   "source": [
    "## Diviser la base de donnée 0.7 > entrainement ET 0.3 > test"
   ]
  },
  {
   "cell_type": "code",
   "execution_count": 9,
   "metadata": {},
   "outputs": [
    {
     "name": "stdout",
     "output_type": "stream",
     "text": [
      "The shape of the initial data before spliting it(9980, 21)\n",
      "The shape of the initial data for training(6986, 21)\n",
      "The shape of the initial data for testing(2994, 21)\n",
      "The shape of the features dataframe for training(6986, 17)\n",
      "The shape of the features dataframe for testing(2994, 17)\n",
      "The shape of the labels dataframe for training(6986, 4)\n",
      "The shape of the labels dataframe for testing(2994, 4)\n"
     ]
    }
   ],
   "source": [
    "print('The shape of the initial data before spliting it'+str(data_scaled_extraite.shape))\n",
    "\n",
    "\n",
    "data_training=data_scaled_extraite.sample(frac=0.7,random_state=0) \n",
    "data_test=data_scaled_extraite.drop(data_training.index)\n",
    "\n",
    "print('The shape of the initial data for training'+str(data_training.shape))\n",
    "print('The shape of the initial data for testing'+str(data_test.shape))\n",
    "\n",
    "\n",
    "data_training_labels = pd.DataFrame(columns =['F1','F2','F3','F4'])\n",
    "data_test_labels = pd.DataFrame(columns =['F1','F2','F3','F4'])\n",
    "\n",
    "data_training_labels['F1']=data_training['F1']\n",
    "data_training_labels['F2']=data_training['F2']\n",
    "data_training_labels['F3']=data_training['F3']\n",
    "data_training_labels['F4']=data_training['F4']\n",
    "\n",
    "\n",
    "data_test_labels['F1']=data_test['F1']\n",
    "data_test_labels['F2']=data_test['F2']\n",
    "data_test_labels['F3']=data_test['F3']\n",
    "data_test_labels['F4']=data_test['F4']\n",
    "\n",
    "\n",
    "data_training.pop('F1')\n",
    "data_training.pop('F2')\n",
    "data_training.pop('F3')\n",
    "data_training.pop('F4')\n",
    "\n",
    "data_test.pop('F1')\n",
    "data_test.pop('F2')\n",
    "data_test.pop('F3')\n",
    "data_test.pop('F4')\n",
    "\n",
    "data_training_features=data_training\n",
    "data_test_features=data_test\n",
    "\n",
    "print('The shape of the features dataframe for training'+str(data_training_features.shape))\n",
    "print('The shape of the features dataframe for testing'+str(data_test_features.shape))\n",
    "print('The shape of the labels dataframe for training'+str(data_training_labels.shape))\n",
    "print('The shape of the labels dataframe for testing'+str(data_test_labels.shape))\n"
   ]
  },
  {
   "cell_type": "markdown",
   "metadata": {},
   "source": [
    "## Créer le modèle de réseau de neurones ( fonction d'activation = LeakyRelu ) "
   ]
  },
  {
   "cell_type": "markdown",
   "metadata": {},
   "source": [
    "Définir shape = nombre de 'features' d'entrée"
   ]
  },
  {
   "cell_type": "code",
   "execution_count": 10,
   "metadata": {},
   "outputs": [],
   "source": [
    "shape = len(data.columns)-4"
   ]
  },
  {
   "cell_type": "markdown",
   "metadata": {},
   "source": [
    "On crée le réseau de neuronnes avec une implémentation du Dropout, BUT : Regularisation et diminuer l'effet du overfitting (Dropout > randomly reducing the number of interconnecting neurons within a neural network), on choisit le dropout_rate=0.2, et on l'applique sur toute les Hidden layers.\n",
    "\n",
    "\n"
   ]
  },
  {
   "cell_type": "markdown",
   "metadata": {},
   "source": [
    "Define Loss functionaa\n",
    "\n",
    "function(y_true (type:tensor), y_pred (type:tensor))\n",
    "returns: loss (type: scaler)\n"
   ]
  },
  {
   "cell_type": "code",
   "execution_count": 60,
   "metadata": {},
   "outputs": [],
   "source": [
    "def f_loss(y_true, y_pred):\n",
    "    \n",
    "    dx_tensor=tf.constant(1/1001)\n",
    "    dy_tensor=tf.constant(1/1001)\n",
    "    e = 0.000001\n",
    "    n = 2\n",
    "    \n",
    "    wobj_list = tf.TensorArray(tf.float32, size=0, dynamic_size=True)\n",
    "    for i in range(0,tf.shape(y_pred)[0]):        \n",
    "        wobj_list = wobj_list.write(i,tf.add(tf.divide(tf.subtract(y_pred[i][0],y_pred[i][3]),dx_tensor),tf.divide(tf.subtract(y_pred[i][2],y_pred[i][1]),dy_tensor)))\n",
    "        \n",
    "    wobj = wobj_list.stack()\n",
    "        \n",
    "    mse = tf.reduce_mean(tf.square(tf.subtract(y_true,y_pred)))\n",
    "    rest = e*pow(tf.maximum(0.0,-wobj),n)\n",
    "    \n",
    "    loss = mse + tf.reduce_mean(rest)\n",
    "    \n",
    "    return loss    "
   ]
  },
  {
   "cell_type": "markdown",
   "metadata": {},
   "source": [
    "Nombre de degré de liberté du réseau : 6 051 , du meme ordre de la taille de la base de données => Overfitting/Underfitting évité"
   ]
  },
  {
   "cell_type": "markdown",
   "metadata": {},
   "source": [
    "Optimiser le réseau, on choisit l'algorithm Adam et 20 000 epoches ( on peut changer d'algorithm d'optimisation apres ( gradient descent par exemple ), ca dependra de la performance ) \n",
    "On a pas encore Etudié le batch_size, on met une valeur arbitraire de 128"
   ]
  },
  {
   "cell_type": "code",
   "execution_count": 61,
   "metadata": {},
   "outputs": [
    {
     "name": "stdout",
     "output_type": "stream",
     "text": [
      "Model: \"sequential_4\"\n",
      "_________________________________________________________________\n",
      "Layer (type)                 Output Shape              Param #   \n",
      "=================================================================\n",
      "dense_20 (Dense)             (None, 17)                306       \n",
      "_________________________________________________________________\n",
      "dropout_16 (Dropout)         (None, 17)                0         \n",
      "_________________________________________________________________\n",
      "dense_21 (Dense)             (None, 70)                1260      \n",
      "_________________________________________________________________\n",
      "dropout_17 (Dropout)         (None, 70)                0         \n",
      "_________________________________________________________________\n",
      "dense_22 (Dense)             (None, 30)                2130      \n",
      "_________________________________________________________________\n",
      "dropout_18 (Dropout)         (None, 30)                0         \n",
      "_________________________________________________________________\n",
      "dense_23 (Dense)             (None, 70)                2170      \n",
      "_________________________________________________________________\n",
      "dropout_19 (Dropout)         (None, 70)                0         \n",
      "_________________________________________________________________\n",
      "dense_24 (Dense)             (None, 4)                 284       \n",
      "=================================================================\n",
      "Total params: 6,150\n",
      "Trainable params: 6,150\n",
      "Non-trainable params: 0\n",
      "_________________________________________________________________\n"
     ]
    }
   ],
   "source": [
    "def build_model():\n",
    "    model = keras.Sequential()\n",
    "    model.add(layers.Dense(17,use_bias=True,input_shape=[shape],activation='elu'))\n",
    "    model.add(keras.layers.Dropout(rate=0.2))\n",
    "    \n",
    "    model.add(layers.Dense(70,use_bias=True,input_shape=[shape],activation='elu'))\n",
    "    model.add(keras.layers.Dropout(rate=0.2))\n",
    "    \n",
    "    model.add(layers.Dense(30,use_bias=True,input_shape=[shape],activation='elu'))\n",
    "    model.add(keras.layers.Dropout(rate=0.2))\n",
    "    \n",
    "    model.add(layers.Dense(70,use_bias=True,input_shape=[shape],activation='elu'))\n",
    "    model.add(keras.layers.Dropout(rate=0.2))\n",
    "    \n",
    "    model.add(layers.Dense(4,use_bias=True,activation='elu'))\n",
    "\n",
    "    return model\n",
    "\n",
    "model = build_model()\n",
    "model.summary()\n",
    "\n",
    "def train_model():\n",
    "  \n",
    "    \n",
    "  optimizer = tf.optimizers.Adam() #Algorithm d'optimisation\n",
    "\n",
    "  model.compile(loss=f_loss,\n",
    "                optimizer='adam',\n",
    "                metrics=['mse'])\n",
    "\n",
    "  early_stop = keras.callbacks.EarlyStopping(monitor='val_mse',min_delta=1e-17, patience=10)\n",
    "  logdir = os.path.join(\"logs\", datetime.datetime.now().strftime(\"%Y%m%d-%H%M%S\"))\n",
    "  tensorboard_callback = tf.keras.callbacks.TensorBoard(logdir, histogram_freq=1,profile_batch=0)\n",
    "\n",
    "\n",
    "  model.fit(data_training_features, \n",
    "            data_training_labels, \n",
    "            epochs=2000,\n",
    "            batch_size=120,\n",
    "            validation_split = 0.5, \n",
    "            verbose=0, \n",
    "            callbacks=[early_stop,tensorboard_callback])"
   ]
  },
  {
   "cell_type": "markdown",
   "metadata": {},
   "source": [
    "La méthode callbacks.TensorBoard() a été ajouté pour conserver la performence du Réseau de neurones a chaque itération (epochs) et visualiser les courbes a la fin"
   ]
  },
  {
   "cell_type": "markdown",
   "metadata": {},
   "source": [
    "# Save the model in .h5 format "
   ]
  },
  {
   "cell_type": "code",
   "execution_count": 62,
   "metadata": {
    "scrolled": true
   },
   "outputs": [],
   "source": [
    "train_model()\n",
    "model.save(\"Advection2D_contrainteLoss.h5\")"
   ]
  },
  {
   "cell_type": "markdown",
   "metadata": {},
   "source": [
    "# Résultats"
   ]
  },
  {
   "cell_type": "code",
   "execution_count": 63,
   "metadata": {},
   "outputs": [],
   "source": [
    "Y_pred_scaled=model.predict(data_test_features) #output du réseau, qu'on veut comparer a Y_test\n",
    "Y_test_scaled=data_test_labels\n",
    "\n",
    "Y_pred_df=pd.DataFrame(Y_pred_scaled,columns=['F1','F2','F3','F4'])\n"
   ]
  },
  {
   "cell_type": "code",
   "execution_count": 64,
   "metadata": {},
   "outputs": [],
   "source": [
    "Y_pred_unscaled = output_scaler.inverse_transform(Y_pred_scaled)\n",
    "Y_test_unscaled = output_scaler.inverse_transform(Y_test_scaled)\n",
    "\n",
    "Y_pred_unscaled_df = pd.DataFrame(Y_pred_unscaled,columns=['F1','F2','F3','F4'])\n",
    "Y_test_unscaled_df = pd.DataFrame(Y_test_unscaled,columns=['F1','F2','F3','F4'])\n"
   ]
  },
  {
   "cell_type": "markdown",
   "metadata": {},
   "source": [
    "Affichage de la fontion wobj dénormalisés"
   ]
  },
  {
   "cell_type": "code",
   "execution_count": 65,
   "metadata": {},
   "outputs": [
    {
     "name": "stdout",
     "output_type": "stream",
     "text": [
      "moyenne: 0.003963083028793335\n",
      "ecart-type: 0.0015777554363012314\n",
      "moyenne du scaler[7.72808417e-05 7.80860777e-05 7.81018498e-05 7.72662893e-05]\n",
      "variance du scaler[2.71774223e-08 2.74562837e-08 2.74683068e-08 2.71699468e-08]\n",
      "nb de wobj_unscaled effectué positif: 2994\n",
      "nb de wobj_unscaled effectué négatif: 0\n"
     ]
    },
    {
     "data": {
      "image/png": "[encoded data removed]",
      "text/plain": [
       "<Figure size 432x288 with 1 Axes>"
      ]
     },
     "metadata": {
      "needs_background": "light"
     },
     "output_type": "display_data"
    }
   ],
   "source": [
    "#On va étudier avec wobj en dénormalisé\n",
    "dx=1/1001 #? Attention; ils ne sont pas normalisés ceux-là!\n",
    "dy=1/1001 #?\n",
    "dt=0.01 #?\n",
    "wobj_unscaled = ((Y_pred_unscaled_df['F1']-Y_pred_unscaled_df['F4'])/(dx))+((Y_pred_unscaled_df['F3']-Y_pred_unscaled_df['F2'])/(dy))\n",
    "\n",
    "absi = wobj_unscaled.index\n",
    "plt.scatter(absi,wobj_unscaled)\n",
    "print('moyenne:',wobj_unscaled.mean())\n",
    "print('ecart-type:',wobj_unscaled.std())\n",
    "nul = [0 for i in range((wobj_unscaled.shape)[0])]\n",
    "plt.plot(absi,nul,'r')\n",
    "\n",
    "\n",
    "x_min = absi[0]\n",
    "x_max = absi.shape[0]\n",
    "y_max = wobj_unscaled.mean() + 2*wobj_unscaled.std()\n",
    "y_min = wobj_unscaled.mean() - 2*wobj_unscaled.std()\n",
    "print('moyenne du scaler'+str(output_scaler.mean_))\n",
    "print('variance du scaler'+str(output_scaler.var_))\n",
    "\n",
    "plt.title('Valeur prise par la fonction objectif wobj_unscaled calculé après le reseau (flux dénormalisés)')\n",
    "plt.xlabel('number of row')\n",
    "plt.ylabel('Fonction objectif')\n",
    "plt.axis([x_min, x_max, y_min, y_max])\n",
    "\n",
    "\n",
    "### Ici tout est dénormalisé\n",
    "wobj_unscaled = wobj_unscaled.to_frame()\n",
    "wobj_unscaled.columns = ['wobj_unscaled']\n",
    "\n",
    "au_dessus_realise = wobj_unscaled.loc[wobj_unscaled['wobj_unscaled']>=0]\n",
    "nb_au_dessus_realise = au_dessus_realise.shape[0]\n",
    "print('nb de wobj_unscaled effectué positif: '+str(nb_au_dessus_realise))\n",
    "en_dessous_realise = wobj_unscaled.loc[wobj_unscaled['wobj_unscaled']<0]\n",
    "nb_en_dessous_realise = en_dessous_realise.shape[0]\n",
    "print('nb de wobj_unscaled effectué négatif: '+str(nb_en_dessous_realise))\n"
   ]
  },
  {
   "cell_type": "code",
   "execution_count": 66,
   "metadata": {},
   "outputs": [],
   "source": [
    "def visualize1(): #we feed it the test data\n",
    "    plt.scatter(data_test_labels['F1'],Y_pred_df['F1'], color = 'red',marker=\".\")\n",
    "    plt.scatter(data_test_labels['F1'],data_test_labels['F1'], color = 'black',marker=\".\") #just for the y=x black line, the result (red points) should be close to the line\n",
    "    \n",
    "    plt.title('Neural Network prediction de F1')\n",
    "    plt.xlabel('exact')\n",
    "    plt.ylabel('prediction')\n",
    "    \n",
    "    R2=metrics.r2_score(data_test_labels, Y_pred_df)\n",
    "    \n",
    "    Correl=np.corrcoef(data_test_labels, Y_pred_df)[0, 1]\n",
    "    \n",
    "    print('Model Performance')\n",
    "    print('Correlation: {:0.4f}.'.format(Correl))\n",
    "    print('R2: {:0.4f}.'.format(R2))\n",
    "    \n",
    "    plt.show()   \n"
   ]
  },
  {
   "cell_type": "code",
   "execution_count": 67,
   "metadata": {},
   "outputs": [],
   "source": [
    "def visualize2(): #we feed it the test data\n",
    "    plt.scatter(data_test_labels['F2'],Y_pred_df['F2'], color = 'red',marker=\".\")\n",
    "    plt.scatter(data_test_labels['F2'],data_test_labels['F2'], color = 'black',marker=\".\") #just for the y=x black line, the result (red points) should be close to the line\n",
    "    \n",
    "    \n",
    "    plt.title('Neural Network prediction de F2')\n",
    "    plt.xlabel('exact')\n",
    "    plt.ylabel('prediction')\n",
    "    \n",
    "    R2=metrics.r2_score(data_test_labels, Y_pred_df)\n",
    "    \n",
    "    Correl=np.corrcoef(data_test_labels, Y_pred_df)[0, 1]\n",
    "    \n",
    "    print('Model Performance')\n",
    "    print('Correlation: {:0.4f}.'.format(Correl))\n",
    "    print('R2: {:0.4f}.'.format(R2))\n",
    "    \n",
    "    plt.show()"
   ]
  },
  {
   "cell_type": "code",
   "execution_count": 68,
   "metadata": {},
   "outputs": [],
   "source": [
    "def visualize3(): #we feed it the test data\n",
    "    plt.scatter(data_test_labels['F3'],Y_pred_df['F3'], color = 'red',marker=\".\")\n",
    "    plt.scatter(data_test_labels['F3'],data_test_labels['F3'], color = 'black',marker=\".\") #just for the y=x black line, the result (red points) should be close to the line\n",
    "    \n",
    "    \n",
    "    plt.title('Neural Network prediction de F3')\n",
    "    plt.xlabel('exact')\n",
    "    plt.ylabel('prediction')\n",
    "    \n",
    "    R2=metrics.r2_score(data_test_labels, Y_pred_df)\n",
    "    \n",
    "    Correl=np.corrcoef(data_test_labels, Y_pred_df)[0, 1]\n",
    "    \n",
    "    print('Model Performance')\n",
    "    print('Correlation: {:0.4f}.'.format(Correl))\n",
    "    print('R2: {:0.4f}.'.format(R2))\n",
    "    \n",
    "    plt.show()"
   ]
  },
  {
   "cell_type": "code",
   "execution_count": 69,
   "metadata": {},
   "outputs": [],
   "source": [
    "def visualize4(): #we feed it the test data\n",
    "    plt.scatter(data_test_labels['F4'],Y_pred_df['F4'], color = 'red',marker=\".\")\n",
    "    plt.scatter(data_test_labels['F4'],data_test_labels['F4'], color = 'black',marker=\".\") #just for the y=x black line, the result (red points) should be close to the line\n",
    "    \n",
    "    \n",
    "    plt.title('Neural Network prediction de F4')\n",
    "    plt.xlabel('exact')\n",
    "    plt.ylabel('prediction')\n",
    "    \n",
    "    R2=metrics.r2_score(data_test_labels, Y_pred_df)\n",
    "    \n",
    "    Correl=np.corrcoef(data_test_labels, Y_pred_df)[0, 1]\n",
    "    \n",
    "    print('Model Performance')\n",
    "    print('Correlation: {:0.4f}.'.format(Correl))\n",
    "    print('R2: {:0.4f}.'.format(R2))\n",
    "    \n",
    "    plt.show()"
   ]
  },
  {
   "cell_type": "code",
   "execution_count": 70,
   "metadata": {},
   "outputs": [
    {
     "name": "stdout",
     "output_type": "stream",
     "text": [
      "Model Performance\n",
      "Correlation: 1.0000.\n",
      "R2: 0.9537.\n"
     ]
    },
    {
     "data": {
      "image/png": "[encoded data removed]",
      "text/plain": [
       "<Figure size 432x288 with 1 Axes>"
      ]
     },
     "metadata": {
      "needs_background": "light"
     },
     "output_type": "display_data"
    }
   ],
   "source": [
    "visualize1()"
   ]
  },
  {
   "cell_type": "code",
   "execution_count": 71,
   "metadata": {},
   "outputs": [
    {
     "name": "stdout",
     "output_type": "stream",
     "text": [
      "Model Performance\n",
      "Correlation: 1.0000.\n",
      "R2: 0.9537.\n"
     ]
    },
    {
     "data": {
      "image/png": "[encoded data removed]",
      "text/plain": [
       "<Figure size 432x288 with 1 Axes>"
      ]
     },
     "metadata": {
      "needs_background": "light"
     },
     "output_type": "display_data"
    }
   ],
   "source": [
    "visualize2()"
   ]
  },
  {
   "cell_type": "code",
   "execution_count": 72,
   "metadata": {},
   "outputs": [
    {
     "name": "stdout",
     "output_type": "stream",
     "text": [
      "Model Performance\n",
      "Correlation: 1.0000.\n",
      "R2: 0.9537.\n"
     ]
    },
    {
     "data": {
      "image/png": "[encoded data removed]",
      "text/plain": [
       "<Figure size 432x288 with 1 Axes>"
      ]
     },
     "metadata": {
      "needs_background": "light"
     },
     "output_type": "display_data"
    }
   ],
   "source": [
    "visualize3()"
   ]
  },
  {
   "cell_type": "code",
   "execution_count": 73,
   "metadata": {},
   "outputs": [
    {
     "name": "stdout",
     "output_type": "stream",
     "text": [
      "Model Performance\n",
      "Correlation: 1.0000.\n",
      "R2: 0.9537.\n"
     ]
    },
    {
     "data": {
      "image/png": "[encoded data removed]",
      "text/plain": [
       "<Figure size 432x288 with 1 Axes>"
      ]
     },
     "metadata": {
      "needs_background": "light"
     },
     "output_type": "display_data"
    }
   ],
   "source": [
    "visualize4()"
   ]
  },
  {
   "cell_type": "markdown",
   "metadata": {},
   "source": [
    "# Visualisation de la Loss-fonction"
   ]
  },
  {
   "cell_type": "code",
   "execution_count": null,
   "metadata": {},
   "outputs": [],
   "source": [
    "%load_ext tensorboard\n",
    "%tensorboard --logdir logs/fit"
   ]
  },
  {
   "cell_type": "code",
   "execution_count": null,
   "metadata": {},
   "outputs": [],
   "source": []
  }
 ],
 "metadata": {
  "kernelspec": {
   "display_name": "Python 3",
   "language": "python",
   "name": "python3"
  },
  "language_info": {
   "codemirror_mode": {
    "name": "ipython",
    "version": 3
   },
   "file_extension": ".py",
   "mimetype": "text/x-python",
   "name": "python",
   "nbconvert_exporter": "python",
   "pygments_lexer": "ipython3",
   "version": "3.8.8"
  }
 },
 "nbformat": 4,
 "nbformat_minor": 4
}
