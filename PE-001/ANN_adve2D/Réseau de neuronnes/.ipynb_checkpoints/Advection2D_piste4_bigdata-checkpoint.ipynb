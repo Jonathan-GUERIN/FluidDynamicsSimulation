{
 "cells": [
  {
   "cell_type": "markdown",
   "metadata": {},
   "source": [
    "# Réseau de neurones pour le calcul de flux pour l'advection en 2D"
   ]
  },
  {
   "cell_type": "markdown",
   "metadata": {},
   "source": [
    "Importer les bibliothèques utiles "
   ]
  },
  {
   "cell_type": "code",
   "execution_count": 1,
   "metadata": {},
   "outputs": [],
   "source": [
    "from __future__ import absolute_import, division, print_function, unicode_literals\n",
    "\n",
    "import sqlite3\n",
    "import pathlib\n",
    "import matplotlib.pyplot as plt\n",
    "import pandas as pd\n",
    "import seaborn as sns\n",
    "import numpy as np\n",
    "import sys\n",
    "import datetime, os\n",
    "from sklearn import metrics\n",
    "from sklearn import preprocessing\n",
    "from sklearn.utils import shuffle\n",
    "from time import time\n",
    "\n",
    "import tensorflow as tf\n",
    "from tensorflow import keras\n",
    "from tensorflow.keras import layers\n",
    "from tensorflow.keras.layers import LeakyReLU\n",
    "from tensorflow.python.keras.callbacks import TensorBoard\n",
    "from tensorflow.keras.models import load_model\n",
    "\n",
    "\n",
    "import matplotlib.pyplot as plt\n",
    "from mpl_toolkits.mplot3d import Axes3D\n",
    "import numpy as np\n",
    "from matplotlib import cm\n",
    "\n",
    "from sklearn.preprocessing import StandardScaler\n",
    "\n",
    "\n",
    "from sklearn.model_selection import GridSearchCV"
   ]
  },
  {
   "cell_type": "markdown",
   "metadata": {},
   "source": [
    "# Importer la grande base"
   ]
  },
  {
   "cell_type": "code",
   "execution_count": null,
   "metadata": {},
   "outputs": [],
   "source": [
    "con=sqlite3.connect('Table.db')\n",
    "raw_data=pd.read_sql_query(\"SELECT * FROM A\",con)\n",
    "data = raw_data.copy()\n",
    "print(data.tail())\n",
    "print(type(data))"
   ]
  },
  {
   "cell_type": "markdown",
   "metadata": {},
   "source": [
    "# Introduction de la stabilité"
   ]
  },
  {
   "cell_type": "code",
   "execution_count": null,
   "metadata": {},
   "outputs": [],
   "source": [
    "#On peut tester une petite proportion de data (plus rapide)\n",
    "small_data=data.sample(frac=0.0025,random_state=0) #extraire \n",
    "small_data=shuffle(small_data) #shuffle\n",
    "\n",
    "#test rapide i=1, gros test i=2\n",
    "i=1\n",
    "\n",
    "if i==1:\n",
    "    #Attention, on devra faire varier dt et dx (=dy)\n",
    "    dx=1/1001 #?\n",
    "    dy=1/1001 #?\n",
    "    dt=0.01 #?\n",
    "\n",
    "    #Calcul fonction objectif\n",
    "    w = small_data['P5']\n",
    "    print(type(w))\n",
    "    obj = ((small_data['F1']-small_data['F4'])/(dx*w))+((small_data['F3']-small_data['F2'])/(dy*w))\n",
    "    \n",
    "    #A retenir: j'utilise le fait que la serie 'obj' suit le meme ordre d'indentation que small_data, est-ce vrai?\n",
    "    \n",
    "    absi = small_data.index\n",
    "    plt.scatter(absi,obj)\n",
    "    nul = [0 for i in range((small_data.shape)[0])]\n",
    "    plt.plot(absi,nul,'r')\n",
    "    plt.title('Valeur prise par la fonction objectif obj')\n",
    "    plt.xlabel('number of row')\n",
    "    plt.ylabel('Fonction objectif')\n",
    "    \n",
    "elif i==2:\n",
    "    #Attention, on devra faire varier dt et dx (=dy)\n",
    "    dx=1/1001 #?\n",
    "    dy=1/1001 #?\n",
    "    dt=0.01 #?\n",
    "\n",
    "    #Calcul fonction objectif\n",
    "    w = data['P5']\n",
    "    print(type(w))\n",
    "    obj = ((data['F1']-data['F4'])/(dx*w))+((data['F3']-data['F2'])/(dy*w))\n",
    "    \n",
    "    #A retenir: j'utilise le fait que la serie 'obj' suit le meme ordre d'indentation que small_data, est-ce vrai?\n",
    "    \n",
    "    absi = data.index\n",
    "    plt.scatter(absi,obj)\n",
    "    nul = [0 for i in range((data.shape)[0])]\n",
    "    plt.plot(absi,nul,'r')\n",
    "    plt.title('Valeur prise par la fonction objectif obj')\n",
    "    plt.xlabel('number of row')\n",
    "    plt.ylabel('Fonction objectif')\n"
   ]
  },
  {
   "cell_type": "markdown",
   "metadata": {},
   "source": [
    "but : moyenne = 0 et Ecart type = 1 >> recours a la fonction : preprocessing.StandardScaler()\n",
    "\n"
   ]
  },
  {
   "cell_type": "markdown",
   "metadata": {},
   "source": [
    "# Shuffle (améliore la généralisation)"
   ]
  },
  {
   "cell_type": "code",
   "execution_count": null,
   "metadata": {},
   "outputs": [],
   "source": [
    "data = data.sample(frac = 1)\n",
    "data\n"
   ]
  },
  {
   "cell_type": "markdown",
   "metadata": {},
   "source": [
    "# Scaler la grande base"
   ]
  },
  {
   "cell_type": "code",
   "execution_count": 5,
   "metadata": {
    "scrolled": true
   },
   "outputs": [
    {
     "name": "stdout",
     "output_type": "stream",
     "text": [
      "moyenne: [ 1.60349265e-01  1.60349330e-01  1.60349265e-01  1.60385081e-01\n",
      "  1.60349394e-01  1.60286411e-01  1.60349265e-01  1.60322227e-01\n",
      "  1.60349265e-01  7.77446432e-05  7.77446432e-05  7.77446432e-05\n",
      "  7.77446432e-05  3.24974506e-04  9.55264427e-05 -9.55264427e-05\n",
      "  3.24974506e-04  9.55264427e-05 -3.24974506e-04 -3.24974506e-04\n",
      " -9.55264427e-05]\n",
      "std [8.78614806e-02 8.78615044e-02 8.78614806e-02 8.78751162e-02\n",
      " 8.78615281e-02 8.78371894e-02 8.78614806e-02 8.78508294e-02\n",
      " 8.78614806e-02 2.75861539e-08 2.75861539e-08 2.75861539e-08\n",
      " 2.75861539e-08 4.99999894e-01 4.99999991e-01 4.99999991e-01\n",
      " 4.99999894e-01 4.99999991e-01 4.99999894e-01 4.99999894e-01\n",
      " 4.99999991e-01]\n"
     ]
    },
    {
     "data": {
      "text/plain": [
       "StandardScaler()"
      ]
     },
     "execution_count": 5,
     "metadata": {},
     "output_type": "execute_result"
    }
   ],
   "source": [
    "#On normalise avec scaler classique sur tout\n",
    "\n",
    "x=data.values\n",
    "scaler = preprocessing.StandardScaler()\n",
    "x_scaled = scaler.fit_transform(x)\n",
    "data_scaled = pd.DataFrame(x_scaled)\n",
    "col = ['P1','P2','P3','P4','P5','P6','P7','P8','P9','F1','F2','F3','F4','A1','B1','A2','B2','A3','B3','A4','B4']\n",
    "data_scaled.columns = ['P1','P2','P3','P4','P5','P6','P7','P8','P9','F1','F2','F3','F4','A1','B1','A2','B2','A3','B3','A4','B4']\n",
    "\n",
    "print('moyenne:',scaler.mean_)\n",
    "print('std',scaler.var_)\n",
    "\n",
    "\n",
    "###Introduction inverse transform pour les flux\n",
    "output_unscaled = data[['F1','F2','F3','F4']]\n",
    "output_unscaled_values = output_unscaled.values\n",
    "output_scaler = preprocessing.StandardScaler()\n",
    "output_scaled_values = output_scaler.fit_transform(output_unscaled_values)\n",
    "\n",
    "###Introduction inverse transform pour les valeurs d'entree du réseau\n",
    "input_unscaled = data[['P1','P2','P3','P4','P5','P6','P7','P8','P9','A1','B1','A2','B2','A3','B3','A4','B4']]\n",
    "input_unscaled_values = input_unscaled.values\n",
    "input_scaler = preprocessing.StandardScaler()\n",
    "input_scaler.fit(input_unscaled_values)"
   ]
  },
  {
   "cell_type": "markdown",
   "metadata": {},
   "source": [
    "## Diviser la base de donnée 0.7 > entrainement ET 0.3 > test"
   ]
  },
  {
   "cell_type": "code",
   "execution_count": 6,
   "metadata": {},
   "outputs": [
    {
     "name": "stdout",
     "output_type": "stream",
     "text": [
      "The shape of the initial data before spliting it(3992004, 21)\n",
      "The shape of the initial data for training(2794403, 21)\n",
      "The shape of the initial data for testing(1197601, 21)\n",
      "The shape of the features dataframe for training(2794403, 17)\n",
      "The shape of the features dataframe for testing(1197601, 17)\n",
      "The shape of the labels dataframe for training(2794403, 4)\n",
      "The shape of the labels dataframe for testing(1197601, 4)\n"
     ]
    }
   ],
   "source": [
    "print('The shape of the initial data before spliting it'+str(data_scaled.shape))\n",
    "\n",
    "\n",
    "data_training=data_scaled.sample(frac=0.7,random_state=0) \n",
    "data_test=data_scaled.drop(data_training.index)\n",
    "\n",
    "print('The shape of the initial data for training'+str(data_training.shape))\n",
    "print('The shape of the initial data for testing'+str(data_test.shape))\n",
    "\n",
    "\n",
    "data_training_labels = pd.DataFrame(columns =['F1','F2','F3','F4'])\n",
    "data_test_labels = pd.DataFrame(columns =['F1','F2','F3','F4'])\n",
    "\n",
    "data_training_labels['F1']=data_training['F1']\n",
    "data_training_labels['F2']=data_training['F2']\n",
    "data_training_labels['F3']=data_training['F3']\n",
    "data_training_labels['F4']=data_training['F4']\n",
    "\n",
    "\n",
    "data_test_labels['F1']=data_test['F1']\n",
    "data_test_labels['F2']=data_test['F2']\n",
    "data_test_labels['F3']=data_test['F3']\n",
    "data_test_labels['F4']=data_test['F4']\n",
    "\n",
    "\n",
    "data_training.pop('F1')\n",
    "data_training.pop('F2')\n",
    "data_training.pop('F3')\n",
    "data_training.pop('F4')\n",
    "\n",
    "data_test.pop('F1')\n",
    "data_test.pop('F2')\n",
    "data_test.pop('F3')\n",
    "data_test.pop('F4')\n",
    "\n",
    "data_training_features=data_training\n",
    "data_test_features=data_test\n",
    "\n",
    "print('The shape of the features dataframe for training'+str(data_training_features.shape))\n",
    "print('The shape of the features dataframe for testing'+str(data_test_features.shape))\n",
    "print('The shape of the labels dataframe for training'+str(data_training_labels.shape))\n",
    "print('The shape of the labels dataframe for testing'+str(data_test_labels.shape))\n"
   ]
  },
  {
   "cell_type": "markdown",
   "metadata": {},
   "source": [
    "## Créer le modèle de réseau de neurones ( fonction d'activation = LeakyRelu ) "
   ]
  },
  {
   "cell_type": "markdown",
   "metadata": {},
   "source": [
    "Définir shape = nombre de 'features' d'entrée"
   ]
  },
  {
   "cell_type": "code",
   "execution_count": 7,
   "metadata": {},
   "outputs": [],
   "source": [
    "shape = len(data.columns)-4"
   ]
  },
  {
   "cell_type": "markdown",
   "metadata": {},
   "source": [
    "On crée le réseau de neuronnes avec une implémentation du Dropout, BUT : Regularisation et diminuer l'effet du overfitting (Dropout > randomly reducing the number of interconnecting neurons within a neural network), on choisit le dropout_rate=0.2, et on l'applique sur toute les Hidden layers.\n",
    "\n",
    "\n"
   ]
  },
  {
   "cell_type": "markdown",
   "metadata": {},
   "source": [
    "Define Loss functionaa\n",
    "\n",
    "function(y_true (type:tensor), y_pred (type:tensor))\n",
    "returns: loss (type: scaler)\n"
   ]
  },
  {
   "cell_type": "code",
   "execution_count": 8,
   "metadata": {},
   "outputs": [],
   "source": [
    "def f_loss(y_true, y_pred):\n",
    "    \n",
    "    dx_tensor=tf.constant(1/1001)\n",
    "    dy_tensor=tf.constant(1/1001)\n",
    "    e = 0.000001\n",
    "    n = 2\n",
    "    \n",
    "    wobj_list = tf.TensorArray(tf.float32, size=0, dynamic_size=True)\n",
    "    for i in range(0,tf.shape(y_pred)[0]):        \n",
    "        wobj_list = wobj_list.write(i,tf.add(tf.divide(tf.subtract(y_pred[i][0],y_pred[i][3]),dx_tensor),tf.divide(tf.subtract(y_pred[i][2],y_pred[i][1]),dy_tensor)))\n",
    "        \n",
    "    wobj = wobj_list.stack()\n",
    "        \n",
    "    mse = tf.reduce_mean(tf.square(tf.subtract(y_true,y_pred)))\n",
    "    rest = e*pow(tf.maximum(0.0,-wobj),n)\n",
    "    \n",
    "    loss = mse + tf.reduce_mean(rest)\n",
    "    \n",
    "    return loss    "
   ]
  },
  {
   "cell_type": "markdown",
   "metadata": {},
   "source": [
    "Nombre de degré de liberté du réseau : 6 051 , du meme ordre de la taille de la base de données => Overfitting/Underfitting évité"
   ]
  },
  {
   "cell_type": "markdown",
   "metadata": {},
   "source": [
    "Optimiser le réseau, on choisit l'algorithm Adam et 20 000 epoches ( on peut changer d'algorithm d'optimisation apres ( gradient descent par exemple ), ca dependra de la performance ) \n",
    "On a pas encore Etudié le batch_size, on met une valeur arbitraire de 128"
   ]
  },
  {
   "cell_type": "code",
   "execution_count": 25,
   "metadata": {},
   "outputs": [
    {
     "name": "stdout",
     "output_type": "stream",
     "text": [
      "Model: \"sequential_4\"\n",
      "_________________________________________________________________\n",
      "Layer (type)                 Output Shape              Param #   \n",
      "=================================================================\n",
      "dense_20 (Dense)             (None, 17)                306       \n",
      "_________________________________________________________________\n",
      "dropout_16 (Dropout)         (None, 17)                0         \n",
      "_________________________________________________________________\n",
      "dense_21 (Dense)             (None, 70)                1260      \n",
      "_________________________________________________________________\n",
      "dropout_17 (Dropout)         (None, 70)                0         \n",
      "_________________________________________________________________\n",
      "dense_22 (Dense)             (None, 40)                2840      \n",
      "_________________________________________________________________\n",
      "dropout_18 (Dropout)         (None, 40)                0         \n",
      "_________________________________________________________________\n",
      "dense_23 (Dense)             (None, 70)                2870      \n",
      "_________________________________________________________________\n",
      "dropout_19 (Dropout)         (None, 70)                0         \n",
      "_________________________________________________________________\n",
      "dense_24 (Dense)             (None, 4)                 284       \n",
      "=================================================================\n",
      "Total params: 7,560\n",
      "Trainable params: 7,560\n",
      "Non-trainable params: 0\n",
      "_________________________________________________________________\n"
     ]
    }
   ],
   "source": [
    "def build_model():\n",
    "    model = keras.Sequential()\n",
    "    model.add(layers.Dense(17,use_bias=True,input_shape=[shape],activation='elu'))\n",
    "    model.add(keras.layers.Dropout(rate=0.2))\n",
    "    \n",
    "    model.add(layers.Dense(70,use_bias=True,input_shape=[shape],activation='elu'))\n",
    "    model.add(keras.layers.Dropout(rate=0.2))\n",
    "    \n",
    "    model.add(layers.Dense(40,use_bias=True,input_shape=[shape],activation='elu'))\n",
    "    model.add(keras.layers.Dropout(rate=0.2))\n",
    "    \n",
    "    model.add(layers.Dense(70,use_bias=True,input_shape=[shape],activation='elu'))\n",
    "    model.add(keras.layers.Dropout(rate=0.2))\n",
    "    \n",
    "    model.add(layers.Dense(4,use_bias=True,activation='elu'))\n",
    "\n",
    "    return model\n",
    "\n",
    "model = build_model()\n",
    "model.summary()\n",
    "\n",
    "def train_model():\n",
    "  \n",
    "    \n",
    "  optimizer = tf.optimizers.Adam() #Algorithm d'optimisation\n",
    "\n",
    "  model.compile(loss=f_loss,\n",
    "                optimizer='adam',\n",
    "                metrics=['mse'])\n",
    "\n",
    "  early_stop = keras.callbacks.EarlyStopping(monitor='val_mse',min_delta=1e-17, patience=10)\n",
    "  logdir = os.path.join(\"logs\", datetime.datetime.now().strftime(\"%Y%m%d-%H%M%S\"))\n",
    "  tensorboard_callback = tf.keras.callbacks.TensorBoard(logdir, histogram_freq=1,profile_batch=0)\n",
    "\n",
    "\n",
    "  model.fit(data_training_features, \n",
    "            data_training_labels, \n",
    "            epochs=1300,\n",
    "            batch_size=120,\n",
    "            validation_split = 0.5, \n",
    "            verbose=0, \n",
    "            callbacks=[early_stop,tensorboard_callback])"
   ]
  },
  {
   "cell_type": "markdown",
   "metadata": {},
   "source": [
    "La méthode callbacks.TensorBoard() a été ajouté pour conserver la performence du Réseau de neurones a chaque itération (epochs) et visualiser les courbes a la fin"
   ]
  },
  {
   "cell_type": "markdown",
   "metadata": {},
   "source": [
    "# Save the model in .h5 format "
   ]
  },
  {
   "cell_type": "code",
   "execution_count": 26,
   "metadata": {
    "scrolled": true
   },
   "outputs": [],
   "source": [
    "train_model()\n",
    "model.save(\"Advection2D_contrainteLoss-1.h5\")"
   ]
  },
  {
   "cell_type": "markdown",
   "metadata": {},
   "source": [
    "# Résultats"
   ]
  },
  {
   "cell_type": "code",
   "execution_count": 27,
   "metadata": {},
   "outputs": [],
   "source": [
    "Y_pred_scaled=model.predict(data_test_features) #output du réseau, qu'on veut comparer a Y_test\n",
    "Y_test_scaled=data_test_labels\n",
    "\n",
    "Y_pred_df=pd.DataFrame(Y_pred_scaled,columns=['F1','F2','F3','F4'])\n"
   ]
  },
  {
   "cell_type": "code",
   "execution_count": 28,
   "metadata": {},
   "outputs": [],
   "source": [
    "Y_pred_unscaled = output_scaler.inverse_transform(Y_pred_scaled)\n",
    "Y_test_unscaled = output_scaler.inverse_transform(Y_test_scaled)\n",
    "\n",
    "Y_pred_unscaled_df = pd.DataFrame(Y_pred_unscaled,columns=['F1','F2','F3','F4'])\n",
    "Y_test_unscaled_df = pd.DataFrame(Y_test_unscaled,columns=['F1','F2','F3','F4'])\n"
   ]
  },
  {
   "cell_type": "markdown",
   "metadata": {},
   "source": [
    "Affichage de la fontion wobj dénormalisés"
   ]
  },
  {
   "cell_type": "code",
   "execution_count": 29,
   "metadata": {},
   "outputs": [
    {
     "name": "stdout",
     "output_type": "stream",
     "text": [
      "moyenne: 9.75040759315737e-05\n",
      "ecart-type: 0.00011589449415038753\n",
      "moyenne du scaler[7.77446432e-05 7.77446432e-05 7.77446432e-05 7.77446432e-05]\n",
      "variance du scaler[2.75861539e-08 2.75861539e-08 2.75861539e-08 2.75861539e-08]\n",
      "nb de wobj_unscaled effectué positif: 1197601\n",
      "nb de wobj_unscaled effectué négatif: 0\n"
     ]
    },
    {
     "data": {
      "image/png": "[encoded data removed]",
      "text/plain": [
       "<Figure size 432x288 with 1 Axes>"
      ]
     },
     "metadata": {
      "needs_background": "light"
     },
     "output_type": "display_data"
    }
   ],
   "source": [
    "#On va étudier avec wobj en dénormalisé\n",
    "dx=1/1001 #? Attention; ils ne sont pas normalisés ceux-là!\n",
    "dy=1/1001 #?\n",
    "dt=0.01 #?\n",
    "wobj_unscaled = ((Y_pred_unscaled_df['F1']-Y_pred_unscaled_df['F4'])/(dx))+((Y_pred_unscaled_df['F3']-Y_pred_unscaled_df['F2'])/(dy))\n",
    "\n",
    "absi = wobj_unscaled.index\n",
    "plt.scatter(absi,wobj_unscaled)\n",
    "print('moyenne:',wobj_unscaled.mean())\n",
    "print('ecart-type:',wobj_unscaled.std())\n",
    "nul = [0 for i in range((wobj_unscaled.shape)[0])]\n",
    "plt.plot(absi,nul,'r')\n",
    "\n",
    "\n",
    "x_min = absi[0]\n",
    "x_max = absi.shape[0]\n",
    "y_max = wobj_unscaled.mean() + 2*wobj_unscaled.std()\n",
    "y_min = wobj_unscaled.mean() - 2*wobj_unscaled.std()\n",
    "print('moyenne du scaler'+str(output_scaler.mean_))\n",
    "print('variance du scaler'+str(output_scaler.var_))\n",
    "\n",
    "plt.title('Valeur prise par la fonction objectif wobj_unscaled calculé après le reseau (flux dénormalisés)')\n",
    "plt.xlabel('number of row')\n",
    "plt.ylabel('Fonction objectif')\n",
    "plt.axis([x_min, x_max, y_min, y_max])\n",
    "\n",
    "\n",
    "### Ici tout est dénormalisé\n",
    "wobj_unscaled = wobj_unscaled.to_frame()\n",
    "wobj_unscaled.columns = ['wobj_unscaled']\n",
    "\n",
    "au_dessus_realise = wobj_unscaled.loc[wobj_unscaled['wobj_unscaled']>=0]\n",
    "nb_au_dessus_realise = au_dessus_realise.shape[0]\n",
    "print('nb de wobj_unscaled effectué positif: '+str(nb_au_dessus_realise))\n",
    "en_dessous_realise = wobj_unscaled.loc[wobj_unscaled['wobj_unscaled']<0]\n",
    "nb_en_dessous_realise = en_dessous_realise.shape[0]\n",
    "print('nb de wobj_unscaled effectué négatif: '+str(nb_en_dessous_realise))\n"
   ]
  },
  {
   "cell_type": "code",
   "execution_count": 32,
   "metadata": {},
   "outputs": [],
   "source": [
    "def visualize1(): #we feed it the test data\n",
    "    plt.scatter(data_test_labels['F1'],Y_pred_df['F1'], color = 'red',marker=\".\")\n",
    "    plt.scatter(data_test_labels['F1'],data_test_labels['F1'], color = 'black',marker=\".\") #just for the y=x black line, the result (red points) should be close to the line\n",
    "    \n",
    "    plt.title('Neural Network prediction de F1')\n",
    "    plt.xlabel('exact')\n",
    "    plt.ylabel('prediction')\n",
    "    \n",
    "    R2=metrics.r2_score(data_test_labels, Y_pred_df)\n",
    "    \n",
    "  \n",
    "    print('Model Performance')\n",
    "   \n",
    "    print('R2: {:0.4f}.'.format(R2))\n",
    "    \n",
    "    plt.show()   \n"
   ]
  },
  {
   "cell_type": "code",
   "execution_count": 67,
   "metadata": {},
   "outputs": [],
   "source": [
    "def visualize2(): #we feed it the test data\n",
    "    plt.scatter(data_test_labels['F2'],Y_pred_df['F2'], color = 'red',marker=\".\")\n",
    "    plt.scatter(data_test_labels['F2'],data_test_labels['F2'], color = 'black',marker=\".\") #just for the y=x black line, the result (red points) should be close to the line\n",
    "    \n",
    "    \n",
    "    plt.title('Neural Network prediction de F2')\n",
    "    plt.xlabel('exact')\n",
    "    plt.ylabel('prediction')\n",
    "    \n",
    "    R2=metrics.r2_score(data_test_labels, Y_pred_df)\n",
    "    \n",
    "   \n",
    "    \n",
    "    print('Model Performance')\n",
    " \n",
    "    print('R2: {:0.4f}.'.format(R2))\n",
    "    \n",
    "    plt.show()"
   ]
  },
  {
   "cell_type": "code",
   "execution_count": 68,
   "metadata": {},
   "outputs": [],
   "source": [
    "def visualize3(): #we feed it the test data\n",
    "    plt.scatter(data_test_labels['F3'],Y_pred_df['F3'], color = 'red',marker=\".\")\n",
    "    plt.scatter(data_test_labels['F3'],data_test_labels['F3'], color = 'black',marker=\".\") #just for the y=x black line, the result (red points) should be close to the line\n",
    "    \n",
    "    \n",
    "    plt.title('Neural Network prediction de F3')\n",
    "    plt.xlabel('exact')\n",
    "    plt.ylabel('prediction')\n",
    "    \n",
    "    R2=metrics.r2_score(data_test_labels, Y_pred_df)\n",
    "    \n",
    "    Correl=np.corrcoef(data_test_labels, Y_pred_df)[0, 1]\n",
    "    \n",
    "    print('Model Performance')\n",
    "    print('Correlation: {:0.4f}.'.format(Correl))\n",
    "    print('R2: {:0.4f}.'.format(R2))\n",
    "    \n",
    "    plt.show()"
   ]
  },
  {
   "cell_type": "code",
   "execution_count": 69,
   "metadata": {},
   "outputs": [],
   "source": [
    "def visualize4(): #we feed it the test data\n",
    "    plt.scatter(data_test_labels['F4'],Y_pred_df['F4'], color = 'red',marker=\".\")\n",
    "    plt.scatter(data_test_labels['F4'],data_test_labels['F4'], color = 'black',marker=\".\") #just for the y=x black line, the result (red points) should be close to the line\n",
    "    \n",
    "    \n",
    "    plt.title('Neural Network prediction de F4')\n",
    "    plt.xlabel('exact')\n",
    "    plt.ylabel('prediction')\n",
    "    \n",
    "    R2=metrics.r2_score(data_test_labels, Y_pred_df)\n",
    "    \n",
    "    Correl=np.corrcoef(data_test_labels, Y_pred_df)[0, 1]\n",
    "    \n",
    "    print('Model Performance')\n",
    "    print('Correlation: {:0.4f}.'.format(Correl))\n",
    "    print('R2: {:0.4f}.'.format(R2))\n",
    "    \n",
    "    plt.show()"
   ]
  },
  {
   "cell_type": "code",
   "execution_count": 33,
   "metadata": {},
   "outputs": [
    {
     "name": "stdout",
     "output_type": "stream",
     "text": [
      "Model Performance\n",
      "R2: 0.9814.\n"
     ]
    },
    {
     "data": {
      "image/png": "[encoded data removed]",
      "text/plain": [
       "<Figure size 432x288 with 1 Axes>"
      ]
     },
     "metadata": {
      "needs_background": "light"
     },
     "output_type": "display_data"
    }
   ],
   "source": [
    "visualize1()"
   ]
  },
  {
   "cell_type": "code",
   "execution_count": 71,
   "metadata": {},
   "outputs": [
    {
     "name": "stdout",
     "output_type": "stream",
     "text": [
      "Model Performance\n",
      "Correlation: 1.0000.\n",
      "R2: 0.9537.\n"
     ]
    },
    {
     "data": {
      "image/png": "[encoded data removed]",
      "text/plain": [
       "<Figure size 432x288 with 1 Axes>"
      ]
     },
     "metadata": {
      "needs_background": "light"
     },
     "output_type": "display_data"
    }
   ],
   "source": [
    "visualize2()"
   ]
  },
  {
   "cell_type": "code",
   "execution_count": 72,
   "metadata": {},
   "outputs": [
    {
     "name": "stdout",
     "output_type": "stream",
     "text": [
      "Model Performance\n",
      "Correlation: 1.0000.\n",
      "R2: 0.9537.\n"
     ]
    },
    {
     "data": {
      "image/png": "[encoded data removed]",
      "text/plain": [
       "<Figure size 432x288 with 1 Axes>"
      ]
     },
     "metadata": {
      "needs_background": "light"
     },
     "output_type": "display_data"
    }
   ],
   "source": [
    "visualize3()"
   ]
  },
  {
   "cell_type": "code",
   "execution_count": 73,
   "metadata": {},
   "outputs": [
    {
     "name": "stdout",
     "output_type": "stream",
     "text": [
      "Model Performance\n",
      "Correlation: 1.0000.\n",
      "R2: 0.9537.\n"
     ]
    },
    {
     "data": {
      "image/png": "[encoded data removed]",
      "text/plain": [
       "<Figure size 432x288 with 1 Axes>"
      ]
     },
     "metadata": {
      "needs_background": "light"
     },
     "output_type": "display_data"
    }
   ],
   "source": [
    "visualize4()"
   ]
  },
  {
   "cell_type": "markdown",
   "metadata": {},
   "source": [
    "# Visualisation de la Loss-fonction"
   ]
  },
  {
   "cell_type": "code",
   "execution_count": null,
   "metadata": {},
   "outputs": [],
   "source": [
    "%load_ext tensorboard\n",
    "%tensorboard --logdir logs/fit"
   ]
  },
  {
   "cell_type": "code",
   "execution_count": null,
   "metadata": {},
   "outputs": [],
   "source": []
  }
 ],
 "metadata": {
  "kernelspec": {
   "display_name": "Python 3",
   "language": "python",
   "name": "python3"
  },
  "language_info": {
   "codemirror_mode": {
    "name": "ipython",
    "version": 3
   },
   "file_extension": ".py",
   "mimetype": "text/x-python",
   "name": "python",
   "nbconvert_exporter": "python",
   "pygments_lexer": "ipython3",
   "version": "3.8.8"
  }
 },
 "nbformat": 4,
 "nbformat_minor": 4
}
