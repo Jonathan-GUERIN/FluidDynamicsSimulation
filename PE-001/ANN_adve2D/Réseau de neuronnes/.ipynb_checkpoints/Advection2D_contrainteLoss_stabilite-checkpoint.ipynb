{
 "cells": [
  {
   "cell_type": "markdown",
   "metadata": {},
   "source": [
    "# Réseau de neurones pour le calcul de flux pour l'advection en 2D"
   ]
  },
  {
   "cell_type": "markdown",
   "metadata": {},
   "source": [
    "Importer les bibliothèques utiles "
   ]
  },
  {
   "cell_type": "code",
   "execution_count": 3,
   "metadata": {},
   "outputs": [],
   "source": [
    "from __future__ import absolute_import, division, print_function, unicode_literals\n",
    "\n",
    "import sqlite3\n",
    "import pathlib\n",
    "import matplotlib.pyplot as plt\n",
    "import pandas as pd\n",
    "import seaborn as sns\n",
    "import numpy as np\n",
    "import sys\n",
    "import datetime, os\n",
    "from sklearn import metrics\n",
    "from sklearn import preprocessing\n",
    "from sklearn.utils import shuffle\n",
    "from time import time\n",
    "\n",
    "import tensorflow as tf\n",
    "from tensorflow import keras\n",
    "from tensorflow.keras import layers\n",
    "from tensorflow.keras.layers import LeakyReLU\n",
    "from tensorflow.python.keras.callbacks import TensorBoard\n",
    "from tensorflow.keras.models import load_model\n",
    "\n",
    "\n",
    "import matplotlib.pyplot as plt\n",
    "from mpl_toolkits.mplot3d import Axes3D\n",
    "import numpy as np\n",
    "from matplotlib import cm\n",
    "\n",
    "from sklearn.preprocessing import StandardScaler\n",
    "\n",
    "\n",
    "from sklearn.model_selection import GridSearchCV"
   ]
  },
  {
   "cell_type": "markdown",
   "metadata": {},
   "source": [
    "Importer la base de donnée et visualiser les dernieres lignes"
   ]
  },
  {
   "cell_type": "code",
   "execution_count": 4,
   "metadata": {},
   "outputs": [
    {
     "name": "stdout",
     "output_type": "stream",
     "text": [
      "                   P1            P2            P3            P4            P5  \\\n",
      "3991999  1.044813e-24  1.365423e-24  1.783170e-24  1.044813e-24  1.580897e-24   \n",
      "3992000  1.073063e-24  9.264329e-25  7.989262e-25  1.401159e-24  1.210625e-24   \n",
      "3992001  1.828304e-24  1.401159e-24  1.073063e-24  1.580897e-24  1.210625e-24   \n",
      "3992002  1.365423e-24  1.580897e-24  1.828304e-24  1.044813e-24  1.210625e-24   \n",
      "3992003  7.989262e-25  1.044813e-24  1.365423e-24  7.989262e-25  1.210625e-24   \n",
      "\n",
      "                   P6            P7            P8            P9            F1  \\\n",
      "3991999  2.384010e-24  1.401159e-24  1.401159e-24  2.384010e-24  1.127537e-27   \n",
      "3992000  1.044813e-24  1.828304e-24  1.580897e-24  1.365423e-24  5.199348e-28   \n",
      "3992001  7.989262e-25  1.365423e-24  1.044813e-24  7.989262e-25  1.000165e-27   \n",
      "3992002  1.073063e-24  7.989262e-25  7.989262e-25  1.073063e-24  6.791624e-28   \n",
      "3992003  1.828304e-24  1.073063e-24  1.073063e-24  1.828304e-24  8.637148e-28   \n",
      "\n",
      "         ...            F3            F4        A1        B1        A2  \\\n",
      "3991999  ...  8.865358e-28  1.304662e-27 -0.542402  0.840119 -0.541563   \n",
      "3992000  ...  8.637148e-28  6.791624e-28  0.840660  0.541563  0.840119   \n",
      "3992001  ...  5.199348e-28  8.637148e-28  0.542402 -0.840119  0.542402   \n",
      "3992002  ...  1.000165e-27  5.199348e-28 -0.840119 -0.542402 -0.840660   \n",
      "3992003  ...  6.791624e-28  1.000165e-27 -0.541563  0.840660 -0.541563   \n",
      "\n",
      "               B2        A3        B3        A4        B4  \n",
      "3991999  0.840660 -0.542402  0.840119 -0.543241  0.839577  \n",
      "3992000  0.542402  0.840660  0.541563  0.840119  0.542402  \n",
      "3992001 -0.840119  0.541563 -0.840660  0.541563 -0.840660  \n",
      "3992002 -0.541563 -0.840119 -0.542402 -0.840660 -0.541563  \n",
      "3992003  0.840660 -0.542402  0.840119 -0.542402  0.840119  \n",
      "\n",
      "[5 rows x 21 columns]\n",
      "<class 'pandas.core.frame.DataFrame'>\n"
     ]
    }
   ],
   "source": [
    "con=sqlite3.connect('Table.db')\n",
    "raw_data=pd.read_sql_query(\"SELECT * FROM A\",con)\n",
    "data = raw_data.copy()\n",
    "print(data.tail())\n",
    "print(type(data))"
   ]
  },
  {
   "cell_type": "code",
   "execution_count": 5,
   "metadata": {},
   "outputs": [
    {
     "name": "stdout",
     "output_type": "stream",
     "text": [
      "                   P1            P2            P3            P4            P5  \\\n",
      "1508669  1.167113e-04  1.115761e-04  1.066479e-04  1.211574e-04  1.158352e-04   \n",
      "1478198  1.003987e-18  9.422942e-19  8.842675e-19  8.798293e-19  8.257245e-19   \n",
      "2188423  1.679239e-04  1.773966e-04  1.873603e-04  1.679239e-04  1.721898e-04   \n",
      "3446334  7.879814e-01  7.915414e-01  7.950892e-01  7.949042e-01  7.984205e-01   \n",
      "380819   5.385678e-06  5.542938e-06  5.704082e-06  5.385678e-06  5.279058e-06   \n",
      "\n",
      "                   P6            P7            P8            P9            F1  \\\n",
      "1508669  1.149517e-04  1.257609e-04  1.202456e-04  1.149517e-04  5.310497e-08   \n",
      "1478198  6.787753e-19  7.708269e-19  7.708269e-19  6.787753e-19  7.371684e-22   \n",
      "2188423  1.765298e-04  1.581784e-04  1.581784e-04  1.765298e-04  9.571964e-08   \n",
      "3446334  8.086986e-01  8.017698e-01  8.017698e-01  8.086986e-01  4.650457e-04   \n",
      "380819   5.173946e-06  4.884059e-06  4.884059e-06  5.173946e-06  1.440097e-09   \n",
      "\n",
      "         ...            F3            F4        A1        B1        A2  \\\n",
      "1508669  ...  9.446345e-08  5.512929e-08  0.855668 -0.517525  0.929728   \n",
      "1478198  ...  5.756713e-22  6.458899e-22 -0.360805 -0.932641 -0.794741   \n",
      "2188423  ...  1.356239e-07  9.290652e-08 -0.794358  0.607451 -0.853593   \n",
      "3446334  ...  3.102063e-04  4.690507e-04 -0.758910 -0.651195 -0.431409   \n",
      "380819   ...  4.781472e-09  1.371472e-09 -0.955277  0.295711 -0.995357   \n",
      "\n",
      "               B2        A3        B3        A4        B4  \n",
      "1508669 -0.368247  0.929360 -0.369176  0.855151 -0.518380  \n",
      "1478198 -0.606948 -0.794135 -0.607742 -0.361737 -0.932280  \n",
      "2188423  0.520940 -0.854113  0.520087 -0.794964  0.606657  \n",
      "3446334 -0.902156 -0.430507 -0.902587 -0.759561 -0.650436  \n",
      "380819   0.096254 -0.995452  0.095260 -0.955572  0.294757  \n",
      "\n",
      "[5 rows x 21 columns]\n",
      "(9980, 21)\n",
      "<class 'pandas.core.frame.DataFrame'>\n"
     ]
    }
   ],
   "source": [
    "small_data=data.sample(frac=0.0025,random_state=0) #extraire \n",
    "small_data=shuffle(small_data) #shuffle\n",
    "print(small_data.tail())\n",
    "print(small_data.shape)\n",
    "print(type(small_data))"
   ]
  },
  {
   "cell_type": "code",
   "execution_count": 6,
   "metadata": {},
   "outputs": [
    {
     "name": "stdout",
     "output_type": "stream",
     "text": [
      "<class 'pandas.core.frame.DataFrame'>\n",
      "Int64Index: 9980 entries, 573412 to 380819\n",
      "Data columns (total 21 columns):\n",
      " #   Column  Non-Null Count  Dtype  \n",
      "---  ------  --------------  -----  \n",
      " 0   P1      9980 non-null   float64\n",
      " 1   P2      9980 non-null   float64\n",
      " 2   P3      9980 non-null   float64\n",
      " 3   P4      9980 non-null   float64\n",
      " 4   P5      9980 non-null   float64\n",
      " 5   P6      9980 non-null   float64\n",
      " 6   P7      9980 non-null   float64\n",
      " 7   P8      9980 non-null   float64\n",
      " 8   P9      9980 non-null   float64\n",
      " 9   F1      9980 non-null   float64\n",
      " 10  F2      9980 non-null   float64\n",
      " 11  F3      9980 non-null   float64\n",
      " 12  F4      9980 non-null   float64\n",
      " 13  A1      9980 non-null   float64\n",
      " 14  B1      9980 non-null   float64\n",
      " 15  A2      9980 non-null   float64\n",
      " 16  B2      9980 non-null   float64\n",
      " 17  A3      9980 non-null   float64\n",
      " 18  B3      9980 non-null   float64\n",
      " 19  A4      9980 non-null   float64\n",
      " 20  B4      9980 non-null   float64\n",
      "dtypes: float64(21)\n",
      "memory usage: 1.7 MB\n"
     ]
    }
   ],
   "source": [
    "small_data.info()"
   ]
  },
  {
   "cell_type": "markdown",
   "metadata": {},
   "source": [
    "# Introduction de la stabilité"
   ]
  },
  {
   "cell_type": "code",
   "execution_count": 7,
   "metadata": {},
   "outputs": [
    {
     "name": "stdout",
     "output_type": "stream",
     "text": [
      "<class 'pandas.core.series.Series'>\n"
     ]
    },
    {
     "data": {
      "text/plain": [
       "Text(0, 0.5, 'Fonction objectif')"
      ]
     },
     "execution_count": 7,
     "metadata": {},
     "output_type": "execute_result"
    },
    {
     "data": {
      "image/png": "[encoded data removed]",
      "text/plain": [
       "<Figure size 432x288 with 1 Axes>"
      ]
     },
     "metadata": {
      "needs_background": "light"
     },
     "output_type": "display_data"
    }
   ],
   "source": [
    "#Attention, on devra faire varier dt et dx (=dy)\n",
    "dx=1/1001 #?\n",
    "dy=1/1001 #?\n",
    "dt=0.01 #?\n",
    "\n",
    "#Calcul fonction objectif\n",
    "w = small_data['P5']\n",
    "print(type(w))\n",
    "obj = ((small_data['F1']-small_data['F4'])/(dx*w))+((small_data['F3']-small_data['F2'])/(dy*w))\n",
    "\n",
    "#A retenir: j'utilise le fait que la serie 'obj' suit le meme ordre d'indentation que small_data, est-ce vrai?\n",
    "\n",
    "absi = small_data.index\n",
    "plt.scatter(absi,obj)\n",
    "nul = [0 for i in range((small_data.shape)[0])]\n",
    "plt.plot(absi,nul,'r')\n",
    "plt.title('Valeur prise par la fonction objectif obj')\n",
    "plt.xlabel('number of row')\n",
    "plt.ylabel('Fonction objectif')"
   ]
  },
  {
   "cell_type": "markdown",
   "metadata": {},
   "source": [
    "# Scaler les données"
   ]
  },
  {
   "cell_type": "markdown",
   "metadata": {},
   "source": [
    "but : moyenne = 0 et Ecart type = 1 >> recours a la fonction : preprocessing.StandardScaler()\n",
    "\n"
   ]
  },
  {
   "cell_type": "code",
   "execution_count": 8,
   "metadata": {},
   "outputs": [
    {
     "name": "stdout",
     "output_type": "stream",
     "text": [
      "moyenne: [ 1.60396547e-01  1.60416232e-01  1.60436281e-01  1.60406544e-01\n",
      "  1.60371121e-01  1.60297751e-01  1.60306837e-01  1.60285684e-01\n",
      "  1.60345583e-01  7.72808417e-05  7.80860777e-05  7.81018498e-05\n",
      "  7.72662893e-05 -5.67106104e-03  6.29223618e-03 -7.46448427e-03\n",
      "  8.91523874e-03 -7.27952707e-03  8.26281048e-03 -6.31795292e-03\n",
      "  6.09525853e-03]\n",
      "std [8.68567895e-02 8.68693803e-02 8.68823698e-02 8.68393253e-02\n",
      " 8.68225164e-02 8.67801806e-02 8.67638511e-02 8.67600126e-02\n",
      " 8.67886545e-02 2.71774223e-08 2.74562837e-08 2.74683068e-08\n",
      " 2.71699468e-08 5.02437863e-01 4.97490384e-01 5.02311599e-01\n",
      " 4.97553201e-01 5.02325330e-01 4.97553405e-01 5.02432055e-01\n",
      " 4.97490876e-01]\n"
     ]
    },
    {
     "data": {
      "text/plain": [
       "StandardScaler()"
      ]
     },
     "execution_count": 8,
     "metadata": {},
     "output_type": "execute_result"
    }
   ],
   "source": [
    "#On normalise avec scaler classique sur tout\n",
    "x=small_data.values\n",
    "scaler = preprocessing.StandardScaler()\n",
    "x_scaled = scaler.fit_transform(x)\n",
    "data_scaled = pd.DataFrame(x_scaled)\n",
    "col = ['P1','P2','P3','P4','P5','P6','P7','P8','P9','F1','F2','F3','F4','A1','B1','A2','B2','A3','B3','A4','B4']\n",
    "data_scaled.columns = ['P1','P2','P3','P4','P5','P6','P7','P8','P9','F1','F2','F3','F4','A1','B1','A2','B2','A3','B3','A4','B4']\n",
    "\n",
    "print('moyenne:',scaler.mean_)\n",
    "print('std',scaler.var_)\n",
    "\n",
    "\n",
    "###Introduction inverse transform pour les flux\n",
    "output_unscaled = small_data[['F1','F2','F3','F4']]\n",
    "output_unscaled_values = output_unscaled.values\n",
    "output_scaler = preprocessing.StandardScaler()\n",
    "output_scaled_values = output_scaler.fit_transform(output_unscaled_values)\n",
    "\n",
    "###Introduction inverse transform pour les valeurs d'entree du réseau\n",
    "input_unscaled = small_data[['P1','P2','P3','P4','P5','P6','P7','P8','P9','A1','B1','A2','B2','A3','B3','A4','B4']]\n",
    "input_unscaled_values = input_unscaled.values\n",
    "input_scaler = preprocessing.StandardScaler()\n",
    "input_scaler.fit(input_unscaled_values)"
   ]
  },
  {
   "cell_type": "markdown",
   "metadata": {},
   "source": [
    "# Extraire une 'petite' base de donnée de table.db, taille de l'ordre de 10 000"
   ]
  },
  {
   "cell_type": "code",
   "execution_count": 9,
   "metadata": {},
   "outputs": [],
   "source": [
    "#data_scaled_extraite=data_scaled.sample(frac=0.0025,random_state=0) #extraire \n",
    "#data_scaled_extraite=shuffle(data_scaled_extraite) #shuffle\n",
    "\n",
    "data_scaled_extraite=data_scaled\n",
    "Data_copy=data_scaled_extraite.copy()"
   ]
  },
  {
   "cell_type": "markdown",
   "metadata": {},
   "source": [
    "## Diviser la base de donnée 0.7 > entrainement ET 0.3 > test"
   ]
  },
  {
   "cell_type": "code",
   "execution_count": 10,
   "metadata": {},
   "outputs": [
    {
     "name": "stdout",
     "output_type": "stream",
     "text": [
      "The shape of the initial data before spliting it(9980, 21)\n",
      "The shape of the initial data for training(6986, 21)\n",
      "The shape of the initial data for testing(2994, 21)\n",
      "The shape of the features dataframe for training(6986, 17)\n",
      "The shape of the features dataframe for testing(2994, 17)\n",
      "The shape of the labels dataframe for training(6986, 4)\n",
      "The shape of the labels dataframe for testing(2994, 4)\n"
     ]
    }
   ],
   "source": [
    "print('The shape of the initial data before spliting it'+str(data_scaled_extraite.shape))\n",
    "\n",
    "\n",
    "data_training=data_scaled_extraite.sample(frac=0.7,random_state=0) \n",
    "data_test=data_scaled_extraite.drop(data_training.index)\n",
    "\n",
    "print('The shape of the initial data for training'+str(data_training.shape))\n",
    "print('The shape of the initial data for testing'+str(data_test.shape))\n",
    "\n",
    "\n",
    "data_training_labels = pd.DataFrame(columns =['F1','F2','F3','F4'])\n",
    "data_test_labels = pd.DataFrame(columns =['F1','F2','F3','F4'])\n",
    "\n",
    "data_training_labels['F1']=data_training['F1']\n",
    "data_training_labels['F2']=data_training['F2']\n",
    "data_training_labels['F3']=data_training['F3']\n",
    "data_training_labels['F4']=data_training['F4']\n",
    "\n",
    "\n",
    "data_test_labels['F1']=data_test['F1']\n",
    "data_test_labels['F2']=data_test['F2']\n",
    "data_test_labels['F3']=data_test['F3']\n",
    "data_test_labels['F4']=data_test['F4']\n",
    "\n",
    "\n",
    "data_training.pop('F1')\n",
    "data_training.pop('F2')\n",
    "data_training.pop('F3')\n",
    "data_training.pop('F4')\n",
    "\n",
    "data_test.pop('F1')\n",
    "data_test.pop('F2')\n",
    "data_test.pop('F3')\n",
    "data_test.pop('F4')\n",
    "\n",
    "data_training_features=data_training\n",
    "data_test_features=data_test\n",
    "\n",
    "print('The shape of the features dataframe for training'+str(data_training_features.shape))\n",
    "print('The shape of the features dataframe for testing'+str(data_test_features.shape))\n",
    "print('The shape of the labels dataframe for training'+str(data_training_labels.shape))\n",
    "print('The shape of the labels dataframe for testing'+str(data_test_labels.shape))\n"
   ]
  },
  {
   "cell_type": "markdown",
   "metadata": {},
   "source": [
    "## Créer le modèle de réseau de neurones ( fonction d'activation = LeakyRelu ) "
   ]
  },
  {
   "cell_type": "markdown",
   "metadata": {},
   "source": [
    "Définir shape = nombre de 'features' d'entrée"
   ]
  },
  {
   "cell_type": "code",
   "execution_count": 11,
   "metadata": {},
   "outputs": [],
   "source": [
    "shape = len(data.columns)-4"
   ]
  },
  {
   "cell_type": "markdown",
   "metadata": {},
   "source": [
    "On crée le réseau de neuronnes avec une implémentation du Dropout, BUT : Regularisation et diminuer l'effet du overfitting (Dropout > randomly reducing the number of interconnecting neurons within a neural network), on choisit le dropout_rate=0.2, et on l'applique sur toute les Hidden layers.\n",
    "\n",
    "\n"
   ]
  },
  {
   "cell_type": "markdown",
   "metadata": {},
   "source": [
    "Define Loss functionaa\n",
    "\n",
    "function(y_true (type:tensor), y_pred (type:tensor))\n",
    "returns: loss (type: scaler)\n"
   ]
  },
  {
   "cell_type": "code",
   "execution_count": 12,
   "metadata": {},
   "outputs": [],
   "source": [
    "def f_loss2(y_true, y_pred):\n",
    "\n",
    "    dx_tensor=tf.constant(1/1001)\n",
    "    dy_tensor=tf.constant(1/1001)\n",
    "    e = 1\n",
    "    n = 2\n",
    "\n",
    "    wobj_list = tf.TensorArray(tf.float32, size=0, dynamic_size=True)\n",
    "    #print(tf.shape(y_pred))\n",
    "    #l = tf.shape(y_pred)[0]\n",
    "    #L = l.numpy()\n",
    "    #print(L)\n",
    "    \n",
    "    #l = y_pred.get_shape().as_list()\n",
    "    #L = tf.shape(y_pred)[0].value\n",
    "    #print(L)\n",
    "    #Shape = y_pred.shape.as_list()\n",
    "    #print(Shape) \n",
    "    \n",
    "    #Shape = y_pred.get_shape().as_list()\n",
    "    #Shape = tf.shape(y_pred)[0].eval()\n",
    "    tf.print(tf.shape(y_pred)[0])\n",
    "    \n",
    "    for i in tf.range(0,tf.shape(y_pred)[0]):\n",
    "        wobj_list = wobj_list.write(i,tf.add(tf.divide(tf.subtract(y_pred[i][0],y_pred[i][3]),dx_tensor),tf.divide(tf.subtract(y_pred[i][2],y_pred[i][1]),dy_tensor)))\n",
    "\n",
    "    wobj = wobj_list.stack()\n",
    "\n",
    "    mse = tf.reduce_mean(tf.square(tf.subtract(y_true,y_pred)))\n",
    "    rest = e*pow(tf.maximum(0.0,-wobj),n)\n",
    "\n",
    "    loss = mse + tf.reduce_mean(rest)\n",
    "\n",
    "    return loss  "
   ]
  },
  {
   "cell_type": "code",
   "execution_count": 38,
   "metadata": {},
   "outputs": [
    {
     "ename": "SyntaxError",
     "evalue": "invalid syntax (<ipython-input-38-9998a35a2449>, line 17)",
     "output_type": "error",
     "traceback": [
      "\u001b[1;36m  File \u001b[1;32m\"<ipython-input-38-9998a35a2449>\"\u001b[1;36m, line \u001b[1;32m17\u001b[0m\n\u001b[1;33m    print sess.run(tf.shape(y_pred))\u001b[0m\n\u001b[1;37m          ^\u001b[0m\n\u001b[1;31mSyntaxError\u001b[0m\u001b[1;31m:\u001b[0m invalid syntax\n"
     ]
    }
   ],
   "source": [
    "def f_loss(y_true, y_pred):\n",
    "\n",
    "    dx_tensor=tf.constant(1/1001)\n",
    "    dy_tensor=tf.constant(1/1001)\n",
    "    e = 1\n",
    "    n = 2\n",
    "\n",
    "    wobj_list = tf.TensorArray(tf.float32, size=0, dynamic_size=True)\n",
    "    \n",
    "    #tf.print(y_pred.get_shape().as_list())\n",
    "    #tf.print(type(tf.shape(y_pred)[0]))\n",
    "    #with tf.Session() as sess:  print(tf.shape(y_pred)[0].eval()) \n",
    "    #v = y_pred.get_shape()\n",
    "    #loop = v.num_elements()\n",
    "    print(tf.shape(y_pred))\n",
    "    with tf.Session() as sess:\n",
    "        print sess.run(tf.shape(y_pred))\n",
    "    \n",
    "    \n",
    "    loop = 120\n",
    "    #t=tf.shape(y_pred)[0]\n",
    "    for i in range(0,loop):\n",
    "        wobj_list = wobj_list.write(i,tf.add(tf.divide(tf.subtract(y_pred[i][0],y_pred[i][3]),dx_tensor),tf.divide(tf.subtract(y_pred[i][2],y_pred[i][1]),dy_tensor)))\n",
    "\n",
    "    wobj = wobj_list.stack()\n",
    "\n",
    "    mse = tf.reduce_mean(tf.square(tf.subtract(y_true,y_pred)))\n",
    "    rest = e*pow(tf.maximum(0.0,-wobj),n)\n",
    "\n",
    "    loss = mse + tf.reduce_mean(rest)\n",
    "\n",
    "    return loss"
   ]
  },
  {
   "cell_type": "code",
   "execution_count": 39,
   "metadata": {},
   "outputs": [
    {
     "data": {
      "text/plain": [
       "'2.3.0'"
      ]
     },
     "execution_count": 39,
     "metadata": {},
     "output_type": "execute_result"
    }
   ],
   "source": [
    "import tensorflow as tf\n",
    "tf.version.VERSION"
   ]
  },
  {
   "cell_type": "markdown",
   "metadata": {},
   "source": [
    "Nombre de degré de liberté du réseau : 6 051 , du meme ordre de la taille de la base de données => Overfitting/Underfitting évité"
   ]
  },
  {
   "cell_type": "markdown",
   "metadata": {},
   "source": [
    "Optimiser le réseau, on choisit l'algorithm Adam et 20 000 epoches ( on peut changer d'algorithm d'optimisation apres ( gradient descent par exemple ), ca dependra de la performance ) \n",
    "On a pas encore Etudié le batch_size, on met une valeur arbitraire de 128"
   ]
  },
  {
   "cell_type": "code",
   "execution_count": 36,
   "metadata": {},
   "outputs": [
    {
     "name": "stdout",
     "output_type": "stream",
     "text": [
      "Model: \"sequential_5\"\n",
      "_________________________________________________________________\n",
      "Layer (type)                 Output Shape              Param #   \n",
      "=================================================================\n",
      "dense_25 (Dense)             (None, 17)                306       \n",
      "_________________________________________________________________\n",
      "dropout_20 (Dropout)         (None, 17)                0         \n",
      "_________________________________________________________________\n",
      "dense_26 (Dense)             (None, 20)                360       \n",
      "_________________________________________________________________\n",
      "dropout_21 (Dropout)         (None, 20)                0         \n",
      "_________________________________________________________________\n",
      "dense_27 (Dense)             (None, 30)                630       \n",
      "_________________________________________________________________\n",
      "dropout_22 (Dropout)         (None, 30)                0         \n",
      "_________________________________________________________________\n",
      "dense_28 (Dense)             (None, 20)                620       \n",
      "_________________________________________________________________\n",
      "dropout_23 (Dropout)         (None, 20)                0         \n",
      "_________________________________________________________________\n",
      "dense_29 (Dense)             (None, 4)                 84        \n",
      "=================================================================\n",
      "Total params: 2,000\n",
      "Trainable params: 2,000\n",
      "Non-trainable params: 0\n",
      "_________________________________________________________________\n"
     ]
    }
   ],
   "source": [
    "def build_model():\n",
    "    model = keras.Sequential()\n",
    "    model.add(layers.Dense(17,use_bias=True,input_shape=[shape],activation='elu'))\n",
    "    model.add(keras.layers.Dropout(rate=0.2))\n",
    "    \n",
    "    model.add(layers.Dense(20,use_bias=True,input_shape=[shape],activation='elu'))\n",
    "    model.add(keras.layers.Dropout(rate=0.2))\n",
    "    \n",
    "    model.add(layers.Dense(30,use_bias=True,input_shape=[shape],activation='elu'))\n",
    "    model.add(keras.layers.Dropout(rate=0.2))\n",
    "    \n",
    "    model.add(layers.Dense(20,use_bias=True,input_shape=[shape],activation='elu'))\n",
    "    model.add(keras.layers.Dropout(rate=0.2))\n",
    "    \n",
    "    model.add(layers.Dense(4,use_bias=True,activation='elu'))\n",
    "\n",
    "    return model\n",
    "\n",
    "model = build_model()\n",
    "model.summary()\n",
    "\n",
    "def train_model():\n",
    "  \n",
    "    \n",
    "  optimizer = tf.optimizers.Adam() #Algorithm d'optimisation\n",
    "\n",
    "  model.compile(loss=f_loss,\n",
    "                optimizer='adam',\n",
    "                metrics=['mse'])\n",
    "\n",
    "  early_stop = keras.callbacks.EarlyStopping(monitor='val_mse',min_delta=1e-17, patience=10)\n",
    "  logdir = os.path.join(\"logs\", datetime.datetime.now().strftime(\"%Y%m%d-%H%M%S\"))\n",
    "  tensorboard_callback = tf.keras.callbacks.TensorBoard(logdir, histogram_freq=1,profile_batch=0)\n",
    "\n",
    "\n",
    "  model.fit(data_training_features, \n",
    "            data_training_labels, \n",
    "            epochs=600,\n",
    "            batch_size=120,\n",
    "            validation_split = 0.5, \n",
    "            verbose=0, \n",
    "            callbacks=[early_stop,tensorboard_callback])"
   ]
  },
  {
   "cell_type": "markdown",
   "metadata": {},
   "source": [
    "La méthode callbacks.TensorBoard() a été ajouté pour conserver la performence du Réseau de neurones a chaque itération (epochs) et visualiser les courbes a la fin"
   ]
  },
  {
   "cell_type": "markdown",
   "metadata": {},
   "source": [
    "# Save the model in .h5 format "
   ]
  },
  {
   "cell_type": "code",
   "execution_count": 37,
   "metadata": {
    "scrolled": true
   },
   "outputs": [
    {
     "name": "stdout",
     "output_type": "stream",
     "text": [
      "WARNING:tensorflow:AutoGraph could not transform <function f_loss at 0x0000021E17897280> and will run it as-is.\n",
      "Please report this to the TensorFlow team. When filing the bug, set the verbosity to 10 (on Linux, `export AUTOGRAPH_VERBOSITY=10`) and attach the full output.\n",
      "Cause: module 'gast' has no attribute 'Index'\n",
      "To silence this warning, decorate the function with @tf.autograph.experimental.do_not_convert\n",
      "WARNING: AutoGraph could not transform <function f_loss at 0x0000021E17897280> and will run it as-is.\n",
      "Please report this to the TensorFlow team. When filing the bug, set the verbosity to 10 (on Linux, `export AUTOGRAPH_VERBOSITY=10`) and attach the full output.\n",
      "Cause: module 'gast' has no attribute 'Index'\n",
      "To silence this warning, decorate the function with @tf.autograph.experimental.do_not_convert\n",
      "Tensor(\"f_loss/Shape:0\", shape=(2,), dtype=int32)\n",
      "Tensor(\"f_loss/Shape:0\", shape=(2,), dtype=int32)\n"
     ]
    },
    {
     "ename": "InvalidArgumentError",
     "evalue": " slice index 32 of dimension 0 out of bounds.\n\t [[node f_loss/strided_slice_256 (defined at <ipython-input-34-d46a97dee819>:20) ]] [Op:__inference_train_function_73951]\n\nErrors may have originated from an input operation.\nInput Source operations connected to node f_loss/strided_slice_256:\n sequential_5/dense_29/Elu (defined at <ipython-input-36-4099d701d03b>:36)\n\nFunction call stack:\ntrain_function\n",
     "output_type": "error",
     "traceback": [
      "\u001b[1;31m---------------------------------------------------------------------------\u001b[0m",
      "\u001b[1;31mInvalidArgumentError\u001b[0m                      Traceback (most recent call last)",
      "\u001b[1;32m<ipython-input-37-e39fbe51197f>\u001b[0m in \u001b[0;36m<module>\u001b[1;34m\u001b[0m\n\u001b[1;32m----> 1\u001b[1;33m \u001b[0mtrain_model\u001b[0m\u001b[1;33m(\u001b[0m\u001b[1;33m)\u001b[0m\u001b[1;33m\u001b[0m\u001b[1;33m\u001b[0m\u001b[0m\n\u001b[0m\u001b[0;32m      2\u001b[0m \u001b[0mmodel\u001b[0m\u001b[1;33m.\u001b[0m\u001b[0msave\u001b[0m\u001b[1;33m(\u001b[0m\u001b[1;34m\"Advection2D_contrainteLoss.h5\"\u001b[0m\u001b[1;33m)\u001b[0m\u001b[1;33m\u001b[0m\u001b[1;33m\u001b[0m\u001b[0m\n",
      "\u001b[1;32m<ipython-input-36-4099d701d03b>\u001b[0m in \u001b[0;36mtrain_model\u001b[1;34m()\u001b[0m\n\u001b[0;32m     34\u001b[0m \u001b[1;33m\u001b[0m\u001b[0m\n\u001b[0;32m     35\u001b[0m \u001b[1;33m\u001b[0m\u001b[0m\n\u001b[1;32m---> 36\u001b[1;33m   model.fit(data_training_features, \n\u001b[0m\u001b[0;32m     37\u001b[0m             \u001b[0mdata_training_labels\u001b[0m\u001b[1;33m,\u001b[0m\u001b[1;33m\u001b[0m\u001b[1;33m\u001b[0m\u001b[0m\n\u001b[0;32m     38\u001b[0m             \u001b[0mepochs\u001b[0m\u001b[1;33m=\u001b[0m\u001b[1;36m600\u001b[0m\u001b[1;33m,\u001b[0m\u001b[1;33m\u001b[0m\u001b[1;33m\u001b[0m\u001b[0m\n",
      "\u001b[1;32m~\\anaconda3\\lib\\site-packages\\tensorflow\\python\\keras\\engine\\training.py\u001b[0m in \u001b[0;36m_method_wrapper\u001b[1;34m(self, *args, **kwargs)\u001b[0m\n\u001b[0;32m    106\u001b[0m   \u001b[1;32mdef\u001b[0m \u001b[0m_method_wrapper\u001b[0m\u001b[1;33m(\u001b[0m\u001b[0mself\u001b[0m\u001b[1;33m,\u001b[0m \u001b[1;33m*\u001b[0m\u001b[0margs\u001b[0m\u001b[1;33m,\u001b[0m \u001b[1;33m**\u001b[0m\u001b[0mkwargs\u001b[0m\u001b[1;33m)\u001b[0m\u001b[1;33m:\u001b[0m\u001b[1;33m\u001b[0m\u001b[1;33m\u001b[0m\u001b[0m\n\u001b[0;32m    107\u001b[0m     \u001b[1;32mif\u001b[0m \u001b[1;32mnot\u001b[0m \u001b[0mself\u001b[0m\u001b[1;33m.\u001b[0m\u001b[0m_in_multi_worker_mode\u001b[0m\u001b[1;33m(\u001b[0m\u001b[1;33m)\u001b[0m\u001b[1;33m:\u001b[0m  \u001b[1;31m# pylint: disable=protected-access\u001b[0m\u001b[1;33m\u001b[0m\u001b[1;33m\u001b[0m\u001b[0m\n\u001b[1;32m--> 108\u001b[1;33m       \u001b[1;32mreturn\u001b[0m \u001b[0mmethod\u001b[0m\u001b[1;33m(\u001b[0m\u001b[0mself\u001b[0m\u001b[1;33m,\u001b[0m \u001b[1;33m*\u001b[0m\u001b[0margs\u001b[0m\u001b[1;33m,\u001b[0m \u001b[1;33m**\u001b[0m\u001b[0mkwargs\u001b[0m\u001b[1;33m)\u001b[0m\u001b[1;33m\u001b[0m\u001b[1;33m\u001b[0m\u001b[0m\n\u001b[0m\u001b[0;32m    109\u001b[0m \u001b[1;33m\u001b[0m\u001b[0m\n\u001b[0;32m    110\u001b[0m     \u001b[1;31m# Running inside `run_distribute_coordinator` already.\u001b[0m\u001b[1;33m\u001b[0m\u001b[1;33m\u001b[0m\u001b[1;33m\u001b[0m\u001b[0m\n",
      "\u001b[1;32m~\\anaconda3\\lib\\site-packages\\tensorflow\\python\\keras\\engine\\training.py\u001b[0m in \u001b[0;36mfit\u001b[1;34m(self, x, y, batch_size, epochs, verbose, callbacks, validation_split, validation_data, shuffle, class_weight, sample_weight, initial_epoch, steps_per_epoch, validation_steps, validation_batch_size, validation_freq, max_queue_size, workers, use_multiprocessing)\u001b[0m\n\u001b[0;32m   1096\u001b[0m                 batch_size=batch_size):\n\u001b[0;32m   1097\u001b[0m               \u001b[0mcallbacks\u001b[0m\u001b[1;33m.\u001b[0m\u001b[0mon_train_batch_begin\u001b[0m\u001b[1;33m(\u001b[0m\u001b[0mstep\u001b[0m\u001b[1;33m)\u001b[0m\u001b[1;33m\u001b[0m\u001b[1;33m\u001b[0m\u001b[0m\n\u001b[1;32m-> 1098\u001b[1;33m               \u001b[0mtmp_logs\u001b[0m \u001b[1;33m=\u001b[0m \u001b[0mtrain_function\u001b[0m\u001b[1;33m(\u001b[0m\u001b[0miterator\u001b[0m\u001b[1;33m)\u001b[0m\u001b[1;33m\u001b[0m\u001b[1;33m\u001b[0m\u001b[0m\n\u001b[0m\u001b[0;32m   1099\u001b[0m               \u001b[1;32mif\u001b[0m \u001b[0mdata_handler\u001b[0m\u001b[1;33m.\u001b[0m\u001b[0mshould_sync\u001b[0m\u001b[1;33m:\u001b[0m\u001b[1;33m\u001b[0m\u001b[1;33m\u001b[0m\u001b[0m\n\u001b[0;32m   1100\u001b[0m                 \u001b[0mcontext\u001b[0m\u001b[1;33m.\u001b[0m\u001b[0masync_wait\u001b[0m\u001b[1;33m(\u001b[0m\u001b[1;33m)\u001b[0m\u001b[1;33m\u001b[0m\u001b[1;33m\u001b[0m\u001b[0m\n",
      "\u001b[1;32m~\\anaconda3\\lib\\site-packages\\tensorflow\\python\\eager\\def_function.py\u001b[0m in \u001b[0;36m__call__\u001b[1;34m(self, *args, **kwds)\u001b[0m\n\u001b[0;32m    778\u001b[0m       \u001b[1;32melse\u001b[0m\u001b[1;33m:\u001b[0m\u001b[1;33m\u001b[0m\u001b[1;33m\u001b[0m\u001b[0m\n\u001b[0;32m    779\u001b[0m         \u001b[0mcompiler\u001b[0m \u001b[1;33m=\u001b[0m \u001b[1;34m\"nonXla\"\u001b[0m\u001b[1;33m\u001b[0m\u001b[1;33m\u001b[0m\u001b[0m\n\u001b[1;32m--> 780\u001b[1;33m         \u001b[0mresult\u001b[0m \u001b[1;33m=\u001b[0m \u001b[0mself\u001b[0m\u001b[1;33m.\u001b[0m\u001b[0m_call\u001b[0m\u001b[1;33m(\u001b[0m\u001b[1;33m*\u001b[0m\u001b[0margs\u001b[0m\u001b[1;33m,\u001b[0m \u001b[1;33m**\u001b[0m\u001b[0mkwds\u001b[0m\u001b[1;33m)\u001b[0m\u001b[1;33m\u001b[0m\u001b[1;33m\u001b[0m\u001b[0m\n\u001b[0m\u001b[0;32m    781\u001b[0m \u001b[1;33m\u001b[0m\u001b[0m\n\u001b[0;32m    782\u001b[0m       \u001b[0mnew_tracing_count\u001b[0m \u001b[1;33m=\u001b[0m \u001b[0mself\u001b[0m\u001b[1;33m.\u001b[0m\u001b[0m_get_tracing_count\u001b[0m\u001b[1;33m(\u001b[0m\u001b[1;33m)\u001b[0m\u001b[1;33m\u001b[0m\u001b[1;33m\u001b[0m\u001b[0m\n",
      "\u001b[1;32m~\\anaconda3\\lib\\site-packages\\tensorflow\\python\\eager\\def_function.py\u001b[0m in \u001b[0;36m_call\u001b[1;34m(self, *args, **kwds)\u001b[0m\n\u001b[0;32m    805\u001b[0m       \u001b[1;31m# In this case we have created variables on the first call, so we run the\u001b[0m\u001b[1;33m\u001b[0m\u001b[1;33m\u001b[0m\u001b[1;33m\u001b[0m\u001b[0m\n\u001b[0;32m    806\u001b[0m       \u001b[1;31m# defunned version which is guaranteed to never create variables.\u001b[0m\u001b[1;33m\u001b[0m\u001b[1;33m\u001b[0m\u001b[1;33m\u001b[0m\u001b[0m\n\u001b[1;32m--> 807\u001b[1;33m       \u001b[1;32mreturn\u001b[0m \u001b[0mself\u001b[0m\u001b[1;33m.\u001b[0m\u001b[0m_stateless_fn\u001b[0m\u001b[1;33m(\u001b[0m\u001b[1;33m*\u001b[0m\u001b[0margs\u001b[0m\u001b[1;33m,\u001b[0m \u001b[1;33m**\u001b[0m\u001b[0mkwds\u001b[0m\u001b[1;33m)\u001b[0m  \u001b[1;31m# pylint: disable=not-callable\u001b[0m\u001b[1;33m\u001b[0m\u001b[1;33m\u001b[0m\u001b[0m\n\u001b[0m\u001b[0;32m    808\u001b[0m     \u001b[1;32melif\u001b[0m \u001b[0mself\u001b[0m\u001b[1;33m.\u001b[0m\u001b[0m_stateful_fn\u001b[0m \u001b[1;32mis\u001b[0m \u001b[1;32mnot\u001b[0m \u001b[1;32mNone\u001b[0m\u001b[1;33m:\u001b[0m\u001b[1;33m\u001b[0m\u001b[1;33m\u001b[0m\u001b[0m\n\u001b[0;32m    809\u001b[0m       \u001b[1;31m# Release the lock early so that multiple threads can perform the call\u001b[0m\u001b[1;33m\u001b[0m\u001b[1;33m\u001b[0m\u001b[1;33m\u001b[0m\u001b[0m\n",
      "\u001b[1;32m~\\anaconda3\\lib\\site-packages\\tensorflow\\python\\eager\\function.py\u001b[0m in \u001b[0;36m__call__\u001b[1;34m(self, *args, **kwargs)\u001b[0m\n\u001b[0;32m   2827\u001b[0m     \u001b[1;32mwith\u001b[0m \u001b[0mself\u001b[0m\u001b[1;33m.\u001b[0m\u001b[0m_lock\u001b[0m\u001b[1;33m:\u001b[0m\u001b[1;33m\u001b[0m\u001b[1;33m\u001b[0m\u001b[0m\n\u001b[0;32m   2828\u001b[0m       \u001b[0mgraph_function\u001b[0m\u001b[1;33m,\u001b[0m \u001b[0margs\u001b[0m\u001b[1;33m,\u001b[0m \u001b[0mkwargs\u001b[0m \u001b[1;33m=\u001b[0m \u001b[0mself\u001b[0m\u001b[1;33m.\u001b[0m\u001b[0m_maybe_define_function\u001b[0m\u001b[1;33m(\u001b[0m\u001b[0margs\u001b[0m\u001b[1;33m,\u001b[0m \u001b[0mkwargs\u001b[0m\u001b[1;33m)\u001b[0m\u001b[1;33m\u001b[0m\u001b[1;33m\u001b[0m\u001b[0m\n\u001b[1;32m-> 2829\u001b[1;33m     \u001b[1;32mreturn\u001b[0m \u001b[0mgraph_function\u001b[0m\u001b[1;33m.\u001b[0m\u001b[0m_filtered_call\u001b[0m\u001b[1;33m(\u001b[0m\u001b[0margs\u001b[0m\u001b[1;33m,\u001b[0m \u001b[0mkwargs\u001b[0m\u001b[1;33m)\u001b[0m  \u001b[1;31m# pylint: disable=protected-access\u001b[0m\u001b[1;33m\u001b[0m\u001b[1;33m\u001b[0m\u001b[0m\n\u001b[0m\u001b[0;32m   2830\u001b[0m \u001b[1;33m\u001b[0m\u001b[0m\n\u001b[0;32m   2831\u001b[0m   \u001b[1;33m@\u001b[0m\u001b[0mproperty\u001b[0m\u001b[1;33m\u001b[0m\u001b[1;33m\u001b[0m\u001b[0m\n",
      "\u001b[1;32m~\\anaconda3\\lib\\site-packages\\tensorflow\\python\\eager\\function.py\u001b[0m in \u001b[0;36m_filtered_call\u001b[1;34m(self, args, kwargs, cancellation_manager)\u001b[0m\n\u001b[0;32m   1841\u001b[0m       \u001b[0;31m`\u001b[0m\u001b[0margs\u001b[0m\u001b[0;31m`\u001b[0m \u001b[1;32mand\u001b[0m\u001b[0;31m \u001b[0m\u001b[0;31m`\u001b[0m\u001b[0mkwargs\u001b[0m\u001b[0;31m`\u001b[0m\u001b[1;33m.\u001b[0m\u001b[1;33m\u001b[0m\u001b[1;33m\u001b[0m\u001b[0m\n\u001b[0;32m   1842\u001b[0m     \"\"\"\n\u001b[1;32m-> 1843\u001b[1;33m     return self._call_flat(\n\u001b[0m\u001b[0;32m   1844\u001b[0m         [t for t in nest.flatten((args, kwargs), expand_composites=True)\n\u001b[0;32m   1845\u001b[0m          if isinstance(t, (ops.Tensor,\n",
      "\u001b[1;32m~\\anaconda3\\lib\\site-packages\\tensorflow\\python\\eager\\function.py\u001b[0m in \u001b[0;36m_call_flat\u001b[1;34m(self, args, captured_inputs, cancellation_manager)\u001b[0m\n\u001b[0;32m   1921\u001b[0m         and executing_eagerly):\n\u001b[0;32m   1922\u001b[0m       \u001b[1;31m# No tape is watching; skip to running the function.\u001b[0m\u001b[1;33m\u001b[0m\u001b[1;33m\u001b[0m\u001b[1;33m\u001b[0m\u001b[0m\n\u001b[1;32m-> 1923\u001b[1;33m       return self._build_call_outputs(self._inference_function.call(\n\u001b[0m\u001b[0;32m   1924\u001b[0m           ctx, args, cancellation_manager=cancellation_manager))\n\u001b[0;32m   1925\u001b[0m     forward_backward = self._select_forward_and_backward_functions(\n",
      "\u001b[1;32m~\\anaconda3\\lib\\site-packages\\tensorflow\\python\\eager\\function.py\u001b[0m in \u001b[0;36mcall\u001b[1;34m(self, ctx, args, cancellation_manager)\u001b[0m\n\u001b[0;32m    543\u001b[0m       \u001b[1;32mwith\u001b[0m \u001b[0m_InterpolateFunctionError\u001b[0m\u001b[1;33m(\u001b[0m\u001b[0mself\u001b[0m\u001b[1;33m)\u001b[0m\u001b[1;33m:\u001b[0m\u001b[1;33m\u001b[0m\u001b[1;33m\u001b[0m\u001b[0m\n\u001b[0;32m    544\u001b[0m         \u001b[1;32mif\u001b[0m \u001b[0mcancellation_manager\u001b[0m \u001b[1;32mis\u001b[0m \u001b[1;32mNone\u001b[0m\u001b[1;33m:\u001b[0m\u001b[1;33m\u001b[0m\u001b[1;33m\u001b[0m\u001b[0m\n\u001b[1;32m--> 545\u001b[1;33m           outputs = execute.execute(\n\u001b[0m\u001b[0;32m    546\u001b[0m               \u001b[0mstr\u001b[0m\u001b[1;33m(\u001b[0m\u001b[0mself\u001b[0m\u001b[1;33m.\u001b[0m\u001b[0msignature\u001b[0m\u001b[1;33m.\u001b[0m\u001b[0mname\u001b[0m\u001b[1;33m)\u001b[0m\u001b[1;33m,\u001b[0m\u001b[1;33m\u001b[0m\u001b[1;33m\u001b[0m\u001b[0m\n\u001b[0;32m    547\u001b[0m               \u001b[0mnum_outputs\u001b[0m\u001b[1;33m=\u001b[0m\u001b[0mself\u001b[0m\u001b[1;33m.\u001b[0m\u001b[0m_num_outputs\u001b[0m\u001b[1;33m,\u001b[0m\u001b[1;33m\u001b[0m\u001b[1;33m\u001b[0m\u001b[0m\n",
      "\u001b[1;32m~\\anaconda3\\lib\\site-packages\\tensorflow\\python\\eager\\execute.py\u001b[0m in \u001b[0;36mquick_execute\u001b[1;34m(op_name, num_outputs, inputs, attrs, ctx, name)\u001b[0m\n\u001b[0;32m     57\u001b[0m   \u001b[1;32mtry\u001b[0m\u001b[1;33m:\u001b[0m\u001b[1;33m\u001b[0m\u001b[1;33m\u001b[0m\u001b[0m\n\u001b[0;32m     58\u001b[0m     \u001b[0mctx\u001b[0m\u001b[1;33m.\u001b[0m\u001b[0mensure_initialized\u001b[0m\u001b[1;33m(\u001b[0m\u001b[1;33m)\u001b[0m\u001b[1;33m\u001b[0m\u001b[1;33m\u001b[0m\u001b[0m\n\u001b[1;32m---> 59\u001b[1;33m     tensors = pywrap_tfe.TFE_Py_Execute(ctx._handle, device_name, op_name,\n\u001b[0m\u001b[0;32m     60\u001b[0m                                         inputs, attrs, num_outputs)\n\u001b[0;32m     61\u001b[0m   \u001b[1;32mexcept\u001b[0m \u001b[0mcore\u001b[0m\u001b[1;33m.\u001b[0m\u001b[0m_NotOkStatusException\u001b[0m \u001b[1;32mas\u001b[0m \u001b[0me\u001b[0m\u001b[1;33m:\u001b[0m\u001b[1;33m\u001b[0m\u001b[1;33m\u001b[0m\u001b[0m\n",
      "\u001b[1;31mInvalidArgumentError\u001b[0m:  slice index 32 of dimension 0 out of bounds.\n\t [[node f_loss/strided_slice_256 (defined at <ipython-input-34-d46a97dee819>:20) ]] [Op:__inference_train_function_73951]\n\nErrors may have originated from an input operation.\nInput Source operations connected to node f_loss/strided_slice_256:\n sequential_5/dense_29/Elu (defined at <ipython-input-36-4099d701d03b>:36)\n\nFunction call stack:\ntrain_function\n"
     ]
    }
   ],
   "source": [
    "train_model()\n",
    "model.save(\"Advection2D_contrainteLoss.h5\")"
   ]
  },
  {
   "cell_type": "markdown",
   "metadata": {},
   "source": [
    "# Résultats"
   ]
  },
  {
   "cell_type": "code",
   "execution_count": null,
   "metadata": {},
   "outputs": [],
   "source": [
    "Y_pred_scaled=model.predict(data_test_features) #output du réseau, qu'on veut comparer a Y_test\n",
    "Y_test_scaled=data_test_labels\n",
    "\n",
    "Y_pred_df=pd.DataFrame(Y_pred_scaled,columns=['F1','F2','F3','F4'])\n"
   ]
  },
  {
   "cell_type": "code",
   "execution_count": null,
   "metadata": {},
   "outputs": [],
   "source": [
    "Y_pred_unscaled = output_scaler.inverse_transform(Y_pred_scaled)\n",
    "Y_test_unscaled = output_scaler.inverse_transform(Y_test_scaled)\n",
    "\n",
    "Y_pred_unscaled_df = pd.DataFrame(Y_pred_unscaled,columns=['F1','F2','F3','F4','obj_prime'])\n",
    "Y_test_unscaled_df = pd.DataFrame(Y_test_unscaled,columns=['F1','F2','F3','F4','obj_prime'])\n"
   ]
  },
  {
   "cell_type": "markdown",
   "metadata": {},
   "source": [
    "On affiche et on vérifie wobj, ce qui donne une idée du signe mais pas de l'amplitude"
   ]
  },
  {
   "cell_type": "code",
   "execution_count": null,
   "metadata": {},
   "outputs": [],
   "source": [
    "#On va étudier avec wobj en dénormalisé\n",
    "dx=1/1001 #? Attention; ils ne sont pas normalisés ceux-là!\n",
    "dy=1/1001 #?\n",
    "dt=0.01 #?\n",
    "wobj_unscaled = ((Y_pred_unscaled_df['F1']-Y_pred_unscaled_df['F4'])/(dx))+((Y_pred_unscaled_df['F3']-Y_pred_unscaled_df['F2'])/(dy))\n",
    "\n",
    "absi = wobj_unscaled.index\n",
    "plt.scatter(absi,wobj_unscaled)\n",
    "print('moyenne:',wobj_unscaled.mean())\n",
    "print('ecart-type:',wobj_unscaled.std())\n",
    "nul = [0 for i in range((wobj_unscaled.shape)[0])]\n",
    "plt.plot(absi,nul,'r')\n",
    "\n",
    "\n",
    "x_min = absi[0]\n",
    "x_max = absi.shape[0]\n",
    "y_max = wobj_unscaled.mean() + 2*wobj_unscaled.std()\n",
    "y_min = wobj_unscaled.mean() - 2*wobj_unscaled.std()\n",
    "print('moyenne du scaler'+str(output_scaler.mean_))\n",
    "print('variance du scaler'+str(output_scaler.var_))\n",
    "\n",
    "plt.title('Valeur prise par la fonction objectif wobj_unscaled calculé après le reseau (flux dénormalisés)')\n",
    "plt.xlabel('number of row')\n",
    "plt.ylabel('Fonction objectif')\n",
    "plt.axis([x_min, x_max, y_min, y_max])\n",
    "\n",
    "\n",
    "### Ici tout est dénormalisé\n",
    "wobj_unscaled = wobj_unscaled.to_frame()\n",
    "wobj_unscaled.columns = ['wobj_unscaled']\n",
    "\n",
    "au_dessus_realise = wobj_unscaled.loc[wobj_unscaled['wobj_unscaled']>=0]\n",
    "nb_au_dessus_realise = au_dessus_realise.shape[0]\n",
    "print('nb de wobj_unscaled effectué positif: '+str(nb_au_dessus_realise))\n",
    "en_dessous_realise = wobj_unscaled.loc[wobj_unscaled['wobj_unscaled']<0]\n",
    "nb_en_dessous_realise = en_dessous_realise.shape[0]\n",
    "print('nb de wobj_unscaled effectué négatif: '+str(nb_en_dessous_realise))\n"
   ]
  },
  {
   "cell_type": "markdown",
   "metadata": {},
   "source": [
    "Affichage de la fontion obj avec w et les flux dénormalisés\n"
   ]
  },
  {
   "cell_type": "code",
   "execution_count": null,
   "metadata": {},
   "outputs": [],
   "source": [
    "data_test_labels_unscaled = input_scaler.inverse_transform(data_test_features)\n",
    "data_test_labels_unscaled_df = pd.DataFrame(data_test_labels_unscaled_i,columns=['P1','P2','P3','P4','P5','P6','P7','P8','P9','A1','B1','A2','B2','A3','B3','A4','B4'])\n",
    "\n",
    "w = data_test_labels_unscaled_df['P5']\n",
    "print(w.tail())\n",
    "print(type(w))\n",
    "dx = 1/1001\n",
    "dy = 1/1001\n",
    "obj_unscaled = ((Y_pred_unscaled_df['F1']-Y_pred_unscaled_df['F4'])/(dx*w))+((Y_pred_unscaled_df['F3']-Y_pred_unscaled_df['F2'])/(dy*w))\n",
    "\n",
    "\n",
    "#Calcul fonction objectif\n",
    "#w = data_test_features['P5']\n",
    "#Y_pred=Y_preddd\n",
    "#w = w.reset_index()\n",
    "#del w['index']\n",
    "\n",
    "absi = obj_unscaled.index\n",
    "plt.scatter(absi,obj_unscaled)\n",
    "print('moyenne:',obj_unscaled.mean())\n",
    "print('ecart-type:',obj_unscaled.std())\n",
    "nul = [0 for i in range((obj_unscaled.shape)[0])]\n",
    "plt.plot(absi,nul,'r')\n",
    "\n",
    "\n",
    "x_min = absi[0]\n",
    "x_max = absi.shape[0]\n",
    "y_max = obj_unscaled.mean() + 2*obj_unscaled.std()\n",
    "y_min = obj_unscaled.mean() - 2*obj_unscaled.std()\n",
    "\n",
    "plt.title('Valeur prise par la fonction objectif obj_unscaled calculé après le reseau (flux dénormalisés)')\n",
    "plt.xlabel('number of row')\n",
    "plt.ylabel('Fonction objectif')\n",
    "plt.axis([x_min, x_max, y_min, y_max])\n",
    "\n",
    "\n",
    "### Ici tout est dénormalisé\n",
    "obj_unscaled = obj_unscaled.to_frame()\n",
    "obj_unscaled.columns = ['obj_unscaled']\n",
    "\n",
    "au_dessus_realise = obj_unscaled.loc[obj_unscaled['obj_unscaled']>=0]\n",
    "nb_au_dessus_realise = au_dessus_realise.shape[0]\n",
    "print('nb de obj_unscaled effectué positif: '+str(nb_au_dessus_realise))\n",
    "en_dessous_realise = obj_unscaled.loc[obj_unscaled['obj_unscaled']<0]\n",
    "nb_en_dessous_realise = en_dessous_realise.shape[0]\n",
    "print('nb de obj_unscaled effectué négatif: '+str(nb_en_dessous_realise))\n",
    "print(\"ratio d'élimination (négatif/positif): \"+str(nb_en_dessous_realise/nb_au_dessus_realise))\n"
   ]
  },
  {
   "cell_type": "code",
   "execution_count": null,
   "metadata": {},
   "outputs": [],
   "source": [
    "def visualize1(): #we feed it the test data\n",
    "    plt.scatter(data_test_labels['F1'],Y_pred_df['F1'], color = 'red',marker=\".\")\n",
    "    plt.scatter(data_test_labels['F1'],data_test_labels['F1'], color = 'black',marker=\".\") #just for the y=x black line, the result (red points) should be close to the line\n",
    "    \n",
    "    plt.title('Neural Network prediction de F1')\n",
    "    plt.xlabel('exact')\n",
    "    plt.ylabel('prediction')\n",
    "    \n",
    "    R2=metrics.r2_score(data_test_labels, Y_pred_df)\n",
    "    \n",
    "    Correl=np.corrcoef(data_test_labels, Y_pred_df)[0, 1]\n",
    "    \n",
    "    print('Model Performance')\n",
    "    print('Correlation: {:0.4f}.'.format(Correl))\n",
    "    print('R2: {:0.4f}.'.format(R2))\n",
    "    \n",
    "    plt.show()   \n"
   ]
  },
  {
   "cell_type": "code",
   "execution_count": null,
   "metadata": {},
   "outputs": [],
   "source": [
    "def visualize2(): #we feed it the test data\n",
    "    plt.scatter(data_test_labels['F2'],Y_pred_df['F2'], color = 'red',marker=\".\")\n",
    "    plt.scatter(data_test_labels['F2'],data_test_labels['F2'], color = 'black',marker=\".\") #just for the y=x black line, the result (red points) should be close to the line\n",
    "    \n",
    "    \n",
    "    plt.title('Neural Network prediction de F2')\n",
    "    plt.xlabel('exact')\n",
    "    plt.ylabel('prediction')\n",
    "    \n",
    "    R2=metrics.r2_score(data_test_labels, Y_pred_df)\n",
    "    \n",
    "    Correl=np.corrcoef(data_test_labels, Y_pred_df)[0, 1]\n",
    "    \n",
    "    print('Model Performance')\n",
    "    print('Correlation: {:0.4f}.'.format(Correl))\n",
    "    print('R2: {:0.4f}.'.format(R2))\n",
    "    \n",
    "    plt.show()"
   ]
  },
  {
   "cell_type": "code",
   "execution_count": null,
   "metadata": {},
   "outputs": [],
   "source": [
    "def visualize3(): #we feed it the test data\n",
    "    plt.scatter(data_test_labels['F3'],Y_pred_df['F3'], color = 'red',marker=\".\")\n",
    "    plt.scatter(data_test_labels['F3'],data_test_labels['F3'], color = 'black',marker=\".\") #just for the y=x black line, the result (red points) should be close to the line\n",
    "    \n",
    "    \n",
    "    plt.title('Neural Network prediction de F3')\n",
    "    plt.xlabel('exact')\n",
    "    plt.ylabel('prediction')\n",
    "    \n",
    "    R2=metrics.r2_score(data_test_labels, Y_pred_df)\n",
    "    \n",
    "    Correl=np.corrcoef(data_test_labels, Y_pred_df)[0, 1]\n",
    "    \n",
    "    print('Model Performance')\n",
    "    print('Correlation: {:0.4f}.'.format(Correl))\n",
    "    print('R2: {:0.4f}.'.format(R2))\n",
    "    \n",
    "    plt.show()"
   ]
  },
  {
   "cell_type": "code",
   "execution_count": null,
   "metadata": {},
   "outputs": [],
   "source": [
    "def visualize4(): #we feed it the test data\n",
    "    plt.scatter(data_test_labels['F4'],Y_pred_df['F4'], color = 'red',marker=\".\")\n",
    "    plt.scatter(data_test_labels['F4'],data_test_labels['F4'], color = 'black',marker=\".\") #just for the y=x black line, the result (red points) should be close to the line\n",
    "    \n",
    "    \n",
    "    plt.title('Neural Network prediction de F4')\n",
    "    plt.xlabel('exact')\n",
    "    plt.ylabel('prediction')\n",
    "    \n",
    "    R2=metrics.r2_score(data_test_labels, Y_pred_df)\n",
    "    \n",
    "    Correl=np.corrcoef(data_test_labels, Y_pred_df)[0, 1]\n",
    "    \n",
    "    print('Model Performance')\n",
    "    print('Correlation: {:0.4f}.'.format(Correl))\n",
    "    print('R2: {:0.4f}.'.format(R2))\n",
    "    \n",
    "    plt.show()"
   ]
  },
  {
   "cell_type": "code",
   "execution_count": null,
   "metadata": {},
   "outputs": [],
   "source": [
    "visualize1()"
   ]
  },
  {
   "cell_type": "code",
   "execution_count": null,
   "metadata": {},
   "outputs": [],
   "source": [
    "visualize2()"
   ]
  },
  {
   "cell_type": "code",
   "execution_count": null,
   "metadata": {},
   "outputs": [],
   "source": [
    "visualize3()"
   ]
  },
  {
   "cell_type": "code",
   "execution_count": null,
   "metadata": {},
   "outputs": [],
   "source": [
    "visualize4()"
   ]
  },
  {
   "cell_type": "markdown",
   "metadata": {},
   "source": [
    "# Visualisation de la Loss-fonction"
   ]
  },
  {
   "cell_type": "code",
   "execution_count": null,
   "metadata": {},
   "outputs": [],
   "source": [
    "%load_ext tensorboard\n",
    "%tensorboard --logdir logs/fit"
   ]
  },
  {
   "cell_type": "code",
   "execution_count": null,
   "metadata": {},
   "outputs": [],
   "source": []
  }
 ],
 "metadata": {
  "kernelspec": {
   "display_name": "Python 3",
   "language": "python",
   "name": "python3"
  },
  "language_info": {
   "codemirror_mode": {
    "name": "ipython",
    "version": 3
   },
   "file_extension": ".py",
   "mimetype": "text/x-python",
   "name": "python",
   "nbconvert_exporter": "python",
   "pygments_lexer": "ipython3",
   "version": "3.8.3"
  }
 },
 "nbformat": 4,
 "nbformat_minor": 4
}
