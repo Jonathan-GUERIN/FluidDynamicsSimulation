{
 "cells": [
  {
   "cell_type": "markdown",
   "metadata": {},
   "source": [
    "# Réseau de neurones pour le calcul de flux pour l'advection en 2D"
   ]
  },
  {
   "cell_type": "markdown",
   "metadata": {},
   "source": [
    "Importer les bibliothèques utiles "
   ]
  },
  {
   "cell_type": "code",
   "execution_count": 1,
   "metadata": {},
   "outputs": [],
   "source": [
    "from __future__ import absolute_import, division, print_function, unicode_literals\n",
    "\n",
    "import sqlite3\n",
    "import pathlib\n",
    "import matplotlib.pyplot as plt\n",
    "import pandas as pd\n",
    "import seaborn as sns\n",
    "import numpy as np\n",
    "import sys\n",
    "import datetime, os\n",
    "from sklearn import metrics\n",
    "from sklearn import preprocessing\n",
    "from sklearn.utils import shuffle\n",
    "from time import time\n",
    "\n",
    "import tensorflow as tf\n",
    "from tensorflow import keras\n",
    "from tensorflow.keras import layers\n",
    "from tensorflow.keras.layers import LeakyReLU\n",
    "from tensorflow.python.keras.callbacks import TensorBoard\n",
    "from tensorflow.keras.models import load_model\n",
    "\n",
    "\n",
    "import matplotlib.pyplot as plt\n",
    "from mpl_toolkits.mplot3d import Axes3D\n",
    "import numpy as np\n",
    "from matplotlib import cm\n",
    "\n",
    "from sklearn.preprocessing import StandardScaler\n",
    "\n",
    "\n",
    "\n",
    "from sklearn.model_selection import GridSearchCV"
   ]
  },
  {
   "cell_type": "markdown",
   "metadata": {},
   "source": [
    "Importer la base de donnée et visualiser les dernieres lignes"
   ]
  },
  {
   "cell_type": "code",
   "execution_count": 2,
   "metadata": {},
   "outputs": [
    {
     "name": "stdout",
     "output_type": "stream",
     "text": [
      "                   P1            P2            P3            P4            P5  \\\n",
      "3991999  1.044813e-24  1.365423e-24  1.783170e-24  1.044813e-24  1.580897e-24   \n",
      "3992000  1.073063e-24  9.264329e-25  7.989262e-25  1.401159e-24  1.210625e-24   \n",
      "3992001  1.828304e-24  1.401159e-24  1.073063e-24  1.580897e-24  1.210625e-24   \n",
      "3992002  1.365423e-24  1.580897e-24  1.828304e-24  1.044813e-24  1.210625e-24   \n",
      "3992003  7.989262e-25  1.044813e-24  1.365423e-24  7.989262e-25  1.210625e-24   \n",
      "\n",
      "                   P6            P7            P8            P9            F1  \\\n",
      "3991999  2.384010e-24  1.401159e-24  1.401159e-24  2.384010e-24  1.127537e-27   \n",
      "3992000  1.044813e-24  1.828304e-24  1.580897e-24  1.365423e-24  5.199348e-28   \n",
      "3992001  7.989262e-25  1.365423e-24  1.044813e-24  7.989262e-25  1.000165e-27   \n",
      "3992002  1.073063e-24  7.989262e-25  7.989262e-25  1.073063e-24  6.791624e-28   \n",
      "3992003  1.828304e-24  1.073063e-24  1.073063e-24  1.828304e-24  8.637148e-28   \n",
      "\n",
      "         ...            F3            F4        A1        B1        A2  \\\n",
      "3991999  ...  8.865358e-28  1.304662e-27 -0.542402  0.840119 -0.541563   \n",
      "3992000  ...  8.637148e-28  6.791624e-28  0.840660  0.541563  0.840119   \n",
      "3992001  ...  5.199348e-28  8.637148e-28  0.542402 -0.840119  0.542402   \n",
      "3992002  ...  1.000165e-27  5.199348e-28 -0.840119 -0.542402 -0.840660   \n",
      "3992003  ...  6.791624e-28  1.000165e-27 -0.541563  0.840660 -0.541563   \n",
      "\n",
      "               B2        A3        B3        A4        B4  \n",
      "3991999  0.840660 -0.542402  0.840119 -0.543241  0.839577  \n",
      "3992000  0.542402  0.840660  0.541563  0.840119  0.542402  \n",
      "3992001 -0.840119  0.541563 -0.840660  0.541563 -0.840660  \n",
      "3992002 -0.541563 -0.840119 -0.542402 -0.840660 -0.541563  \n",
      "3992003  0.840660 -0.542402  0.840119 -0.542402  0.840119  \n",
      "\n",
      "[5 rows x 21 columns]\n",
      "<class 'pandas.core.frame.DataFrame'>\n"
     ]
    }
   ],
   "source": [
    "con=sqlite3.connect('Table.db')\n",
    "raw_data=pd.read_sql_query(\"SELECT * FROM A\",con)\n",
    "data = raw_data.copy()\n",
    "print(data.tail())\n",
    "print(type(data))"
   ]
  },
  {
   "cell_type": "markdown",
   "metadata": {},
   "source": [
    "# Introduction de la stabilité"
   ]
  },
  {
   "cell_type": "code",
   "execution_count": 3,
   "metadata": {},
   "outputs": [
    {
     "name": "stdout",
     "output_type": "stream",
     "text": [
      "                   P1            P2            P3            P4            P5  \\\n",
      "1751890  5.521582e-02  5.401155e-02  5.282880e-02  5.408877e-02  5.290547e-02   \n",
      "1483647  1.042598e-01  1.055774e-01  1.069035e-01  1.042598e-01  1.034319e-01   \n",
      "562022   6.516530e-13  6.071609e-13  5.656390e-13  5.988728e-13  5.579317e-13   \n",
      "2569165  2.294425e-14  2.005877e-14  1.753037e-14  2.349883e-14  2.054259e-14   \n",
      "1660654  1.048441e-04  1.011076e-04  9.749516e-05  9.990567e-05  9.633797e-05   \n",
      "\n",
      "                   P6            P7            P8            P9            F1  \\\n",
      "1751890  5.067431e-02  5.297849e-02  5.297849e-02  5.067431e-02  4.345751e-05   \n",
      "1483647  1.026036e-01  1.000454e-01  1.000454e-01  1.026036e-01  2.626768e-05   \n",
      "562022   4.774379e-13  5.502472e-13  5.502472e-13  4.774379e-13  5.163538e-16   \n",
      "2569165  1.838134e-14  2.406284e-14  2.103459e-14  1.838134e-14  1.477702e-17   \n",
      "1660654  8.848379e-05  9.518167e-05  9.518167e-05  8.848379e-05  8.102436e-08   \n",
      "\n",
      "         ...            F3            F4        A1        B1        A2  \\\n",
      "1751890  ...  1.881610e-05  4.256491e-05 -0.424185 -0.905575 -0.399608   \n",
      "1483647  ...  8.708926e-05  2.573272e-05 -0.960161  0.279446 -0.931556   \n",
      "562022   ...  2.926951e-16  4.744335e-16 -0.139899 -0.990166 -0.601881   \n",
      "2569165  ...  1.380448e-17  1.513223e-17  0.595774 -0.803152  0.800985   \n",
      "1660654  ...  4.664736e-08  7.719454e-08 -0.403268 -0.915082 -0.547121   \n",
      "\n",
      "               B2        A3        B3        A4        B4  \n",
      "1751890 -0.916686 -0.398692 -0.917085 -0.425090 -0.905151  \n",
      "1483647  0.363598 -0.931919  0.362668 -0.960440  0.278486  \n",
      "562022  -0.798586 -0.601083 -0.799187 -0.140888 -0.990025  \n",
      "2569165 -0.598685  0.800386 -0.599485  0.594971 -0.803747  \n",
      "1660654 -0.837053 -0.546285 -0.837600 -0.404182 -0.914679  \n",
      "\n",
      "[5 rows x 21 columns]\n",
      "(9980, 21)\n",
      "<class 'pandas.core.frame.DataFrame'>\n"
     ]
    }
   ],
   "source": [
    "small_data=data.sample(frac=0.0025,random_state=0) #extraire \n",
    "small_data=shuffle(small_data) #shuffle\n",
    "print(small_data.tail())\n",
    "print(small_data.shape)\n",
    "print(type(small_data))\n",
    "\n"
   ]
  },
  {
   "cell_type": "code",
   "execution_count": 4,
   "metadata": {},
   "outputs": [
    {
     "name": "stdout",
     "output_type": "stream",
     "text": [
      "<class 'pandas.core.series.Series'>\n"
     ]
    },
    {
     "data": {
      "text/plain": [
       "Text(0, 0.5, 'Fonction objectif')"
      ]
     },
     "execution_count": 4,
     "metadata": {},
     "output_type": "execute_result"
    },
    {
     "data": {
      "image/png": "[encoded data removed]",
      "text/plain": [
       "<Figure size 432x288 with 1 Axes>"
      ]
     },
     "metadata": {
      "needs_background": "light"
     },
     "output_type": "display_data"
    }
   ],
   "source": [
    "#Attention, on devra faire varier dt et dx (=dy)\n",
    "dx=1/1001 #?\n",
    "dy=1/1001 #?\n",
    "dt=0.01 #?\n",
    "\n",
    "#Calcul fonction objectif\n",
    "w = small_data['P5']\n",
    "print(type(w))\n",
    "obj = ((small_data['F1']-small_data['F4'])/(dx*w))+((small_data['F3']-small_data['F2'])/(dy*w))\n",
    "\n",
    "#A retenir: j'utilise le fait que la serie 'obj' suit le meme ordre d'indentation que small_data, est-ce vrai?\n",
    "\n",
    "absi = small_data.index\n",
    "plt.scatter(absi,obj)\n",
    "nul = [0 for i in range((small_data.shape)[0])]\n",
    "plt.plot(absi,nul,'r')\n",
    "plt.title('Valeur prise par la fonction objectif')\n",
    "plt.xlabel('number of row')\n",
    "plt.ylabel('Fonction objectif')"
   ]
  },
  {
   "cell_type": "code",
   "execution_count": 19,
   "metadata": {},
   "outputs": [
    {
     "name": "stdout",
     "output_type": "stream",
     "text": [
      "(5057, 22)\n"
     ]
    },
    {
     "data": {
      "text/plain": [
       "Text(0, 0.5, 'Fonction objectif')"
      ]
     },
     "execution_count": 19,
     "metadata": {},
     "output_type": "execute_result"
    },
    {
     "data": {
      "image/png": "[encoded data removed]",
      "text/plain": [
       "<Figure size 432x288 with 1 Axes>"
      ]
     },
     "metadata": {
      "needs_background": "light"
     },
     "output_type": "display_data"
    }
   ],
   "source": [
    "#Filtrage des données stabilité\n",
    "small_data['obj']=obj\n",
    "#print(small_data.tail())\n",
    "data_stable = small_data[small_data['obj']>=0]\n",
    "#print(data_stable.tail())\n",
    "print(data_stable.shape)\n",
    "X=data_stable.index\n",
    "Y=data_stable['obj']\n",
    "plt.scatter(X,Y)\n",
    "nul = [0 for i in range((data_stable.shape)[0])]\n",
    "plt.plot(X,nul,'r')\n",
    "plt.title('Valeur prise par la fonction objectif')\n",
    "plt.xlabel('number of row')\n",
    "plt.ylabel('Fonction objectif')"
   ]
  },
  {
   "cell_type": "code",
   "execution_count": 20,
   "metadata": {},
   "outputs": [
    {
     "name": "stdout",
     "output_type": "stream",
     "text": [
      "<class 'pandas.core.frame.DataFrame'>\n",
      "Int64Index: 5057 entries, 3165008 to 2188423\n",
      "Data columns (total 22 columns):\n",
      " #   Column  Non-Null Count  Dtype  \n",
      "---  ------  --------------  -----  \n",
      " 0   P1      5057 non-null   float64\n",
      " 1   P2      5057 non-null   float64\n",
      " 2   P3      5057 non-null   float64\n",
      " 3   P4      5057 non-null   float64\n",
      " 4   P5      5057 non-null   float64\n",
      " 5   P6      5057 non-null   float64\n",
      " 6   P7      5057 non-null   float64\n",
      " 7   P8      5057 non-null   float64\n",
      " 8   P9      5057 non-null   float64\n",
      " 9   F1      5057 non-null   float64\n",
      " 10  F2      5057 non-null   float64\n",
      " 11  F3      5057 non-null   float64\n",
      " 12  F4      5057 non-null   float64\n",
      " 13  A1      5057 non-null   float64\n",
      " 14  B1      5057 non-null   float64\n",
      " 15  A2      5057 non-null   float64\n",
      " 16  B2      5057 non-null   float64\n",
      " 17  A3      5057 non-null   float64\n",
      " 18  B3      5057 non-null   float64\n",
      " 19  A4      5057 non-null   float64\n",
      " 20  B4      5057 non-null   float64\n",
      " 21  obj     5057 non-null   float64\n",
      "dtypes: float64(22)\n",
      "memory usage: 908.7 KB\n"
     ]
    }
   ],
   "source": [
    "data_stable.info()"
   ]
  },
  {
   "cell_type": "markdown",
   "metadata": {},
   "source": [
    "# Scaler les données"
   ]
  },
  {
   "cell_type": "markdown",
   "metadata": {},
   "source": [
    "but : moyenne = 0 et Ecart type = 1 >> recours a la fonction : preprocessing.StandardScaler()\n",
    "\n"
   ]
  },
  {
   "cell_type": "code",
   "execution_count": 21,
   "metadata": {},
   "outputs": [
    {
     "data": {
      "text/html": [
       "<div>\n",
       "<style scoped>\n",
       "    .dataframe tbody tr th:only-of-type {\n",
       "        vertical-align: middle;\n",
       "    }\n",
       "\n",
       "    .dataframe tbody tr th {\n",
       "        vertical-align: top;\n",
       "    }\n",
       "\n",
       "    .dataframe thead th {\n",
       "        text-align: right;\n",
       "    }\n",
       "</style>\n",
       "<table border=\"1\" class=\"dataframe\">\n",
       "  <thead>\n",
       "    <tr style=\"text-align: right;\">\n",
       "      <th></th>\n",
       "      <th>P1</th>\n",
       "      <th>P2</th>\n",
       "      <th>P3</th>\n",
       "      <th>P4</th>\n",
       "      <th>P5</th>\n",
       "      <th>P6</th>\n",
       "      <th>P7</th>\n",
       "      <th>P8</th>\n",
       "      <th>P9</th>\n",
       "      <th>F1</th>\n",
       "      <th>...</th>\n",
       "      <th>F4</th>\n",
       "      <th>A1</th>\n",
       "      <th>B1</th>\n",
       "      <th>A2</th>\n",
       "      <th>B2</th>\n",
       "      <th>A3</th>\n",
       "      <th>B3</th>\n",
       "      <th>A4</th>\n",
       "      <th>B4</th>\n",
       "      <th>obj</th>\n",
       "    </tr>\n",
       "  </thead>\n",
       "  <tbody>\n",
       "    <tr>\n",
       "      <th>0</th>\n",
       "      <td>-0.506214</td>\n",
       "      <td>-0.507715</td>\n",
       "      <td>-0.509179</td>\n",
       "      <td>-0.505377</td>\n",
       "      <td>-0.506356</td>\n",
       "      <td>-0.506494</td>\n",
       "      <td>-0.503491</td>\n",
       "      <td>-0.504892</td>\n",
       "      <td>-0.506460</td>\n",
       "      <td>-0.420330</td>\n",
       "      <td>...</td>\n",
       "      <td>-0.419182</td>\n",
       "      <td>1.617501</td>\n",
       "      <td>1.137730</td>\n",
       "      <td>0.958081</td>\n",
       "      <td>1.637351</td>\n",
       "      <td>0.959504</td>\n",
       "      <td>1.638362</td>\n",
       "      <td>1.617365</td>\n",
       "      <td>1.139598</td>\n",
       "      <td>-0.833170</td>\n",
       "    </tr>\n",
       "    <tr>\n",
       "      <th>1</th>\n",
       "      <td>-0.558091</td>\n",
       "      <td>-0.558125</td>\n",
       "      <td>-0.558160</td>\n",
       "      <td>-0.557210</td>\n",
       "      <td>-0.556779</td>\n",
       "      <td>-0.555640</td>\n",
       "      <td>-0.555403</td>\n",
       "      <td>-0.555333</td>\n",
       "      <td>-0.555470</td>\n",
       "      <td>-0.478350</td>\n",
       "      <td>...</td>\n",
       "      <td>-0.477189</td>\n",
       "      <td>-0.237691</td>\n",
       "      <td>-1.138692</td>\n",
       "      <td>-0.374573</td>\n",
       "      <td>-0.886085</td>\n",
       "      <td>-0.373471</td>\n",
       "      <td>-0.886172</td>\n",
       "      <td>-0.238059</td>\n",
       "      <td>-1.138272</td>\n",
       "      <td>-0.070463</td>\n",
       "    </tr>\n",
       "    <tr>\n",
       "      <th>2</th>\n",
       "      <td>-0.456341</td>\n",
       "      <td>-0.457666</td>\n",
       "      <td>-0.458980</td>\n",
       "      <td>-0.459252</td>\n",
       "      <td>-0.459958</td>\n",
       "      <td>-0.463626</td>\n",
       "      <td>-0.460906</td>\n",
       "      <td>-0.460831</td>\n",
       "      <td>-0.463373</td>\n",
       "      <td>-0.362251</td>\n",
       "      <td>...</td>\n",
       "      <td>-0.365370</td>\n",
       "      <td>-0.589316</td>\n",
       "      <td>-0.905095</td>\n",
       "      <td>-0.243348</td>\n",
       "      <td>-0.969592</td>\n",
       "      <td>-0.242155</td>\n",
       "      <td>-0.969584</td>\n",
       "      <td>-0.589420</td>\n",
       "      <td>-0.904241</td>\n",
       "      <td>-0.446246</td>\n",
       "    </tr>\n",
       "    <tr>\n",
       "      <th>3</th>\n",
       "      <td>2.691375</td>\n",
       "      <td>2.685756</td>\n",
       "      <td>2.679832</td>\n",
       "      <td>2.699721</td>\n",
       "      <td>2.698108</td>\n",
       "      <td>2.701313</td>\n",
       "      <td>2.716458</td>\n",
       "      <td>2.716686</td>\n",
       "      <td>2.704415</td>\n",
       "      <td>4.176818</td>\n",
       "      <td>...</td>\n",
       "      <td>4.191264</td>\n",
       "      <td>-0.258370</td>\n",
       "      <td>-1.128438</td>\n",
       "      <td>0.606324</td>\n",
       "      <td>-1.242762</td>\n",
       "      <td>0.607770</td>\n",
       "      <td>-1.242117</td>\n",
       "      <td>-0.258726</td>\n",
       "      <td>-1.127994</td>\n",
       "      <td>-0.852368</td>\n",
       "    </tr>\n",
       "    <tr>\n",
       "      <th>4</th>\n",
       "      <td>2.686604</td>\n",
       "      <td>2.694294</td>\n",
       "      <td>2.701454</td>\n",
       "      <td>2.696834</td>\n",
       "      <td>2.704851</td>\n",
       "      <td>2.720049</td>\n",
       "      <td>2.707154</td>\n",
       "      <td>2.707382</td>\n",
       "      <td>2.723167</td>\n",
       "      <td>1.993430</td>\n",
       "      <td>...</td>\n",
       "      <td>2.000235</td>\n",
       "      <td>-0.891096</td>\n",
       "      <td>0.795342</td>\n",
       "      <td>-0.421502</td>\n",
       "      <td>1.233150</td>\n",
       "      <td>-0.423125</td>\n",
       "      <td>1.233190</td>\n",
       "      <td>-0.890789</td>\n",
       "      <td>0.794750</td>\n",
       "      <td>-0.816943</td>\n",
       "    </tr>\n",
       "    <tr>\n",
       "      <th>...</th>\n",
       "      <td>...</td>\n",
       "      <td>...</td>\n",
       "      <td>...</td>\n",
       "      <td>...</td>\n",
       "      <td>...</td>\n",
       "      <td>...</td>\n",
       "      <td>...</td>\n",
       "      <td>...</td>\n",
       "      <td>...</td>\n",
       "      <td>...</td>\n",
       "      <td>...</td>\n",
       "      <td>...</td>\n",
       "      <td>...</td>\n",
       "      <td>...</td>\n",
       "      <td>...</td>\n",
       "      <td>...</td>\n",
       "      <td>...</td>\n",
       "      <td>...</td>\n",
       "      <td>...</td>\n",
       "      <td>...</td>\n",
       "      <td>...</td>\n",
       "    </tr>\n",
       "    <tr>\n",
       "      <th>5052</th>\n",
       "      <td>0.875719</td>\n",
       "      <td>0.880190</td>\n",
       "      <td>0.884712</td>\n",
       "      <td>0.862383</td>\n",
       "      <td>0.868912</td>\n",
       "      <td>0.860736</td>\n",
       "      <td>0.853202</td>\n",
       "      <td>0.857728</td>\n",
       "      <td>0.862181</td>\n",
       "      <td>-0.252852</td>\n",
       "      <td>...</td>\n",
       "      <td>-0.253800</td>\n",
       "      <td>2.061985</td>\n",
       "      <td>-0.007406</td>\n",
       "      <td>2.372504</td>\n",
       "      <td>-0.675441</td>\n",
       "      <td>2.370782</td>\n",
       "      <td>-0.675704</td>\n",
       "      <td>2.062788</td>\n",
       "      <td>-0.008543</td>\n",
       "      <td>-0.787292</td>\n",
       "    </tr>\n",
       "    <tr>\n",
       "      <th>5053</th>\n",
       "      <td>1.436042</td>\n",
       "      <td>1.417292</td>\n",
       "      <td>1.398547</td>\n",
       "      <td>1.430788</td>\n",
       "      <td>1.414656</td>\n",
       "      <td>1.403153</td>\n",
       "      <td>1.431008</td>\n",
       "      <td>1.412136</td>\n",
       "      <td>1.393184</td>\n",
       "      <td>2.049532</td>\n",
       "      <td>...</td>\n",
       "      <td>2.044259</td>\n",
       "      <td>1.477725</td>\n",
       "      <td>1.252854</td>\n",
       "      <td>1.310517</td>\n",
       "      <td>1.598885</td>\n",
       "      <td>1.311850</td>\n",
       "      <td>1.599620</td>\n",
       "      <td>1.477467</td>\n",
       "      <td>1.254651</td>\n",
       "      <td>-0.811048</td>\n",
       "    </tr>\n",
       "    <tr>\n",
       "      <th>5054</th>\n",
       "      <td>-0.558044</td>\n",
       "      <td>-0.558081</td>\n",
       "      <td>-0.558117</td>\n",
       "      <td>-0.557164</td>\n",
       "      <td>-0.556736</td>\n",
       "      <td>-0.555600</td>\n",
       "      <td>-0.555359</td>\n",
       "      <td>-0.555289</td>\n",
       "      <td>-0.555430</td>\n",
       "      <td>-0.478279</td>\n",
       "      <td>...</td>\n",
       "      <td>-0.477121</td>\n",
       "      <td>0.198085</td>\n",
       "      <td>-1.280295</td>\n",
       "      <td>0.126839</td>\n",
       "      <td>-1.136584</td>\n",
       "      <td>0.128205</td>\n",
       "      <td>-1.136302</td>\n",
       "      <td>0.197550</td>\n",
       "      <td>-1.280343</td>\n",
       "      <td>-0.510756</td>\n",
       "    </tr>\n",
       "    <tr>\n",
       "      <th>5055</th>\n",
       "      <td>1.221861</td>\n",
       "      <td>1.211451</td>\n",
       "      <td>1.201084</td>\n",
       "      <td>1.199402</td>\n",
       "      <td>1.191384</td>\n",
       "      <td>1.187617</td>\n",
       "      <td>1.181851</td>\n",
       "      <td>1.171399</td>\n",
       "      <td>1.160887</td>\n",
       "      <td>1.200566</td>\n",
       "      <td>...</td>\n",
       "      <td>1.180397</td>\n",
       "      <td>1.774950</td>\n",
       "      <td>0.966703</td>\n",
       "      <td>1.686027</td>\n",
       "      <td>1.495196</td>\n",
       "      <td>1.687182</td>\n",
       "      <td>1.495632</td>\n",
       "      <td>1.774996</td>\n",
       "      <td>0.968633</td>\n",
       "      <td>-0.727980</td>\n",
       "    </tr>\n",
       "    <tr>\n",
       "      <th>5056</th>\n",
       "      <td>-0.557537</td>\n",
       "      <td>-0.557540</td>\n",
       "      <td>-0.557541</td>\n",
       "      <td>-0.556654</td>\n",
       "      <td>-0.556209</td>\n",
       "      <td>-0.555054</td>\n",
       "      <td>-0.554877</td>\n",
       "      <td>-0.554807</td>\n",
       "      <td>-0.554883</td>\n",
       "      <td>-0.477774</td>\n",
       "      <td>...</td>\n",
       "      <td>-0.476628</td>\n",
       "      <td>-0.747165</td>\n",
       "      <td>1.002026</td>\n",
       "      <td>-0.719545</td>\n",
       "      <td>0.944957</td>\n",
       "      <td>-0.720763</td>\n",
       "      <td>0.944744</td>\n",
       "      <td>-0.747088</td>\n",
       "      <td>1.001666</td>\n",
       "      <td>0.369035</td>\n",
       "    </tr>\n",
       "  </tbody>\n",
       "</table>\n",
       "<p>5057 rows × 22 columns</p>\n",
       "</div>"
      ],
      "text/plain": [
       "            P1        P2        P3        P4        P5        P6        P7  \\\n",
       "0    -0.506214 -0.507715 -0.509179 -0.505377 -0.506356 -0.506494 -0.503491   \n",
       "1    -0.558091 -0.558125 -0.558160 -0.557210 -0.556779 -0.555640 -0.555403   \n",
       "2    -0.456341 -0.457666 -0.458980 -0.459252 -0.459958 -0.463626 -0.460906   \n",
       "3     2.691375  2.685756  2.679832  2.699721  2.698108  2.701313  2.716458   \n",
       "4     2.686604  2.694294  2.701454  2.696834  2.704851  2.720049  2.707154   \n",
       "...        ...       ...       ...       ...       ...       ...       ...   \n",
       "5052  0.875719  0.880190  0.884712  0.862383  0.868912  0.860736  0.853202   \n",
       "5053  1.436042  1.417292  1.398547  1.430788  1.414656  1.403153  1.431008   \n",
       "5054 -0.558044 -0.558081 -0.558117 -0.557164 -0.556736 -0.555600 -0.555359   \n",
       "5055  1.221861  1.211451  1.201084  1.199402  1.191384  1.187617  1.181851   \n",
       "5056 -0.557537 -0.557540 -0.557541 -0.556654 -0.556209 -0.555054 -0.554877   \n",
       "\n",
       "            P8        P9        F1  ...        F4        A1        B1  \\\n",
       "0    -0.504892 -0.506460 -0.420330  ... -0.419182  1.617501  1.137730   \n",
       "1    -0.555333 -0.555470 -0.478350  ... -0.477189 -0.237691 -1.138692   \n",
       "2    -0.460831 -0.463373 -0.362251  ... -0.365370 -0.589316 -0.905095   \n",
       "3     2.716686  2.704415  4.176818  ...  4.191264 -0.258370 -1.128438   \n",
       "4     2.707382  2.723167  1.993430  ...  2.000235 -0.891096  0.795342   \n",
       "...        ...       ...       ...  ...       ...       ...       ...   \n",
       "5052  0.857728  0.862181 -0.252852  ... -0.253800  2.061985 -0.007406   \n",
       "5053  1.412136  1.393184  2.049532  ...  2.044259  1.477725  1.252854   \n",
       "5054 -0.555289 -0.555430 -0.478279  ... -0.477121  0.198085 -1.280295   \n",
       "5055  1.171399  1.160887  1.200566  ...  1.180397  1.774950  0.966703   \n",
       "5056 -0.554807 -0.554883 -0.477774  ... -0.476628 -0.747165  1.002026   \n",
       "\n",
       "            A2        B2        A3        B3        A4        B4       obj  \n",
       "0     0.958081  1.637351  0.959504  1.638362  1.617365  1.139598 -0.833170  \n",
       "1    -0.374573 -0.886085 -0.373471 -0.886172 -0.238059 -1.138272 -0.070463  \n",
       "2    -0.243348 -0.969592 -0.242155 -0.969584 -0.589420 -0.904241 -0.446246  \n",
       "3     0.606324 -1.242762  0.607770 -1.242117 -0.258726 -1.127994 -0.852368  \n",
       "4    -0.421502  1.233150 -0.423125  1.233190 -0.890789  0.794750 -0.816943  \n",
       "...        ...       ...       ...       ...       ...       ...       ...  \n",
       "5052  2.372504 -0.675441  2.370782 -0.675704  2.062788 -0.008543 -0.787292  \n",
       "5053  1.310517  1.598885  1.311850  1.599620  1.477467  1.254651 -0.811048  \n",
       "5054  0.126839 -1.136584  0.128205 -1.136302  0.197550 -1.280343 -0.510756  \n",
       "5055  1.686027  1.495196  1.687182  1.495632  1.774996  0.968633 -0.727980  \n",
       "5056 -0.719545  0.944957 -0.720763  0.944744 -0.747088  1.001666  0.369035  \n",
       "\n",
       "[5057 rows x 22 columns]"
      ]
     },
     "execution_count": 21,
     "metadata": {},
     "output_type": "execute_result"
    }
   ],
   "source": [
    "\n",
    "\n",
    "x=data_stable.values\n",
    "scaler = preprocessing.StandardScaler()\n",
    "x_scaled = scaler.fit_transform(x)\n",
    "data_scaled = pd.DataFrame(x_scaled)\n",
    "data_scaled.columns = ['P1','P2','P3','P4','P5','P6','P7','P8','P9','F1','F2','F3','F4','A1','B1','A2','B2','A3','B3','A4','B4','obj']\n",
    "data_scaled\n",
    "\n"
   ]
  },
  {
   "cell_type": "markdown",
   "metadata": {},
   "source": [
    "# Extraire une 'petite' base de donnée de table.db, taille de l'ordre de 10 000"
   ]
  },
  {
   "cell_type": "code",
   "execution_count": 15,
   "metadata": {},
   "outputs": [],
   "source": [
    "#data_scaled_extraite=data_scaled.sample(frac=0.0025,random_state=0) #extraire \n",
    "#data_scaled_extraite=shuffle(data_scaled_extraite) #shuffle\n",
    "\n",
    "data_scaled_extraite=data_scaled\n",
    "Data_copy=data_scaled_extraite.copy()"
   ]
  },
  {
   "cell_type": "markdown",
   "metadata": {},
   "source": [
    "## Diviser la base de donnée 0.7 > entrainement ET 0.3 > test"
   ]
  },
  {
   "cell_type": "code",
   "execution_count": 57,
   "metadata": {},
   "outputs": [
    {
     "name": "stdout",
     "output_type": "stream",
     "text": [
      "The shape of the initial data before spliting it(9980, 21)\n",
      "The shape of the initial data for training(6986, 21)\n",
      "The shape of the initial data for testing(2994, 21)\n",
      "The shape of the features dataframe for training(6986, 17)\n",
      "The shape of the features dataframe for testing(2994, 17)\n",
      "The shape of the labels dataframe for training(6986, 4)\n",
      "The shape of the labels dataframe for testing(2994, 4)\n"
     ]
    }
   ],
   "source": [
    "print('The shape of the initial data before spliting it'+str(data_scaled_extraite.shape))\n",
    "\n",
    "\n",
    "data_training=data_scaled_extraite.sample(frac=0.7,random_state=0) \n",
    "data_test=data_scaled_extraite.drop(data_training.index)\n",
    "\n",
    "print('The shape of the initial data for training'+str(data_training.shape))\n",
    "print('The shape of the initial data for testing'+str(data_test.shape))\n",
    "\n",
    "\n",
    "data_training_labels = pd.DataFrame(columns =['F1','F2','F3','F4','obj'])\n",
    "data_test_labels = pd.DataFrame(columns =['F1','F2','F3','F4','obj'])\n",
    "\n",
    "data_training_labels['F1']=data_training['F1']\n",
    "data_training_labels['F2']=data_training['F2']\n",
    "data_training_labels['F3']=data_training['F3']\n",
    "data_training_labels['F4']=data_training['F4']\n",
    "#necessaire pour l'entrainement? On doit juste vérifier si la sortie est stable\n",
    "data_training_labels['obj']=data_training['obj']\n",
    "\n",
    "\n",
    "data_test_labels['F1']=data_test['F1']\n",
    "data_test_labels['F2']=data_test['F2']\n",
    "data_test_labels['F3']=data_test['F3']\n",
    "data_test_labels['F4']=data_test['F4']\n",
    "#Ici c'est nécessaire par contre\n",
    "data_test_labels['obj']=data_test['obj']\n",
    "\n",
    "\n",
    "data_training.pop('F1')\n",
    "data_training.pop('F2')\n",
    "data_training.pop('F3')\n",
    "data_training.pop('F4')\n",
    "data_training.pop('obj')\n",
    "\n",
    "data_test.pop('F1')\n",
    "data_test.pop('F2')\n",
    "data_test.pop('F3')\n",
    "data_test.pop('F4')\n",
    "data_test.pop('obj')\n",
    "\n",
    "data_training_features=data_training\n",
    "data_test_features=data_test\n",
    "\n",
    "print('The shape of the features dataframe for training'+str(data_training_features.shape))\n",
    "print('The shape of the features dataframe for testing'+str(data_test_features.shape))\n",
    "print('The shape of the labels dataframe for training'+str(data_training_labels.shape))\n",
    "print('The shape of the labels dataframe for testing'+str(data_test_labels.shape))\n",
    "\n",
    "\n",
    "\n",
    "\n",
    "\n",
    "\n",
    "\n",
    "\n",
    "\n"
   ]
  },
  {
   "cell_type": "markdown",
   "metadata": {},
   "source": [
    "## Créer le modèle de réseau de neurones ( fonction d'activation = LeakyRelu ) "
   ]
  },
  {
   "cell_type": "markdown",
   "metadata": {},
   "source": [
    "Définir shape = nombre de 'features' d'entrée"
   ]
  },
  {
   "cell_type": "code",
   "execution_count": 10,
   "metadata": {},
   "outputs": [],
   "source": [
    "#shape = len(data.columns)-4\n",
    "shape = len(data.columns)-5"
   ]
  },
  {
   "cell_type": "markdown",
   "metadata": {},
   "source": [
    "On crée le réseau de neuronnes avec une implémentation du Dropout, BUT : Regularisation et diminuer l'effet du overfitting (Dropout > randomly reducing the number of interconnecting neurons within a neural network), on choisit le dropout_rate=0.2, et on l'applique sur toute les Hidden layers.\n",
    "\n",
    "\n"
   ]
  },
  {
   "cell_type": "code",
   "execution_count": 18,
   "metadata": {},
   "outputs": [
    {
     "name": "stdout",
     "output_type": "stream",
     "text": [
      "Model: \"sequential_1\"\n",
      "_________________________________________________________________\n",
      "Layer (type)                 Output Shape              Param #   \n",
      "=================================================================\n",
      "dense_4 (Dense)              (None, 50)                900       \n",
      "_________________________________________________________________\n",
      "leaky_re_lu_3 (LeakyReLU)    (None, 50)                0         \n",
      "_________________________________________________________________\n",
      "dropout_3 (Dropout)          (None, 50)                0         \n",
      "_________________________________________________________________\n",
      "dense_5 (Dense)              (None, 50)                2550      \n",
      "_________________________________________________________________\n",
      "leaky_re_lu_4 (LeakyReLU)    (None, 50)                0         \n",
      "_________________________________________________________________\n",
      "dropout_4 (Dropout)          (None, 50)                0         \n",
      "_________________________________________________________________\n",
      "dense_6 (Dense)              (None, 50)                2550      \n",
      "_________________________________________________________________\n",
      "leaky_re_lu_5 (LeakyReLU)    (None, 50)                0         \n",
      "_________________________________________________________________\n",
      "dropout_5 (Dropout)          (None, 50)                0         \n",
      "_________________________________________________________________\n",
      "dense_7 (Dense)              (None, 4)                 204       \n",
      "=================================================================\n",
      "Total params: 6,204\n",
      "Trainable params: 6,204\n",
      "Non-trainable params: 0\n",
      "_________________________________________________________________\n"
     ]
    }
   ],
   "source": [
    "def build_model():\n",
    "    model = keras.Sequential()\n",
    "    model.add(layers.Dense(50,use_bias=True,input_shape=[shape]))\n",
    "    model.add(LeakyReLU(alpha=0.1))\n",
    "    model.add(keras.layers.Dropout(rate=0.2))\n",
    "    model.add(layers.Dense(50,use_bias=True,input_shape=[shape]))\n",
    "    model.add(LeakyReLU(alpha=0.1))\n",
    "    model.add(keras.layers.Dropout(rate=0.2))\n",
    "    model.add(layers.Dense(50,use_bias=True,input_shape=[shape]))\n",
    "    model.add(LeakyReLU(alpha=0.1))\n",
    "    model.add(keras.layers.Dropout(rate=0.2))\n",
    "    model.add(layers.Dense(5,use_bias=True,activation='linear'))\n",
    "\n",
    "    return model\n",
    "\n",
    "model = build_model()\n",
    "model.summary()"
   ]
  },
  {
   "cell_type": "markdown",
   "metadata": {},
   "source": [
    "Nombre de degré de liberté du réseau : 6 051 , du meme ordre de la taille de la base de données => Overfitting/Underfitting évité"
   ]
  },
  {
   "cell_type": "markdown",
   "metadata": {},
   "source": [
    "Optimiser le réseau, on choisit l'algorithm Adam et 20 000 epoches ( on peut changer d'algorithm d'optimisation apres ( gradient descent par exemple ), ca dependra de la performance ) \n",
    "On a pas encore Etudié le batch_size, on met une valeur arbitraire de 128"
   ]
  },
  {
   "cell_type": "code",
   "execution_count": 19,
   "metadata": {},
   "outputs": [],
   "source": [
    "def train_model():\n",
    "  \n",
    "    \n",
    "  optimizer = tf.optimizers.Adam() #Algorithm d'optimisation\n",
    "  #Il serait super de pouvoir modifier cet algorithme d'optimisation pour la stabilite \n",
    "  #la colonne 'obj' devrait etre traitée différament (on veut juste que ça soit positif)\n",
    "\n",
    "  model.compile(loss='mse',\n",
    "                optimizer=optimizer,\n",
    "                metrics=['mse'])\n",
    "\n",
    "  early_stop = keras.callbacks.EarlyStopping(monitor='val_mse',min_delta=1e-17, patience=10)\n",
    "  logdir = os.path.join(\"logs\", datetime.datetime.now().strftime(\"%Y%m%d-%H%M%S\"))\n",
    "  tensorboard_callback = tf.keras.callbacks.TensorBoard(logdir, histogram_freq=1,profile_batch=0)\n",
    "\n",
    "\n",
    "  model.fit(data_training_features, \n",
    "            data_training_labels, \n",
    "            epochs=1000,\n",
    "            batch_size=128,    #Ce choix dépend du nombre d'itération dt et dx de la base\n",
    "            validation_split = 0.5, \n",
    "            verbose=0, \n",
    "            callbacks=[early_stop,tensorboard_callback])"
   ]
  },
  {
   "cell_type": "markdown",
   "metadata": {},
   "source": [
    "La méthode callbacks.TensorBoard() a été ajouté pour conserver la performence du Réseau de neurones a chaque itération (epochs) et visualiser les courbes a la fin"
   ]
  },
  {
   "cell_type": "markdown",
   "metadata": {},
   "source": [
    "# Save the model in .h5 format "
   ]
  },
  {
   "cell_type": "code",
   "execution_count": 20,
   "metadata": {},
   "outputs": [],
   "source": [
    "train_model()\n",
    "model.save(\"Advection_2D.h5\")"
   ]
  },
  {
   "cell_type": "markdown",
   "metadata": {},
   "source": [
    "# Résultats"
   ]
  },
  {
   "cell_type": "code",
   "execution_count": 90,
   "metadata": {},
   "outputs": [
    {
     "data": {
      "text/html": [
       "<div>\n",
       "<style scoped>\n",
       "    .dataframe tbody tr th:only-of-type {\n",
       "        vertical-align: middle;\n",
       "    }\n",
       "\n",
       "    .dataframe tbody tr th {\n",
       "        vertical-align: top;\n",
       "    }\n",
       "\n",
       "    .dataframe thead th {\n",
       "        text-align: right;\n",
       "    }\n",
       "</style>\n",
       "<table border=\"1\" class=\"dataframe\">\n",
       "  <thead>\n",
       "    <tr style=\"text-align: right;\">\n",
       "      <th></th>\n",
       "      <th>F1</th>\n",
       "      <th>F2</th>\n",
       "      <th>F3</th>\n",
       "      <th>F4</th>\n",
       "    </tr>\n",
       "  </thead>\n",
       "  <tbody>\n",
       "    <tr>\n",
       "      <th>0</th>\n",
       "      <td>-0.017108</td>\n",
       "      <td>-0.185029</td>\n",
       "      <td>-0.193127</td>\n",
       "      <td>-0.020954</td>\n",
       "    </tr>\n",
       "    <tr>\n",
       "      <th>1</th>\n",
       "      <td>0.912588</td>\n",
       "      <td>3.293712</td>\n",
       "      <td>3.334978</td>\n",
       "      <td>0.866500</td>\n",
       "    </tr>\n",
       "    <tr>\n",
       "      <th>2</th>\n",
       "      <td>-0.307965</td>\n",
       "      <td>-0.306964</td>\n",
       "      <td>-0.306957</td>\n",
       "      <td>-0.318496</td>\n",
       "    </tr>\n",
       "    <tr>\n",
       "      <th>3</th>\n",
       "      <td>-0.272810</td>\n",
       "      <td>-0.292538</td>\n",
       "      <td>-0.286128</td>\n",
       "      <td>-0.281679</td>\n",
       "    </tr>\n",
       "    <tr>\n",
       "      <th>4</th>\n",
       "      <td>0.364038</td>\n",
       "      <td>0.297920</td>\n",
       "      <td>0.320053</td>\n",
       "      <td>0.374204</td>\n",
       "    </tr>\n",
       "    <tr>\n",
       "      <th>...</th>\n",
       "      <td>...</td>\n",
       "      <td>...</td>\n",
       "      <td>...</td>\n",
       "      <td>...</td>\n",
       "    </tr>\n",
       "    <tr>\n",
       "      <th>2989</th>\n",
       "      <td>-0.236955</td>\n",
       "      <td>-0.239990</td>\n",
       "      <td>-0.236002</td>\n",
       "      <td>-0.251390</td>\n",
       "    </tr>\n",
       "    <tr>\n",
       "      <th>2990</th>\n",
       "      <td>-0.175308</td>\n",
       "      <td>-0.182044</td>\n",
       "      <td>-0.180926</td>\n",
       "      <td>-0.191483</td>\n",
       "    </tr>\n",
       "    <tr>\n",
       "      <th>2991</th>\n",
       "      <td>-0.312099</td>\n",
       "      <td>-0.290885</td>\n",
       "      <td>-0.287964</td>\n",
       "      <td>-0.325366</td>\n",
       "    </tr>\n",
       "    <tr>\n",
       "      <th>2992</th>\n",
       "      <td>-0.264573</td>\n",
       "      <td>-0.255985</td>\n",
       "      <td>-0.251141</td>\n",
       "      <td>-0.278367</td>\n",
       "    </tr>\n",
       "    <tr>\n",
       "      <th>2993</th>\n",
       "      <td>1.572160</td>\n",
       "      <td>5.013429</td>\n",
       "      <td>5.032829</td>\n",
       "      <td>1.504611</td>\n",
       "    </tr>\n",
       "  </tbody>\n",
       "</table>\n",
       "<p>2994 rows × 4 columns</p>\n",
       "</div>"
      ],
      "text/plain": [
       "            F1        F2        F3        F4\n",
       "0    -0.017108 -0.185029 -0.193127 -0.020954\n",
       "1     0.912588  3.293712  3.334978  0.866500\n",
       "2    -0.307965 -0.306964 -0.306957 -0.318496\n",
       "3    -0.272810 -0.292538 -0.286128 -0.281679\n",
       "4     0.364038  0.297920  0.320053  0.374204\n",
       "...        ...       ...       ...       ...\n",
       "2989 -0.236955 -0.239990 -0.236002 -0.251390\n",
       "2990 -0.175308 -0.182044 -0.180926 -0.191483\n",
       "2991 -0.312099 -0.290885 -0.287964 -0.325366\n",
       "2992 -0.264573 -0.255985 -0.251141 -0.278367\n",
       "2993  1.572160  5.013429  5.032829  1.504611\n",
       "\n",
       "[2994 rows x 4 columns]"
      ]
     },
     "execution_count": 90,
     "metadata": {},
     "output_type": "execute_result"
    }
   ],
   "source": [
    "Y_pred=model.predict(data_test_features) #output du réseau, qu'on veut comparer a Y_test\n",
    "Y_test=data_test_labels\n",
    "\n",
    "Y_preddd=pd.DataFrame(Y_pred,columns=['F1','F2','F3','F4','obj'])\n",
    "\n",
    "Y_preddd\n",
    "\n",
    "\n"
   ]
  },
  {
   "cell_type": "code",
   "execution_count": 106,
   "metadata": {},
   "outputs": [],
   "source": [
    "def visualize1(model, test_features, test_labels): #we feed it the test data\n",
    "    Y_pred=Y_preddd #output du réseau, qu'on veut comparer a Y_test\n",
    "    Y_test=data_test_labels\n",
    "    \n",
    "    plt.scatter(Y_test['F1'],Y_pred['F1'], color = 'red',marker=\".\")\n",
    "    plt.scatter(Y_test['F1'],Y_test['F1'], color = 'black',marker=\".\") #just for the y=x black line, the result (red points) should be close to the line\n",
    "    \n",
    "    \n",
    "    plt.title('Neural Network prediction de F1')\n",
    "    plt.xlabel('exact')\n",
    "    plt.ylabel('prediction')\n",
    "    \n",
    "    R2=metrics.r2_score(test_labels, Y_pred)\n",
    "    \n",
    "    Correl=np.corrcoef(test_labels, Y_pred)[0, 1]\n",
    "    \n",
    "    print('Model Performance')\n",
    "    print('Correlation: {:0.4f}.'.format(Correl))\n",
    "    print('R2: {:0.4f}.'.format(R2))\n",
    "    \n",
    "    plt.show()\n",
    "    \n"
   ]
  },
  {
   "cell_type": "code",
   "execution_count": 107,
   "metadata": {},
   "outputs": [],
   "source": [
    "def visualize2(model, test_features, test_labels): #we feed it the test data\n",
    "    Y_pred=Y_preddd #output du réseau, qu'on veut comparer a Y_test\n",
    "    Y_test=data_test_labels\n",
    "    \n",
    "    plt.scatter(Y_test['F2'],Y_pred['F2'], color = 'red',marker=\".\")\n",
    "    plt.scatter(Y_test['F2'],Y_test['F2'], color = 'black',marker=\".\") #just for the y=x black line, the result (red points) should be close to the line\n",
    "    \n",
    "    \n",
    "    plt.title('Neural Network prediction de F2')\n",
    "    plt.xlabel('exact')\n",
    "    plt.ylabel('prediction')\n",
    "    \n",
    "    R2=metrics.r2_score(test_labels, Y_pred)\n",
    "    \n",
    "    Correl=np.corrcoef(test_labels, Y_pred)[0, 1]\n",
    "    \n",
    "    print('Model Performance')\n",
    "    print('Correlation: {:0.4f}.'.format(Correl))\n",
    "    print('R2: {:0.4f}.'.format(R2))\n",
    "    \n",
    "    plt.show()"
   ]
  },
  {
   "cell_type": "code",
   "execution_count": 108,
   "metadata": {},
   "outputs": [],
   "source": [
    "def visualize3(model, test_features, test_labels): #we feed it the test data\n",
    "    Y_pred=Y_preddd #output du réseau, qu'on veut comparer a Y_test\n",
    "    Y_test=data_test_labels\n",
    "    \n",
    "    plt.scatter(Y_test['F3'],Y_pred['F3'], color = 'red',marker=\".\")\n",
    "    plt.scatter(Y_test['F3'],Y_test['F3'], color = 'black',marker=\".\") #just for the y=x black line, the result (red points) should be close to the line\n",
    "    \n",
    "    \n",
    "    plt.title('Neural Network prediction de F3')\n",
    "    plt.xlabel('exact')\n",
    "    plt.ylabel('prediction')\n",
    "    \n",
    "    R2=metrics.r2_score(test_labels, Y_pred)\n",
    "    \n",
    "    Correl=np.corrcoef(test_labels, Y_pred)[0, 1]\n",
    "    \n",
    "    print('Model Performance')\n",
    "    print('Correlation: {:0.4f}.'.format(Correl))\n",
    "    print('R2: {:0.4f}.'.format(R2))\n",
    "    \n",
    "    plt.show()"
   ]
  },
  {
   "cell_type": "code",
   "execution_count": 109,
   "metadata": {},
   "outputs": [],
   "source": [
    "def visualize4(model, test_features, test_labels): #we feed it the test data\n",
    "    Y_pred=Y_preddd #output du réseau, qu'on veut comparer a Y_test\n",
    "    Y_test=data_test_labels\n",
    "    \n",
    "    plt.scatter(Y_test['F4'],Y_pred['F4'], color = 'red',marker=\".\")\n",
    "    plt.scatter(Y_test['F4'],Y_test['F4'], color = 'black',marker=\".\") #just for the y=x black line, the result (red points) should be close to the line\n",
    "    \n",
    "    \n",
    "    plt.title('Neural Network prediction de F4')\n",
    "    plt.xlabel('exact')\n",
    "    plt.ylabel('prediction')\n",
    "    \n",
    "    R2=metrics.r2_score(test_labels, Y_pred)\n",
    "    \n",
    "    Correl=np.corrcoef(test_labels, Y_pred)[0, 1]\n",
    "    \n",
    "    print('Model Performance')\n",
    "    print('Correlation: {:0.4f}.'.format(Correl))\n",
    "    print('R2: {:0.4f}.'.format(R2))\n",
    "    \n",
    "    plt.show()"
   ]
  },
  {
   "cell_type": "code",
   "execution_count": 110,
   "metadata": {},
   "outputs": [
    {
     "name": "stderr",
     "output_type": "stream",
     "text": [
      "C:\\Users\\rachadi\\Anaconda3\\lib\\site-packages\\numpy\\lib\\function_base.py:2534: RuntimeWarning: invalid value encountered in true_divide\n",
      "  c /= stddev[:, None]\n",
      "C:\\Users\\rachadi\\Anaconda3\\lib\\site-packages\\numpy\\lib\\function_base.py:2535: RuntimeWarning: invalid value encountered in true_divide\n",
      "  c /= stddev[None, :]\n"
     ]
    },
    {
     "name": "stdout",
     "output_type": "stream",
     "text": [
      "Model Performance\n",
      "Correlation: -0.9999.\n",
      "R2: 0.9843.\n"
     ]
    },
    {
     "data": {
      "image/png": "[encoded data removed]",
      "text/plain": [
       "<Figure size 432x288 with 1 Axes>"
      ]
     },
     "metadata": {
      "needs_background": "light"
     },
     "output_type": "display_data"
    }
   ],
   "source": [
    "visualize1(model,data_test_features,data_test_labels)"
   ]
  },
  {
   "cell_type": "code",
   "execution_count": 111,
   "metadata": {},
   "outputs": [
    {
     "name": "stderr",
     "output_type": "stream",
     "text": [
      "C:\\Users\\rachadi\\Anaconda3\\lib\\site-packages\\numpy\\lib\\function_base.py:2534: RuntimeWarning: invalid value encountered in true_divide\n",
      "  c /= stddev[:, None]\n",
      "C:\\Users\\rachadi\\Anaconda3\\lib\\site-packages\\numpy\\lib\\function_base.py:2535: RuntimeWarning: invalid value encountered in true_divide\n",
      "  c /= stddev[None, :]\n"
     ]
    },
    {
     "name": "stdout",
     "output_type": "stream",
     "text": [
      "Model Performance\n",
      "Correlation: -0.9999.\n",
      "R2: 0.9843.\n"
     ]
    },
    {
     "data": {
      "image/png": "[encoded data removed]",
      "text/plain": [
       "<Figure size 432x288 with 1 Axes>"
      ]
     },
     "metadata": {
      "needs_background": "light"
     },
     "output_type": "display_data"
    }
   ],
   "source": [
    "visualize2(model,data_test_features,data_test_labels)"
   ]
  },
  {
   "cell_type": "code",
   "execution_count": 112,
   "metadata": {},
   "outputs": [
    {
     "name": "stderr",
     "output_type": "stream",
     "text": [
      "C:\\Users\\rachadi\\Anaconda3\\lib\\site-packages\\numpy\\lib\\function_base.py:2534: RuntimeWarning: invalid value encountered in true_divide\n",
      "  c /= stddev[:, None]\n",
      "C:\\Users\\rachadi\\Anaconda3\\lib\\site-packages\\numpy\\lib\\function_base.py:2535: RuntimeWarning: invalid value encountered in true_divide\n",
      "  c /= stddev[None, :]\n"
     ]
    },
    {
     "name": "stdout",
     "output_type": "stream",
     "text": [
      "Model Performance\n",
      "Correlation: -0.9999.\n",
      "R2: 0.9843.\n"
     ]
    },
    {
     "data": {
      "image/png": "[encoded data removed]",
      "text/plain": [
       "<Figure size 432x288 with 1 Axes>"
      ]
     },
     "metadata": {
      "needs_background": "light"
     },
     "output_type": "display_data"
    }
   ],
   "source": [
    "visualize3(model,data_test_features,data_test_labels)"
   ]
  },
  {
   "cell_type": "code",
   "execution_count": 113,
   "metadata": {},
   "outputs": [
    {
     "name": "stderr",
     "output_type": "stream",
     "text": [
      "C:\\Users\\rachadi\\Anaconda3\\lib\\site-packages\\numpy\\lib\\function_base.py:2534: RuntimeWarning: invalid value encountered in true_divide\n",
      "  c /= stddev[:, None]\n",
      "C:\\Users\\rachadi\\Anaconda3\\lib\\site-packages\\numpy\\lib\\function_base.py:2535: RuntimeWarning: invalid value encountered in true_divide\n",
      "  c /= stddev[None, :]\n"
     ]
    },
    {
     "name": "stdout",
     "output_type": "stream",
     "text": [
      "Model Performance\n",
      "Correlation: -0.9999.\n",
      "R2: 0.9843.\n"
     ]
    },
    {
     "data": {
      "image/png": "[encoded data removed]",
      "text/plain": [
       "<Figure size 432x288 with 1 Axes>"
      ]
     },
     "metadata": {
      "needs_background": "light"
     },
     "output_type": "display_data"
    }
   ],
   "source": [
    "visualize4(model,data_test_features,data_test_labels)"
   ]
  },
  {
   "cell_type": "markdown",
   "metadata": {},
   "source": [
    "# Visualisation de la Loss-fonction"
   ]
  },
  {
   "cell_type": "code",
   "execution_count": 114,
   "metadata": {},
   "outputs": [
    {
     "name": "stdout",
     "output_type": "stream",
     "text": [
      "The tensorboard extension is already loaded. To reload it, use:\n",
      "  %reload_ext tensorboard\n"
     ]
    },
    {
     "data": {
      "text/plain": [
       "ERROR: Timed out waiting for TensorBoard to start. It may still be running as pid 26208."
      ]
     },
     "metadata": {},
     "output_type": "display_data"
    }
   ],
   "source": [
    "%load_ext tensorboard\n",
    "%tensorboard --logdir logs/fit"
   ]
  },
  {
   "cell_type": "code",
   "execution_count": null,
   "metadata": {},
   "outputs": [],
   "source": []
  }
 ],
 "metadata": {
  "kernelspec": {
   "display_name": "Python 3",
   "language": "python",
   "name": "python3"
  },
  "language_info": {
   "codemirror_mode": {
    "name": "ipython",
    "version": 3
   },
   "file_extension": ".py",
   "mimetype": "text/x-python",
   "name": "python",
   "nbconvert_exporter": "python",
   "pygments_lexer": "ipython3",
   "version": "3.8.3"
  }
 },
 "nbformat": 4,
 "nbformat_minor": 4
}
