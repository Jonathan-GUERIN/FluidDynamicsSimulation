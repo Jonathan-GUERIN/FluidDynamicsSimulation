{
 "cells": [
  {
   "cell_type": "markdown",
   "metadata": {},
   "source": [
    "# Forêts aléatoire d'arbres de décision\n",
    "\n",
    "Dans cette feuille nous allons:\n",
    "    1. Etudier l'influence d'une augmentation de la taille de la base de données (10000-->20000 points)\n",
    "    2. analyser la pertinence des données d'entrée pour l'obtention d'un modèle de type Random Forest du terme de sous-maille sur la pression.\n",
    "    \n",
    "Les analyses présentes dans cette feuille sont très inspirées de la suite d'articles en lignes ci-dessous (à lire dans l'ordre)\n",
    "- https://medium.com/@williamkoehrsen/random-forest-simple-explanation-377895a60d2d\n",
    "- https://towardsdatascience.com/random-forest-in-python-24d0893d51c0\n",
    "- https://towardsdatascience.com/improving-random-forest-in-python-part-1-893916666cd\n",
    "- https://towardsdatascience.com/hyperparameter-tuning-the-random-forest-in-python-using-scikit-learn-28d2aa77dd74\n",
    "\n",
    "### Chargement des paquets python essentiels"
   ]
  },
  {
   "cell_type": "code",
   "execution_count": 1,
   "metadata": {},
   "outputs": [],
   "source": [
    "# Random Forest Regression\n",
    "from __future__ import absolute_import, division, print_function, unicode_literals\n",
    "\n",
    "import pathlib\n",
    "import matplotlib.pyplot as plt\n",
    "import pandas as pd\n",
    "import seaborn as sns\n",
    "import numpy as np\n",
    "import sys\n",
    "import datetime, os\n",
    "from sklearn import preprocessing"
   ]
  },
  {
   "cell_type": "code",
   "execution_count": 2,
   "metadata": {},
   "outputs": [
    {
     "name": "stdout",
     "output_type": "stream",
     "text": [
      "Requirement already satisfied: matplotlib in /usr/local/lib/python3.8/site-packages (3.3.1)\n",
      "Requirement already satisfied: numpy>=1.15 in /usr/local/lib/python3.8/site-packages (from matplotlib) (1.18.5)\n",
      "Requirement already satisfied: python-dateutil>=2.1 in /usr/local/lib/python3.8/site-packages (from matplotlib) (2.8.1)\n",
      "Requirement already satisfied: cycler>=0.10 in /usr/local/lib/python3.8/site-packages (from matplotlib) (0.10.0)\n",
      "Requirement already satisfied: kiwisolver>=1.0.1 in /usr/local/lib/python3.8/site-packages (from matplotlib) (1.2.0)\n",
      "Requirement already satisfied: certifi>=2020.06.20 in /usr/local/lib/python3.8/site-packages (from matplotlib) (2020.6.20)\n",
      "Requirement already satisfied: pyparsing!=2.0.4,!=2.1.2,!=2.1.6,>=2.0.3 in /usr/local/lib/python3.8/site-packages (from matplotlib) (2.4.7)\n",
      "Requirement already satisfied: pillow>=6.2.0 in /usr/local/lib/python3.8/site-packages (from matplotlib) (7.2.0)\n",
      "Requirement already satisfied: six>=1.5 in /usr/local/lib/python3.8/site-packages (from python-dateutil>=2.1->matplotlib) (1.15.0)\n",
      "Note: you may need to restart the kernel to use updated packages.\n"
     ]
    }
   ],
   "source": [
    "pip install matplotlib"
   ]
  },
  {
   "cell_type": "markdown",
   "metadata": {},
   "source": [
    "### Fonction d'évaluation des modèles"
   ]
  },
  {
   "cell_type": "code",
   "execution_count": 3,
   "metadata": {},
   "outputs": [],
   "source": [
    "def evaluate(model, test_features, test_labels):\n",
    "    from sklearn import metrics\n",
    "    predictions = model.predict(test_features)\n",
    "    #R2\n",
    "    R2=metrics.r2_score(test_labels, predictions)\n",
    "    #Correlation entre predictions et vraies donnees\n",
    "    Correl=np.corrcoef(test_labels, predictions)[0, 1]\n",
    "    print('Model Performance:')\n",
    "    print('Correlation: {:0.4f}.'.format(Correl))\n",
    "    print('R2: {:0.4f}.'.format(R2))"
   ]
  },
  {
   "cell_type": "markdown",
   "metadata": {},
   "source": [
    "### Fonction de visualisation des modèles"
   ]
  },
  {
   "cell_type": "code",
   "execution_count": 4,
   "metadata": {},
   "outputs": [],
   "source": [
    "# Visualising the Random Forest Regression results \n",
    "def visualize(model, test_features, test_labels):\n",
    "    X_test=test_labels\n",
    "    Y_pred=model.predict(test_features)\n",
    "    Y_test=test_labels\n",
    "    plt.scatter(Y_test,Y_pred, color = 'red',marker=\".\")\n",
    "    plt.scatter(Y_test,Y_test, color = 'black',marker=\".\")\n",
    "    plt.title('Random Forest Regression Results')\n",
    "    plt.xlabel('sgs_exact')\n",
    "    plt.ylabel('sgs_model')\n",
    "    plt.show()"
   ]
  },
  {
   "cell_type": "markdown",
   "metadata": {},
   "source": [
    "### Chargement des données et normalisation\n",
    "\n",
    "A noter qu'ici pour réduire le temps de calcul, toutes les données ne sont pas chargées. Il ne s'agit donc ici \"que\" d'illustrer l'approche. Le même travail doit en réalité être réalisé à l'aide d'une implémentation réellement parallèle de ces méthodes et sur un cluster de calcul (les temps de calcul ci-dessous parlent pour eux-même)"
   ]
  },
  {
   "cell_type": "code",
   "execution_count": 5,
   "metadata": {},
   "outputs": [
    {
     "data": {
      "text/html": [
       "<div>\n",
       "<style scoped>\n",
       "    .dataframe tbody tr th:only-of-type {\n",
       "        vertical-align: middle;\n",
       "    }\n",
       "\n",
       "    .dataframe tbody tr th {\n",
       "        vertical-align: top;\n",
       "    }\n",
       "\n",
       "    .dataframe thead th {\n",
       "        text-align: right;\n",
       "    }\n",
       "</style>\n",
       "<table border=\"1\" class=\"dataframe\">\n",
       "  <thead>\n",
       "    <tr style=\"text-align: right;\">\n",
       "      <th></th>\n",
       "      <th>sgs_p</th>\n",
       "      <th>rho</th>\n",
       "      <th>tempe</th>\n",
       "      <th>press</th>\n",
       "      <th>rhoe</th>\n",
       "      <th>gradrho</th>\n",
       "      <th>gradt</th>\n",
       "      <th>gradp</th>\n",
       "      <th>gradroe</th>\n",
       "      <th>laprho</th>\n",
       "      <th>laprhoe</th>\n",
       "      <th>inv1</th>\n",
       "      <th>inv2</th>\n",
       "      <th>inv3</th>\n",
       "    </tr>\n",
       "  </thead>\n",
       "  <tbody>\n",
       "    <tr>\n",
       "      <th>9995</th>\n",
       "      <td>0.097784</td>\n",
       "      <td>-0.716074</td>\n",
       "      <td>-0.942000</td>\n",
       "      <td>-0.748789</td>\n",
       "      <td>-0.717837</td>\n",
       "      <td>0.494740</td>\n",
       "      <td>1.081111</td>\n",
       "      <td>1.262590</td>\n",
       "      <td>0.497256</td>\n",
       "      <td>0.597887</td>\n",
       "      <td>0.863976</td>\n",
       "      <td>-1.020403</td>\n",
       "      <td>-0.973945</td>\n",
       "      <td>1.430293</td>\n",
       "    </tr>\n",
       "    <tr>\n",
       "      <th>9996</th>\n",
       "      <td>0.185565</td>\n",
       "      <td>-0.591395</td>\n",
       "      <td>-0.719340</td>\n",
       "      <td>-0.523976</td>\n",
       "      <td>-0.592961</td>\n",
       "      <td>0.661310</td>\n",
       "      <td>1.243676</td>\n",
       "      <td>1.340896</td>\n",
       "      <td>0.664708</td>\n",
       "      <td>0.165694</td>\n",
       "      <td>0.789254</td>\n",
       "      <td>0.796361</td>\n",
       "      <td>-1.130888</td>\n",
       "      <td>1.555410</td>\n",
       "    </tr>\n",
       "    <tr>\n",
       "      <th>9997</th>\n",
       "      <td>-0.043294</td>\n",
       "      <td>-0.419354</td>\n",
       "      <td>-0.419821</td>\n",
       "      <td>-0.243867</td>\n",
       "      <td>-0.420377</td>\n",
       "      <td>0.643234</td>\n",
       "      <td>1.043444</td>\n",
       "      <td>1.133994</td>\n",
       "      <td>0.646151</td>\n",
       "      <td>-0.890383</td>\n",
       "      <td>-1.094420</td>\n",
       "      <td>-0.960224</td>\n",
       "      <td>-1.059240</td>\n",
       "      <td>1.423937</td>\n",
       "    </tr>\n",
       "    <tr>\n",
       "      <th>9998</th>\n",
       "      <td>-0.380787</td>\n",
       "      <td>-0.235838</td>\n",
       "      <td>-0.156400</td>\n",
       "      <td>0.014386</td>\n",
       "      <td>-0.236615</td>\n",
       "      <td>0.535882</td>\n",
       "      <td>0.612443</td>\n",
       "      <td>0.780502</td>\n",
       "      <td>0.536276</td>\n",
       "      <td>-1.186591</td>\n",
       "      <td>-1.145398</td>\n",
       "      <td>0.807814</td>\n",
       "      <td>-0.840958</td>\n",
       "      <td>1.146090</td>\n",
       "    </tr>\n",
       "    <tr>\n",
       "      <th>9999</th>\n",
       "      <td>-0.662035</td>\n",
       "      <td>-0.063521</td>\n",
       "      <td>0.023107</td>\n",
       "      <td>0.218682</td>\n",
       "      <td>-0.064835</td>\n",
       "      <td>0.539126</td>\n",
       "      <td>0.303150</td>\n",
       "      <td>0.546398</td>\n",
       "      <td>0.536142</td>\n",
       "      <td>-1.262554</td>\n",
       "      <td>-1.158252</td>\n",
       "      <td>0.816970</td>\n",
       "      <td>-0.529252</td>\n",
       "      <td>0.741168</td>\n",
       "    </tr>\n",
       "  </tbody>\n",
       "</table>\n",
       "</div>"
      ],
      "text/plain": [
       "         sgs_p       rho     tempe     press      rhoe   gradrho     gradt  \\\n",
       "9995  0.097784 -0.716074 -0.942000 -0.748789 -0.717837  0.494740  1.081111   \n",
       "9996  0.185565 -0.591395 -0.719340 -0.523976 -0.592961  0.661310  1.243676   \n",
       "9997 -0.043294 -0.419354 -0.419821 -0.243867 -0.420377  0.643234  1.043444   \n",
       "9998 -0.380787 -0.235838 -0.156400  0.014386 -0.236615  0.535882  0.612443   \n",
       "9999 -0.662035 -0.063521  0.023107  0.218682 -0.064835  0.539126  0.303150   \n",
       "\n",
       "         gradp   gradroe    laprho   laprhoe      inv1      inv2      inv3  \n",
       "9995  1.262590  0.497256  0.597887  0.863976 -1.020403 -0.973945  1.430293  \n",
       "9996  1.340896  0.664708  0.165694  0.789254  0.796361 -1.130888  1.555410  \n",
       "9997  1.133994  0.646151 -0.890383 -1.094420 -0.960224 -1.059240  1.423937  \n",
       "9998  0.780502  0.536276 -1.186591 -1.145398  0.807814 -0.840958  1.146090  \n",
       "9999  0.546398  0.536142 -1.262554 -1.158252  0.816970 -0.529252  0.741168  "
      ]
     },
     "execution_count": 5,
     "metadata": {},
     "output_type": "execute_result"
    }
   ],
   "source": [
    "# Importing the datasets\n",
    "\n",
    "column_names = ['sgs_p','rho','tempe','press','rhoe',\n",
    "                'gradrho', 'gradt', 'gradp','gradroe','laprho','laprhoe','inv1','inv2','inv3']\n",
    "raw_dataset = pd.read_csv('data.dat', names=column_names,\n",
    "                      sep=\" \",nrows = 10000)#, skipinitialspace=True)\n",
    "\n",
    "data = raw_dataset.copy()\n",
    "x = data.values #returns a numpy array\n",
    "x_scaled = preprocessing.scale(x)\n",
    "data = pd.DataFrame(x_scaled)\n",
    "data.columns = ['sgs_p','rho','tempe','press','rhoe',\n",
    "                'gradrho', 'gradt', 'gradp','gradroe','laprho','laprhoe','inv1','inv2','inv3']\n",
    "\n",
    "\n",
    "# CHeck if there are any NaN entries\n",
    "data.isna().sum()\n",
    "# Drop them if any\n",
    "data = data.dropna()\n",
    "#Print tail to check\n",
    "data.tail()"
   ]
  },
  {
   "cell_type": "markdown",
   "metadata": {},
   "source": [
    "### Séparation entre données d'entraînement et de test"
   ]
  },
  {
   "cell_type": "code",
   "execution_count": 6,
   "metadata": {},
   "outputs": [],
   "source": [
    "# One Hot Encoding\n",
    "features = pd.get_dummies(data)\n",
    "\n",
    "# Extract features and labels\n",
    "labels = features['sgs_p']\n",
    "features = features.drop('sgs_p', axis = 1)\n",
    "\n",
    "# List of features for later use\n",
    "feature_list = list(features.columns)\n",
    "\n",
    "# Convert to numpy arrays\n",
    "import numpy as np\n",
    "\n",
    "features = np.array(features)\n",
    "labels = np.array(labels)\n",
    "\n",
    "# Training and Testing Sets\n",
    "from sklearn.model_selection import train_test_split\n",
    "\n",
    "train_features, test_features, train_labels, test_labels = train_test_split(features, labels, \n",
    "                                                                            test_size = 0.25, random_state = 42)"
   ]
  },
  {
   "cell_type": "code",
   "execution_count": 7,
   "metadata": {},
   "outputs": [
    {
     "name": "stdout",
     "output_type": "stream",
     "text": [
      "Training Features Shape: (7500, 13)\n",
      "Training Labels Shape: (7500,)\n",
      "Testing Features Shape: (2500, 13)\n",
      "Testing Labels Shape: (2500,)\n"
     ]
    }
   ],
   "source": [
    "print('Training Features Shape:', train_features.shape)\n",
    "print('Training Labels Shape:', train_labels.shape)\n",
    "print('Testing Features Shape:', test_features.shape)\n",
    "print('Testing Labels Shape:', test_labels.shape)"
   ]
  },
  {
   "cell_type": "markdown",
   "metadata": {},
   "source": [
    "## Evaluation des qualités du modèle de base\n",
    "\n",
    "### Examen des paramètres par défaut de la random forest"
   ]
  },
  {
   "cell_type": "code",
   "execution_count": 8,
   "metadata": {},
   "outputs": [
    {
     "name": "stdout",
     "output_type": "stream",
     "text": [
      "Parameters currently in use:\n",
      "\n",
      "{'bootstrap': True,\n",
      " 'ccp_alpha': 0.0,\n",
      " 'criterion': 'mse',\n",
      " 'max_depth': None,\n",
      " 'max_features': 'auto',\n",
      " 'max_leaf_nodes': None,\n",
      " 'max_samples': None,\n",
      " 'min_impurity_decrease': 0.0,\n",
      " 'min_impurity_split': None,\n",
      " 'min_samples_leaf': 1,\n",
      " 'min_samples_split': 2,\n",
      " 'min_weight_fraction_leaf': 0.0,\n",
      " 'n_estimators': 100,\n",
      " 'n_jobs': -1,\n",
      " 'oob_score': False,\n",
      " 'random_state': 42,\n",
      " 'verbose': 0,\n",
      " 'warm_start': False}\n"
     ]
    }
   ],
   "source": [
    "from sklearn.ensemble import RandomForestRegressor\n",
    "\n",
    "rf = RandomForestRegressor(random_state = 42, n_jobs = -1)\n",
    "\n",
    "from pprint import pprint\n",
    "\n",
    "# Look at parameters used by our current forest\n",
    "print('Parameters currently in use:\\n')\n",
    "pprint(rf.get_params())"
   ]
  },
  {
   "cell_type": "code",
   "execution_count": 9,
   "metadata": {},
   "outputs": [
    {
     "name": "stdout",
     "output_type": "stream",
     "text": [
      "Model Performance:\n",
      "Correlation: 0.8597.\n",
      "R2: 0.7366.\n"
     ]
    },
    {
     "data": {
      "image/png": "[encoded data removed]",
      "text/plain": [
       "<Figure size 432x288 with 1 Axes>"
      ]
     },
     "metadata": {
      "needs_background": "light"
     },
     "output_type": "display_data"
    }
   ],
   "source": [
    "base_model = RandomForestRegressor(n_estimators = 1000, random_state = 42 , n_jobs = -1)\n",
    "base_model.fit(train_features, train_labels)\n",
    "evaluate(base_model, test_features, test_labels)\n",
    "visualize(base_model, test_features, test_labels)"
   ]
  },
  {
   "cell_type": "markdown",
   "metadata": {},
   "source": [
    "## Analyse de l'influence d'une extension de la base de données\n",
    "\n",
    "On étudie ici l'influence d'une augmentation d'un facteur 2 du nombre d'échantillons disponibles"
   ]
  },
  {
   "cell_type": "code",
   "execution_count": 10,
   "metadata": {},
   "outputs": [
    {
     "data": {
      "text/html": [
       "<div>\n",
       "<style scoped>\n",
       "    .dataframe tbody tr th:only-of-type {\n",
       "        vertical-align: middle;\n",
       "    }\n",
       "\n",
       "    .dataframe tbody tr th {\n",
       "        vertical-align: top;\n",
       "    }\n",
       "\n",
       "    .dataframe thead th {\n",
       "        text-align: right;\n",
       "    }\n",
       "</style>\n",
       "<table border=\"1\" class=\"dataframe\">\n",
       "  <thead>\n",
       "    <tr style=\"text-align: right;\">\n",
       "      <th></th>\n",
       "      <th>sgs_p</th>\n",
       "      <th>rho</th>\n",
       "      <th>tempe</th>\n",
       "      <th>press</th>\n",
       "      <th>rhoe</th>\n",
       "      <th>gradrho</th>\n",
       "      <th>gradt</th>\n",
       "      <th>gradp</th>\n",
       "      <th>gradroe</th>\n",
       "      <th>laprho</th>\n",
       "      <th>laprhoe</th>\n",
       "      <th>inv1</th>\n",
       "      <th>inv2</th>\n",
       "      <th>inv3</th>\n",
       "    </tr>\n",
       "  </thead>\n",
       "  <tbody>\n",
       "    <tr>\n",
       "      <th>19995</th>\n",
       "      <td>0.133481</td>\n",
       "      <td>-0.757384</td>\n",
       "      <td>-0.729132</td>\n",
       "      <td>-0.803793</td>\n",
       "      <td>-0.759231</td>\n",
       "      <td>-1.148668</td>\n",
       "      <td>-2.641110</td>\n",
       "      <td>-0.739746</td>\n",
       "      <td>-1.162829</td>\n",
       "      <td>0.689648</td>\n",
       "      <td>0.892907</td>\n",
       "      <td>0.972692</td>\n",
       "      <td>1.711237</td>\n",
       "      <td>0.743157</td>\n",
       "    </tr>\n",
       "    <tr>\n",
       "      <th>19996</th>\n",
       "      <td>0.477342</td>\n",
       "      <td>-0.739996</td>\n",
       "      <td>-0.718058</td>\n",
       "      <td>-0.770640</td>\n",
       "      <td>-0.741953</td>\n",
       "      <td>-1.139041</td>\n",
       "      <td>-2.462876</td>\n",
       "      <td>-0.748466</td>\n",
       "      <td>-1.150326</td>\n",
       "      <td>0.825850</td>\n",
       "      <td>0.917272</td>\n",
       "      <td>0.941822</td>\n",
       "      <td>1.491062</td>\n",
       "      <td>0.508390</td>\n",
       "    </tr>\n",
       "    <tr>\n",
       "      <th>19997</th>\n",
       "      <td>0.611319</td>\n",
       "      <td>-0.686858</td>\n",
       "      <td>-0.656958</td>\n",
       "      <td>-0.669635</td>\n",
       "      <td>-0.688994</td>\n",
       "      <td>-1.117478</td>\n",
       "      <td>-1.459071</td>\n",
       "      <td>-0.748346</td>\n",
       "      <td>-1.122005</td>\n",
       "      <td>0.798690</td>\n",
       "      <td>0.912581</td>\n",
       "      <td>0.877860</td>\n",
       "      <td>1.014154</td>\n",
       "      <td>0.592557</td>\n",
       "    </tr>\n",
       "    <tr>\n",
       "      <th>19998</th>\n",
       "      <td>0.597454</td>\n",
       "      <td>-0.623715</td>\n",
       "      <td>-0.555835</td>\n",
       "      <td>-0.552089</td>\n",
       "      <td>-0.625771</td>\n",
       "      <td>-1.291204</td>\n",
       "      <td>-1.067280</td>\n",
       "      <td>-0.983220</td>\n",
       "      <td>-1.287225</td>\n",
       "      <td>0.702745</td>\n",
       "      <td>0.895559</td>\n",
       "      <td>-0.938795</td>\n",
       "      <td>0.639900</td>\n",
       "      <td>0.600852</td>\n",
       "    </tr>\n",
       "    <tr>\n",
       "      <th>19999</th>\n",
       "      <td>0.466121</td>\n",
       "      <td>-0.573069</td>\n",
       "      <td>-0.443671</td>\n",
       "      <td>-0.458389</td>\n",
       "      <td>-0.574646</td>\n",
       "      <td>-1.357729</td>\n",
       "      <td>-0.946468</td>\n",
       "      <td>-1.111077</td>\n",
       "      <td>-1.349445</td>\n",
       "      <td>0.604242</td>\n",
       "      <td>0.877689</td>\n",
       "      <td>-0.990868</td>\n",
       "      <td>0.791245</td>\n",
       "      <td>0.250695</td>\n",
       "    </tr>\n",
       "  </tbody>\n",
       "</table>\n",
       "</div>"
      ],
      "text/plain": [
       "          sgs_p       rho     tempe     press      rhoe   gradrho     gradt  \\\n",
       "19995  0.133481 -0.757384 -0.729132 -0.803793 -0.759231 -1.148668 -2.641110   \n",
       "19996  0.477342 -0.739996 -0.718058 -0.770640 -0.741953 -1.139041 -2.462876   \n",
       "19997  0.611319 -0.686858 -0.656958 -0.669635 -0.688994 -1.117478 -1.459071   \n",
       "19998  0.597454 -0.623715 -0.555835 -0.552089 -0.625771 -1.291204 -1.067280   \n",
       "19999  0.466121 -0.573069 -0.443671 -0.458389 -0.574646 -1.357729 -0.946468   \n",
       "\n",
       "          gradp   gradroe    laprho   laprhoe      inv1      inv2      inv3  \n",
       "19995 -0.739746 -1.162829  0.689648  0.892907  0.972692  1.711237  0.743157  \n",
       "19996 -0.748466 -1.150326  0.825850  0.917272  0.941822  1.491062  0.508390  \n",
       "19997 -0.748346 -1.122005  0.798690  0.912581  0.877860  1.014154  0.592557  \n",
       "19998 -0.983220 -1.287225  0.702745  0.895559 -0.938795  0.639900  0.600852  \n",
       "19999 -1.111077 -1.349445  0.604242  0.877689 -0.990868  0.791245  0.250695  "
      ]
     },
     "execution_count": 10,
     "metadata": {},
     "output_type": "execute_result"
    }
   ],
   "source": [
    "# Importing the datasets\n",
    "\n",
    "\n",
    "column_names = ['sgs_p','rho','tempe','press','rhoe',\n",
    "                'gradrho', 'gradt', 'gradp','gradroe','laprho','laprhoe','inv1','inv2','inv3']\n",
    "raw_dataset_ext = pd.read_csv('data.dat', names=column_names, sep=\" \",nrows = 20000)\n",
    "\n",
    "data_ext = raw_dataset_ext.copy()\n",
    "x = data_ext.values #returns a numpy array\n",
    "x_scaled = preprocessing.scale(x)\n",
    "data_ext = pd.DataFrame(x_scaled)\n",
    "data_ext.columns = ['sgs_p','rho','tempe','press','rhoe',\n",
    "                'gradrho', 'gradt', 'gradp','gradroe','laprho','laprhoe','inv1','inv2','inv3']\n",
    "\n",
    "\n",
    "# CHeck if there are any NaN entries\n",
    "data_ext.isna().sum()\n",
    "# Drop them if any\n",
    "data_ext = data_ext.dropna()\n",
    "#Print tail to check\n",
    "data_ext.tail()\n"
   ]
  },
  {
   "cell_type": "markdown",
   "metadata": {},
   "source": [
    "### Séparation entre données d'entraînement et de test"
   ]
  },
  {
   "cell_type": "code",
   "execution_count": 11,
   "metadata": {},
   "outputs": [],
   "source": [
    "# One Hot Encoding\n",
    "features_ext = pd.get_dummies(data_ext)\n",
    "\n",
    "# Extract features and labels\n",
    "labels_ext = features_ext['sgs_p']\n",
    "features_ext = features_ext.drop('sgs_p', axis = 1)\n",
    "\n",
    "# List of features for later use\n",
    "feature_list_ext = list(features_ext.columns)\n",
    "\n",
    "# Convert to numpy arrays\n",
    "import numpy as np\n",
    "\n",
    "features_ext = np.array(features_ext)\n",
    "labels_ext = np.array(labels_ext)\n",
    "\n",
    "# Training and Testing Sets\n",
    "from sklearn.model_selection import train_test_split\n",
    "\n",
    "train_features_ext, test_features_ext, train_labels_ext, test_labels_ext = train_test_split(features_ext, labels_ext, \n",
    "                                                                            test_size = 0.25, random_state = 42)"
   ]
  },
  {
   "cell_type": "code",
   "execution_count": 12,
   "metadata": {},
   "outputs": [
    {
     "name": "stdout",
     "output_type": "stream",
     "text": [
      "Training Features Shape: (15000, 13)\n",
      "Training Labels Shape: (15000,)\n",
      "Testing Features Shape: (5000, 13)\n",
      "Testing Labels Shape: (5000,)\n"
     ]
    }
   ],
   "source": [
    "print('Training Features Shape:', train_features_ext.shape)\n",
    "print('Training Labels Shape:', train_labels_ext.shape)\n",
    "print('Testing Features Shape:', test_features_ext.shape)\n",
    "print('Testing Labels Shape:', test_labels_ext.shape)"
   ]
  },
  {
   "cell_type": "markdown",
   "metadata": {},
   "source": [
    "### Evaluation de la qualité du modèle pour la base de données étendue"
   ]
  },
  {
   "cell_type": "code",
   "execution_count": 13,
   "metadata": {},
   "outputs": [
    {
     "name": "stdout",
     "output_type": "stream",
     "text": [
      "Model Performance:\n",
      "Correlation: 0.9022.\n",
      "R2: 0.8061.\n"
     ]
    },
    {
     "data": {
      "image/png": "[encoded data removed]",
      "text/plain": [
       "<Figure size 432x288 with 1 Axes>"
      ]
     },
     "metadata": {
      "needs_background": "light"
     },
     "output_type": "display_data"
    }
   ],
   "source": [
    "rf_ext = RandomForestRegressor(n_estimators = 1000, random_state = 42,n_jobs = -1)\n",
    "rf_ext.fit(train_features_ext, train_labels_ext)\n",
    "evaluate(rf_ext, test_features_ext, test_labels_ext)\n",
    "visualize(rf_ext, test_features_ext, test_labels_ext)"
   ]
  },
  {
   "cell_type": "markdown",
   "metadata": {},
   "source": [
    "## Analyse de la pertinence des paramètres d'entrée"
   ]
  },
  {
   "cell_type": "code",
   "execution_count": 14,
   "metadata": {},
   "outputs": [
    {
     "name": "stdout",
     "output_type": "stream",
     "text": [
      "Variable: tempe                Importance: 0.19\n",
      "Variable: laprhoe              Importance: 0.16\n",
      "Variable: rho                  Importance: 0.11\n",
      "Variable: press                Importance: 0.1\n",
      "Variable: rhoe                 Importance: 0.08\n",
      "Variable: gradrho              Importance: 0.07\n",
      "Variable: gradp                Importance: 0.06\n",
      "Variable: gradroe              Importance: 0.06\n",
      "Variable: laprho               Importance: 0.06\n",
      "Variable: gradt                Importance: 0.03\n",
      "Variable: inv1                 Importance: 0.03\n",
      "Variable: inv2                 Importance: 0.03\n",
      "Variable: inv3                 Importance: 0.03\n"
     ]
    }
   ],
   "source": [
    "# Get numerical feature importances\n",
    "importances = list(rf_ext.feature_importances_)\n",
    "\n",
    "# List of tuples with variable and importance\n",
    "feature_importances = [(feature, round(importance, 2)) for feature, importance in zip(feature_list, importances)]\n",
    "\n",
    "# Sort the feature importances by most important first\n",
    "feature_importances = sorted(feature_importances, key = lambda x: x[1], reverse = True)\n",
    "\n",
    "# Print out the feature and importances \n",
    "[print('Variable: {:20} Importance: {}'.format(*pair)) for pair in feature_importances];"
   ]
  },
  {
   "cell_type": "code",
   "execution_count": 15,
   "metadata": {},
   "outputs": [
    {
     "data": {
      "image/png": "[encoded data removed]",
      "text/plain": [
       "<Figure size 432x288 with 1 Axes>"
      ]
     },
     "metadata": {},
     "output_type": "display_data"
    }
   ],
   "source": [
    "# Reset style \n",
    "plt.style.use('fivethirtyeight')\n",
    "\n",
    "# list of x locations for plotting\n",
    "x_values = list(range(len(importances)))\n",
    "\n",
    "# Make a bar chart\n",
    "plt.bar(x_values, importances, orientation = 'vertical', color = 'r', edgecolor = 'k', linewidth = 1.2)\n",
    "\n",
    "# Tick labels for x axis\n",
    "plt.xticks(x_values, feature_list, rotation='vertical')\n",
    "\n",
    "# Axis labels and title\n",
    "plt.ylabel('Importance'); plt.xlabel('Variable'); plt.title('Variable Importances');"
   ]
  },
  {
   "cell_type": "code",
   "execution_count": 16,
   "metadata": {},
   "outputs": [
    {
     "data": {
      "image/png": "[encoded data removed]",
      "text/plain": [
       "<Figure size 432x288 with 1 Axes>"
      ]
     },
     "metadata": {},
     "output_type": "display_data"
    }
   ],
   "source": [
    "# List of features sorted from most to least important\n",
    "sorted_importances = [importance[1] for importance in feature_importances]\n",
    "sorted_features = [importance[0] for importance in feature_importances]\n",
    "\n",
    "# Cumulative importances\n",
    "cumulative_importances = np.cumsum(sorted_importances)\n",
    "\n",
    "# Make a line graph\n",
    "plt.plot(x_values, cumulative_importances, 'g-')\n",
    "\n",
    "# Draw line at 95% of importance retained\n",
    "plt.hlines(y = 0.95, xmin=0, xmax=len(sorted_importances), color = 'r', linestyles = 'dashed')\n",
    "\n",
    "# Format x ticks and labels\n",
    "plt.xticks(x_values, sorted_features, rotation = 'vertical')\n",
    "\n",
    "# Axis labels and title\n",
    "plt.xlabel('Variable'); plt.ylabel('Cumulative Importance'); plt.title('Cumulative Importances');"
   ]
  },
  {
   "cell_type": "markdown",
   "metadata": {},
   "source": [
    "### Limitation du nombre de variables d'entrée\n",
    "\n",
    "Nous allons maintenant réduire le nombre de variables utilisées par le modèle à celles qui sont nécessaires pour représenter 95 % de l’importance cumulative. \n",
    "Le même nombre de variables doit être utilisé dans les ensembles de formation et d’essai."
   ]
  },
  {
   "cell_type": "code",
   "execution_count": 17,
   "metadata": {},
   "outputs": [
    {
     "name": "stdout",
     "output_type": "stream",
     "text": [
      "Number of features for 95% importance: 11\n",
      "Important train features shape: (15000, 11)\n",
      "Important test features shape: (5000, 11)\n"
     ]
    }
   ],
   "source": [
    "# Find number of features for cumulative importance of 95%\n",
    "# Add 1 because Python is zero-indexed\n",
    "print('Number of features for 95% importance:', np.where(cumulative_importances > 0.95)[0][0] + 1)\n",
    "nbf=np.where(cumulative_importances > 0.95)[0][0] + 1\n",
    "# Extract the names of the most important features\n",
    "important_feature_names = [feature[0] for feature in feature_importances[0:nbf]]\n",
    "# Find the columns of the most important features\n",
    "important_indices = [feature_list.index(feature) for feature in important_feature_names]\n",
    "\n",
    "# Create training and testing sets with only the important features\n",
    "important_train_features = train_features_ext[:, important_indices]\n",
    "important_test_features = test_features_ext[:, important_indices]\n",
    "\n",
    "# Sanity check on operations\n",
    "print('Important train features shape:', important_train_features.shape)\n",
    "print('Important test features shape:', important_test_features.shape)"
   ]
  },
  {
   "cell_type": "markdown",
   "metadata": {},
   "source": [
    "### Analyse des qualités d'un modèle limité aux variables importantes"
   ]
  },
  {
   "cell_type": "code",
   "execution_count": 18,
   "metadata": {},
   "outputs": [
    {
     "name": "stdout",
     "output_type": "stream",
     "text": [
      "Model Performance:\n",
      "Correlation: 0.8946.\n",
      "R2: 0.7944.\n"
     ]
    },
    {
     "data": {
      "image/png": "[encoded data removed]",
      "text/plain": [
       "<Figure size 432x288 with 1 Axes>"
      ]
     },
     "metadata": {},
     "output_type": "display_data"
    }
   ],
   "source": [
    "rf_imp = RandomForestRegressor(n_estimators = 1000, random_state = 42,n_jobs = -1)\n",
    "rf_imp.fit(important_train_features, train_labels_ext)\n",
    "evaluate(rf_imp, important_test_features, test_labels_ext)\n",
    "visualize(rf_imp, important_test_features, test_labels_ext)"
   ]
  },
  {
   "cell_type": "code",
   "execution_count": null,
   "metadata": {},
   "outputs": [],
   "source": []
  }
 ],
 "metadata": {
  "kernelspec": {
   "display_name": "myenv",
   "language": "python",
   "name": "myenv"
  },
  "language_info": {
   "codemirror_mode": {
    "name": "ipython",
    "version": 3
   },
   "file_extension": ".py",
   "mimetype": "text/x-python",
   "name": "python",
   "nbconvert_exporter": "python",
   "pygments_lexer": "ipython3",
   "version": "3.8.5"
  }
 },
 "nbformat": 4,
 "nbformat_minor": 2
}
