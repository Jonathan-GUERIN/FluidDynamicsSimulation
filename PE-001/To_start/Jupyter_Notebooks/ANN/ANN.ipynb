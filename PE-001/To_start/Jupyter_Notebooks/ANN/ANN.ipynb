{
 "cells": [
  {
   "cell_type": "markdown",
   "metadata": {},
   "source": [
    "# Un premier exemple de reseau de neurones\n",
    "On utilise ici un réseau de neurones pour essayer de prédire la valeur d'une grandeur appelée 'sgs_p' à partir de la connaissance d'autres grandeurs 'rho','tempe','press','rhoe','gradrho', 'gradt', 'gradp','gradroe','laprho','laprhoe','inv1','inv2','inv3' au nombre de 13.\n",
    "    \n",
    "Les analyses présentes dans cette feuille sont très inspirées du tutoriel Tensorflow suivant\n",
    "- https://www.tensorflow.org/tutorials/keras/regression\n"
   ]
  },
  {
   "cell_type": "markdown",
   "metadata": {},
   "source": [
    "### Chargement des modules nécessaires.\n",
    "#### A chaque fois que vous rencontrer un module (s'appelant module_name) qui n'est pas disponible, la commande à privilégier est:\n",
    "pip install module_name\n",
    "#### Un exemple ci-dessous. A noter qu'il faut relancer le kernel à chaque installation (arc de cercle à côté de executer)"
   ]
  },
  {
   "cell_type": "code",
   "execution_count": 1,
   "metadata": {},
   "outputs": [
    {
     "name": "stdout",
     "output_type": "stream",
     "text": [
      "Requirement already satisfied: tensorflow in /usr/local/lib/python3.8/site-packages (2.3.0)\n",
      "Requirement already satisfied: six>=1.12.0 in /usr/local/lib/python3.8/site-packages (from tensorflow) (1.15.0)\n",
      "Requirement already satisfied: gast==0.3.3 in /usr/local/lib/python3.8/site-packages (from tensorflow) (0.3.3)\n",
      "Requirement already satisfied: termcolor>=1.1.0 in /usr/local/lib/python3.8/site-packages (from tensorflow) (1.1.0)\n",
      "Requirement already satisfied: google-pasta>=0.1.8 in /usr/local/lib/python3.8/site-packages (from tensorflow) (0.2.0)\n",
      "Requirement already satisfied: tensorflow-estimator<2.4.0,>=2.3.0 in /usr/local/lib/python3.8/site-packages (from tensorflow) (2.3.0)\n",
      "Requirement already satisfied: grpcio>=1.8.6 in /usr/local/lib/python3.8/site-packages (from tensorflow) (1.31.0)\n",
      "Requirement already satisfied: opt-einsum>=2.3.2 in /usr/local/lib/python3.8/site-packages (from tensorflow) (3.3.0)\n",
      "Requirement already satisfied: protobuf>=3.9.2 in /usr/local/lib/python3.8/site-packages (from tensorflow) (3.13.0)\n",
      "Requirement already satisfied: wheel>=0.26 in /usr/local/lib/python3.8/site-packages (from tensorflow) (0.34.2)\n",
      "Requirement already satisfied: tensorboard<3,>=2.3.0 in /usr/local/lib/python3.8/site-packages (from tensorflow) (2.3.0)\n",
      "Requirement already satisfied: astunparse==1.6.3 in /usr/local/lib/python3.8/site-packages (from tensorflow) (1.6.3)\n",
      "Requirement already satisfied: absl-py>=0.7.0 in /usr/local/lib/python3.8/site-packages (from tensorflow) (0.10.0)\n",
      "Requirement already satisfied: h5py<2.11.0,>=2.10.0 in /usr/local/lib/python3.8/site-packages (from tensorflow) (2.10.0)\n",
      "Requirement already satisfied: scipy==1.4.1 in /usr/local/lib/python3.8/site-packages (from tensorflow) (1.4.1)\n",
      "Requirement already satisfied: keras-preprocessing<1.2,>=1.1.1 in /usr/local/lib/python3.8/site-packages (from tensorflow) (1.1.2)\n",
      "Requirement already satisfied: numpy<1.19.0,>=1.16.0 in /usr/local/lib/python3.8/site-packages (from tensorflow) (1.18.5)\n",
      "Requirement already satisfied: wrapt>=1.11.1 in /usr/local/lib/python3.8/site-packages (from tensorflow) (1.12.1)\n",
      "Requirement already satisfied: setuptools in /usr/local/lib/python3.8/site-packages (from protobuf>=3.9.2->tensorflow) (49.2.0)\n",
      "Requirement already satisfied: tensorboard-plugin-wit>=1.6.0 in /usr/local/lib/python3.8/site-packages (from tensorboard<3,>=2.3.0->tensorflow) (1.7.0)\n",
      "Requirement already satisfied: google-auth<2,>=1.6.3 in /usr/local/lib/python3.8/site-packages (from tensorboard<3,>=2.3.0->tensorflow) (1.20.1)\n",
      "Requirement already satisfied: markdown>=2.6.8 in /usr/local/lib/python3.8/site-packages (from tensorboard<3,>=2.3.0->tensorflow) (3.2.2)\n",
      "Requirement already satisfied: google-auth-oauthlib<0.5,>=0.4.1 in /usr/local/lib/python3.8/site-packages (from tensorboard<3,>=2.3.0->tensorflow) (0.4.1)\n",
      "Requirement already satisfied: requests<3,>=2.21.0 in /usr/local/lib/python3.8/site-packages (from tensorboard<3,>=2.3.0->tensorflow) (2.24.0)\n",
      "Requirement already satisfied: werkzeug>=0.11.15 in /usr/local/lib/python3.8/site-packages (from tensorboard<3,>=2.3.0->tensorflow) (1.0.1)\n",
      "Requirement already satisfied: rsa<5,>=3.1.4; python_version >= \"3.5\" in /usr/local/lib/python3.8/site-packages (from google-auth<2,>=1.6.3->tensorboard<3,>=2.3.0->tensorflow) (4.6)\n",
      "Requirement already satisfied: cachetools<5.0,>=2.0.0 in /usr/local/lib/python3.8/site-packages (from google-auth<2,>=1.6.3->tensorboard<3,>=2.3.0->tensorflow) (4.1.1)\n",
      "Requirement already satisfied: pyasn1-modules>=0.2.1 in /usr/local/lib/python3.8/site-packages (from google-auth<2,>=1.6.3->tensorboard<3,>=2.3.0->tensorflow) (0.2.8)\n",
      "Requirement already satisfied: requests-oauthlib>=0.7.0 in /usr/local/lib/python3.8/site-packages (from google-auth-oauthlib<0.5,>=0.4.1->tensorboard<3,>=2.3.0->tensorflow) (1.3.0)\n",
      "Requirement already satisfied: idna<3,>=2.5 in /usr/local/lib/python3.8/site-packages (from requests<3,>=2.21.0->tensorboard<3,>=2.3.0->tensorflow) (2.10)\n",
      "Requirement already satisfied: urllib3!=1.25.0,!=1.25.1,<1.26,>=1.21.1 in /usr/local/lib/python3.8/site-packages (from requests<3,>=2.21.0->tensorboard<3,>=2.3.0->tensorflow) (1.25.10)\n",
      "Requirement already satisfied: certifi>=2017.4.17 in /usr/local/lib/python3.8/site-packages (from requests<3,>=2.21.0->tensorboard<3,>=2.3.0->tensorflow) (2020.6.20)\n",
      "Requirement already satisfied: chardet<4,>=3.0.2 in /usr/local/lib/python3.8/site-packages (from requests<3,>=2.21.0->tensorboard<3,>=2.3.0->tensorflow) (3.0.4)\n",
      "Requirement already satisfied: pyasn1>=0.1.3 in /usr/local/lib/python3.8/site-packages (from rsa<5,>=3.1.4; python_version >= \"3.5\"->google-auth<2,>=1.6.3->tensorboard<3,>=2.3.0->tensorflow) (0.4.8)\n",
      "Requirement already satisfied: oauthlib>=3.0.0 in /usr/local/lib/python3.8/site-packages (from requests-oauthlib>=0.7.0->google-auth-oauthlib<0.5,>=0.4.1->tensorboard<3,>=2.3.0->tensorflow) (3.1.0)\n",
      "Note: you may need to restart the kernel to use updated packages.\n"
     ]
    }
   ],
   "source": [
    "pip install tensorflow"
   ]
  },
  {
   "cell_type": "code",
   "execution_count": 2,
   "metadata": {},
   "outputs": [
    {
     "name": "stdout",
     "output_type": "stream",
     "text": [
      "2.3.0\n"
     ]
    }
   ],
   "source": [
    "from __future__ import absolute_import, division, print_function, unicode_literals\n",
    "\n",
    "import pathlib\n",
    "import matplotlib.pyplot as plt\n",
    "import pandas as pd\n",
    "import seaborn as sns\n",
    "import numpy as np\n",
    "import sys\n",
    "import datetime, os\n",
    "from sklearn import metrics\n",
    "from sklearn import preprocessing\n",
    "\n",
    "\n",
    "import tensorflow as tf\n",
    "from tensorflow import keras\n",
    "from tensorflow.keras import layers\n",
    "\n",
    "print(tf.__version__)"
   ]
  },
  {
   "cell_type": "markdown",
   "metadata": {},
   "source": [
    "### Load the data"
   ]
  },
  {
   "cell_type": "code",
   "execution_count": 3,
   "metadata": {},
   "outputs": [
    {
     "data": {
      "text/html": [
       "<div>\n",
       "<style scoped>\n",
       "    .dataframe tbody tr th:only-of-type {\n",
       "        vertical-align: middle;\n",
       "    }\n",
       "\n",
       "    .dataframe tbody tr th {\n",
       "        vertical-align: top;\n",
       "    }\n",
       "\n",
       "    .dataframe thead th {\n",
       "        text-align: right;\n",
       "    }\n",
       "</style>\n",
       "<table border=\"1\" class=\"dataframe\">\n",
       "  <thead>\n",
       "    <tr style=\"text-align: right;\">\n",
       "      <th></th>\n",
       "      <th>sgs_p</th>\n",
       "      <th>rho</th>\n",
       "      <th>tempe</th>\n",
       "      <th>press</th>\n",
       "      <th>rhoe</th>\n",
       "      <th>gradrho</th>\n",
       "      <th>gradt</th>\n",
       "      <th>gradp</th>\n",
       "      <th>gradroe</th>\n",
       "      <th>laprho</th>\n",
       "      <th>laprhoe</th>\n",
       "      <th>inv1</th>\n",
       "      <th>inv2</th>\n",
       "      <th>inv3</th>\n",
       "    </tr>\n",
       "  </thead>\n",
       "  <tbody>\n",
       "    <tr>\n",
       "      <th>9995</th>\n",
       "      <td>2062.674369</td>\n",
       "      <td>214.186243</td>\n",
       "      <td>603.039587</td>\n",
       "      <td>807455.791561</td>\n",
       "      <td>1.024755e+08</td>\n",
       "      <td>1.573469</td>\n",
       "      <td>0.255108</td>\n",
       "      <td>4.880774</td>\n",
       "      <td>7.257374</td>\n",
       "      <td>0.812712</td>\n",
       "      <td>6.506697</td>\n",
       "      <td>-7.325871</td>\n",
       "      <td>-1.488997</td>\n",
       "      <td>2.215375</td>\n",
       "    </tr>\n",
       "    <tr>\n",
       "      <th>9996</th>\n",
       "      <td>3485.668908</td>\n",
       "      <td>228.788276</td>\n",
       "      <td>603.776988</td>\n",
       "      <td>835946.474500</td>\n",
       "      <td>1.095309e+08</td>\n",
       "      <td>1.633268</td>\n",
       "      <td>0.304959</td>\n",
       "      <td>4.904232</td>\n",
       "      <td>7.317506</td>\n",
       "      <td>0.313785</td>\n",
       "      <td>6.006867</td>\n",
       "      <td>7.098354</td>\n",
       "      <td>-1.637823</td>\n",
       "      <td>2.394515</td>\n",
       "    </tr>\n",
       "    <tr>\n",
       "      <th>9997</th>\n",
       "      <td>-224.301228</td>\n",
       "      <td>248.937361</td>\n",
       "      <td>604.768929</td>\n",
       "      <td>871444.938809</td>\n",
       "      <td>1.192818e+08</td>\n",
       "      <td>1.626778</td>\n",
       "      <td>0.243557</td>\n",
       "      <td>4.842251</td>\n",
       "      <td>7.310843</td>\n",
       "      <td>-0.905359</td>\n",
       "      <td>-6.593516</td>\n",
       "      <td>-6.848084</td>\n",
       "      <td>-1.569881</td>\n",
       "      <td>2.206274</td>\n",
       "    </tr>\n",
       "    <tr>\n",
       "      <th>9998</th>\n",
       "      <td>-5695.295152</td>\n",
       "      <td>270.430300</td>\n",
       "      <td>605.641321</td>\n",
       "      <td>904173.625667</td>\n",
       "      <td>1.296643e+08</td>\n",
       "      <td>1.588239</td>\n",
       "      <td>0.111388</td>\n",
       "      <td>4.736355</td>\n",
       "      <td>7.271386</td>\n",
       "      <td>-1.247304</td>\n",
       "      <td>-6.934520</td>\n",
       "      <td>7.189285</td>\n",
       "      <td>-1.362889</td>\n",
       "      <td>1.808459</td>\n",
       "    </tr>\n",
       "    <tr>\n",
       "      <th>9999</th>\n",
       "      <td>-10254.514792</td>\n",
       "      <td>290.611690</td>\n",
       "      <td>606.235810</td>\n",
       "      <td>930064.134966</td>\n",
       "      <td>1.393697e+08</td>\n",
       "      <td>1.589404</td>\n",
       "      <td>0.016541</td>\n",
       "      <td>4.666225</td>\n",
       "      <td>7.271338</td>\n",
       "      <td>-1.334996</td>\n",
       "      <td>-7.020500</td>\n",
       "      <td>7.261982</td>\n",
       "      <td>-1.067305</td>\n",
       "      <td>1.228701</td>\n",
       "    </tr>\n",
       "  </tbody>\n",
       "</table>\n",
       "</div>"
      ],
      "text/plain": [
       "             sgs_p         rho       tempe          press          rhoe  \\\n",
       "9995   2062.674369  214.186243  603.039587  807455.791561  1.024755e+08   \n",
       "9996   3485.668908  228.788276  603.776988  835946.474500  1.095309e+08   \n",
       "9997   -224.301228  248.937361  604.768929  871444.938809  1.192818e+08   \n",
       "9998  -5695.295152  270.430300  605.641321  904173.625667  1.296643e+08   \n",
       "9999 -10254.514792  290.611690  606.235810  930064.134966  1.393697e+08   \n",
       "\n",
       "       gradrho     gradt     gradp   gradroe    laprho   laprhoe      inv1  \\\n",
       "9995  1.573469  0.255108  4.880774  7.257374  0.812712  6.506697 -7.325871   \n",
       "9996  1.633268  0.304959  4.904232  7.317506  0.313785  6.006867  7.098354   \n",
       "9997  1.626778  0.243557  4.842251  7.310843 -0.905359 -6.593516 -6.848084   \n",
       "9998  1.588239  0.111388  4.736355  7.271386 -1.247304 -6.934520  7.189285   \n",
       "9999  1.589404  0.016541  4.666225  7.271338 -1.334996 -7.020500  7.261982   \n",
       "\n",
       "          inv2      inv3  \n",
       "9995 -1.488997  2.215375  \n",
       "9996 -1.637823  2.394515  \n",
       "9997 -1.569881  2.206274  \n",
       "9998 -1.362889  1.808459  \n",
       "9999 -1.067305  1.228701  "
      ]
     },
     "execution_count": 3,
     "metadata": {},
     "output_type": "execute_result"
    }
   ],
   "source": [
    "column_names = ['sgs_p','rho','tempe','press','rhoe',\n",
    "                'gradrho', 'gradt', 'gradp','gradroe','laprho','laprhoe','inv1','inv2','inv3']\n",
    "raw_dataset = pd.read_csv('data.dat', names=column_names,\n",
    "                      sep=\" \",nrows = 10000)\n",
    "\n",
    "data = raw_dataset.copy()\n",
    "\n",
    "data.columns = ['sgs_p','rho','tempe','press','rhoe',\n",
    "                'gradrho', 'gradt', 'gradp','gradroe','laprho','laprhoe','inv1','inv2','inv3']\n",
    "\n",
    "data.tail()"
   ]
  },
  {
   "cell_type": "markdown",
   "metadata": {},
   "source": [
    "### Normalization of input data"
   ]
  },
  {
   "cell_type": "code",
   "execution_count": 4,
   "metadata": {},
   "outputs": [
    {
     "data": {
      "text/html": [
       "<div>\n",
       "<style scoped>\n",
       "    .dataframe tbody tr th:only-of-type {\n",
       "        vertical-align: middle;\n",
       "    }\n",
       "\n",
       "    .dataframe tbody tr th {\n",
       "        vertical-align: top;\n",
       "    }\n",
       "\n",
       "    .dataframe thead th {\n",
       "        text-align: right;\n",
       "    }\n",
       "</style>\n",
       "<table border=\"1\" class=\"dataframe\">\n",
       "  <thead>\n",
       "    <tr style=\"text-align: right;\">\n",
       "      <th></th>\n",
       "      <th>sgs_p</th>\n",
       "      <th>rho</th>\n",
       "      <th>tempe</th>\n",
       "      <th>press</th>\n",
       "      <th>rhoe</th>\n",
       "      <th>gradrho</th>\n",
       "      <th>gradt</th>\n",
       "      <th>gradp</th>\n",
       "      <th>gradroe</th>\n",
       "      <th>laprho</th>\n",
       "      <th>laprhoe</th>\n",
       "      <th>inv1</th>\n",
       "      <th>inv2</th>\n",
       "      <th>inv3</th>\n",
       "    </tr>\n",
       "  </thead>\n",
       "  <tbody>\n",
       "    <tr>\n",
       "      <th>9995</th>\n",
       "      <td>0.097784</td>\n",
       "      <td>-0.716074</td>\n",
       "      <td>-0.942000</td>\n",
       "      <td>-0.748789</td>\n",
       "      <td>-0.717837</td>\n",
       "      <td>0.494740</td>\n",
       "      <td>1.081111</td>\n",
       "      <td>1.262590</td>\n",
       "      <td>0.497256</td>\n",
       "      <td>0.597887</td>\n",
       "      <td>0.863976</td>\n",
       "      <td>-1.020403</td>\n",
       "      <td>-0.973945</td>\n",
       "      <td>1.430293</td>\n",
       "    </tr>\n",
       "    <tr>\n",
       "      <th>9996</th>\n",
       "      <td>0.185565</td>\n",
       "      <td>-0.591395</td>\n",
       "      <td>-0.719340</td>\n",
       "      <td>-0.523976</td>\n",
       "      <td>-0.592961</td>\n",
       "      <td>0.661310</td>\n",
       "      <td>1.243676</td>\n",
       "      <td>1.340896</td>\n",
       "      <td>0.664708</td>\n",
       "      <td>0.165694</td>\n",
       "      <td>0.789254</td>\n",
       "      <td>0.796361</td>\n",
       "      <td>-1.130888</td>\n",
       "      <td>1.555410</td>\n",
       "    </tr>\n",
       "    <tr>\n",
       "      <th>9997</th>\n",
       "      <td>-0.043294</td>\n",
       "      <td>-0.419354</td>\n",
       "      <td>-0.419821</td>\n",
       "      <td>-0.243867</td>\n",
       "      <td>-0.420377</td>\n",
       "      <td>0.643234</td>\n",
       "      <td>1.043444</td>\n",
       "      <td>1.133994</td>\n",
       "      <td>0.646151</td>\n",
       "      <td>-0.890383</td>\n",
       "      <td>-1.094420</td>\n",
       "      <td>-0.960224</td>\n",
       "      <td>-1.059240</td>\n",
       "      <td>1.423937</td>\n",
       "    </tr>\n",
       "    <tr>\n",
       "      <th>9998</th>\n",
       "      <td>-0.380787</td>\n",
       "      <td>-0.235838</td>\n",
       "      <td>-0.156400</td>\n",
       "      <td>0.014386</td>\n",
       "      <td>-0.236615</td>\n",
       "      <td>0.535882</td>\n",
       "      <td>0.612443</td>\n",
       "      <td>0.780502</td>\n",
       "      <td>0.536276</td>\n",
       "      <td>-1.186591</td>\n",
       "      <td>-1.145398</td>\n",
       "      <td>0.807814</td>\n",
       "      <td>-0.840958</td>\n",
       "      <td>1.146090</td>\n",
       "    </tr>\n",
       "    <tr>\n",
       "      <th>9999</th>\n",
       "      <td>-0.662035</td>\n",
       "      <td>-0.063521</td>\n",
       "      <td>0.023107</td>\n",
       "      <td>0.218682</td>\n",
       "      <td>-0.064835</td>\n",
       "      <td>0.539126</td>\n",
       "      <td>0.303150</td>\n",
       "      <td>0.546398</td>\n",
       "      <td>0.536142</td>\n",
       "      <td>-1.262554</td>\n",
       "      <td>-1.158252</td>\n",
       "      <td>0.816970</td>\n",
       "      <td>-0.529252</td>\n",
       "      <td>0.741168</td>\n",
       "    </tr>\n",
       "  </tbody>\n",
       "</table>\n",
       "</div>"
      ],
      "text/plain": [
       "         sgs_p       rho     tempe     press      rhoe   gradrho     gradt  \\\n",
       "9995  0.097784 -0.716074 -0.942000 -0.748789 -0.717837  0.494740  1.081111   \n",
       "9996  0.185565 -0.591395 -0.719340 -0.523976 -0.592961  0.661310  1.243676   \n",
       "9997 -0.043294 -0.419354 -0.419821 -0.243867 -0.420377  0.643234  1.043444   \n",
       "9998 -0.380787 -0.235838 -0.156400  0.014386 -0.236615  0.535882  0.612443   \n",
       "9999 -0.662035 -0.063521  0.023107  0.218682 -0.064835  0.539126  0.303150   \n",
       "\n",
       "         gradp   gradroe    laprho   laprhoe      inv1      inv2      inv3  \n",
       "9995  1.262590  0.497256  0.597887  0.863976 -1.020403 -0.973945  1.430293  \n",
       "9996  1.340896  0.664708  0.165694  0.789254  0.796361 -1.130888  1.555410  \n",
       "9997  1.133994  0.646151 -0.890383 -1.094420 -0.960224 -1.059240  1.423937  \n",
       "9998  0.780502  0.536276 -1.186591 -1.145398  0.807814 -0.840958  1.146090  \n",
       "9999  0.546398  0.536142 -1.262554 -1.158252  0.816970 -0.529252  0.741168  "
      ]
     },
     "execution_count": 4,
     "metadata": {},
     "output_type": "execute_result"
    }
   ],
   "source": [
    "x = data.values #returns a numpy array\n",
    "#scaler = preprocessing.MinMaxScaler()\n",
    "scaler = preprocessing.StandardScaler()\n",
    "x_scaled = scaler.fit_transform(x)\n",
    "\n",
    "                          \n",
    "data = pd.DataFrame(x_scaled)\n",
    "data.columns = ['sgs_p','rho','tempe','press','rhoe',\n",
    "                'gradrho', 'gradt', 'gradp','gradroe','laprho','laprhoe','inv1','inv2','inv3']\n",
    "data.tail()"
   ]
  },
  {
   "cell_type": "markdown",
   "metadata": {},
   "source": [
    "# Split the data into train and test\n",
    "\n",
    "Now split the dataset into a training set and a test set.\n",
    "\n",
    "We will use the test set in the final evaluation of our model.\n"
   ]
  },
  {
   "cell_type": "code",
   "execution_count": 5,
   "metadata": {},
   "outputs": [
    {
     "data": {
      "text/html": [
       "<div>\n",
       "<style scoped>\n",
       "    .dataframe tbody tr th:only-of-type {\n",
       "        vertical-align: middle;\n",
       "    }\n",
       "\n",
       "    .dataframe tbody tr th {\n",
       "        vertical-align: top;\n",
       "    }\n",
       "\n",
       "    .dataframe thead th {\n",
       "        text-align: right;\n",
       "    }\n",
       "</style>\n",
       "<table border=\"1\" class=\"dataframe\">\n",
       "  <thead>\n",
       "    <tr style=\"text-align: right;\">\n",
       "      <th></th>\n",
       "      <th>sgs_p</th>\n",
       "      <th>rho</th>\n",
       "      <th>tempe</th>\n",
       "      <th>press</th>\n",
       "      <th>rhoe</th>\n",
       "      <th>gradrho</th>\n",
       "      <th>gradt</th>\n",
       "      <th>gradp</th>\n",
       "      <th>gradroe</th>\n",
       "      <th>laprho</th>\n",
       "      <th>laprhoe</th>\n",
       "      <th>inv1</th>\n",
       "      <th>inv2</th>\n",
       "      <th>inv3</th>\n",
       "    </tr>\n",
       "  </thead>\n",
       "  <tbody>\n",
       "    <tr>\n",
       "      <th>9969</th>\n",
       "      <td>-0.129788</td>\n",
       "      <td>-0.076584</td>\n",
       "      <td>-0.170003</td>\n",
       "      <td>0.179373</td>\n",
       "      <td>-0.077300</td>\n",
       "      <td>0.284060</td>\n",
       "      <td>0.127875</td>\n",
       "      <td>0.253593</td>\n",
       "      <td>0.281528</td>\n",
       "      <td>0.450814</td>\n",
       "      <td>0.836230</td>\n",
       "      <td>-1.194332</td>\n",
       "      <td>-0.828907</td>\n",
       "      <td>1.146485</td>\n",
       "    </tr>\n",
       "    <tr>\n",
       "      <th>9972</th>\n",
       "      <td>1.296888</td>\n",
       "      <td>-0.469922</td>\n",
       "      <td>-0.639007</td>\n",
       "      <td>-0.337086</td>\n",
       "      <td>-0.470136</td>\n",
       "      <td>-0.293324</td>\n",
       "      <td>-0.372771</td>\n",
       "      <td>-0.029512</td>\n",
       "      <td>-0.300232</td>\n",
       "      <td>1.362840</td>\n",
       "      <td>0.994449</td>\n",
       "      <td>0.991752</td>\n",
       "      <td>-0.866093</td>\n",
       "      <td>-0.175755</td>\n",
       "    </tr>\n",
       "    <tr>\n",
       "      <th>9982</th>\n",
       "      <td>0.116220</td>\n",
       "      <td>0.629836</td>\n",
       "      <td>0.704827</td>\n",
       "      <td>0.806383</td>\n",
       "      <td>0.634457</td>\n",
       "      <td>-0.003949</td>\n",
       "      <td>-0.606656</td>\n",
       "      <td>-0.983241</td>\n",
       "      <td>-0.007691</td>\n",
       "      <td>-1.098118</td>\n",
       "      <td>-1.130586</td>\n",
       "      <td>0.835856</td>\n",
       "      <td>0.629626</td>\n",
       "      <td>-1.037413</td>\n",
       "    </tr>\n",
       "    <tr>\n",
       "      <th>9985</th>\n",
       "      <td>-0.295429</td>\n",
       "      <td>-0.047623</td>\n",
       "      <td>-0.056219</td>\n",
       "      <td>0.222719</td>\n",
       "      <td>-0.046196</td>\n",
       "      <td>0.855086</td>\n",
       "      <td>0.843714</td>\n",
       "      <td>0.909378</td>\n",
       "      <td>0.857671</td>\n",
       "      <td>0.323513</td>\n",
       "      <td>0.818159</td>\n",
       "      <td>0.873551</td>\n",
       "      <td>-0.236120</td>\n",
       "      <td>0.582750</td>\n",
       "    </tr>\n",
       "    <tr>\n",
       "      <th>9995</th>\n",
       "      <td>0.097784</td>\n",
       "      <td>-0.716074</td>\n",
       "      <td>-0.942000</td>\n",
       "      <td>-0.748789</td>\n",
       "      <td>-0.717837</td>\n",
       "      <td>0.494740</td>\n",
       "      <td>1.081111</td>\n",
       "      <td>1.262590</td>\n",
       "      <td>0.497256</td>\n",
       "      <td>0.597887</td>\n",
       "      <td>0.863976</td>\n",
       "      <td>-1.020403</td>\n",
       "      <td>-0.973945</td>\n",
       "      <td>1.430293</td>\n",
       "    </tr>\n",
       "  </tbody>\n",
       "</table>\n",
       "</div>"
      ],
      "text/plain": [
       "         sgs_p       rho     tempe     press      rhoe   gradrho     gradt  \\\n",
       "9969 -0.129788 -0.076584 -0.170003  0.179373 -0.077300  0.284060  0.127875   \n",
       "9972  1.296888 -0.469922 -0.639007 -0.337086 -0.470136 -0.293324 -0.372771   \n",
       "9982  0.116220  0.629836  0.704827  0.806383  0.634457 -0.003949 -0.606656   \n",
       "9985 -0.295429 -0.047623 -0.056219  0.222719 -0.046196  0.855086  0.843714   \n",
       "9995  0.097784 -0.716074 -0.942000 -0.748789 -0.717837  0.494740  1.081111   \n",
       "\n",
       "         gradp   gradroe    laprho   laprhoe      inv1      inv2      inv3  \n",
       "9969  0.253593  0.281528  0.450814  0.836230 -1.194332 -0.828907  1.146485  \n",
       "9972 -0.029512 -0.300232  1.362840  0.994449  0.991752 -0.866093 -0.175755  \n",
       "9982 -0.983241 -0.007691 -1.098118 -1.130586  0.835856  0.629626 -1.037413  \n",
       "9985  0.909378  0.857671  0.323513  0.818159  0.873551 -0.236120  0.582750  \n",
       "9995  1.262590  0.497256  0.597887  0.863976 -1.020403 -0.973945  1.430293  "
      ]
     },
     "execution_count": 5,
     "metadata": {},
     "output_type": "execute_result"
    }
   ],
   "source": [
    "train_dataset = data.sample(frac=0.75,random_state=0)\n",
    "test_dataset = data.drop(train_dataset.index)\n",
    "test_dataset.tail()"
   ]
  },
  {
   "cell_type": "markdown",
   "metadata": {},
   "source": [
    "### Build the model\n",
    "\n",
    "Let's build our model. Here, we'll use a Sequential model with one densely connected hidden layer, and an output layer that returns a single, continuous value. The model building steps are wrapped in a function, build_model.\n"
   ]
  },
  {
   "cell_type": "code",
   "execution_count": 6,
   "metadata": {},
   "outputs": [
    {
     "data": {
      "text/plain": [
       "9969   -0.129788\n",
       "9972    1.296888\n",
       "9982    0.116220\n",
       "9985   -0.295429\n",
       "9995    0.097784\n",
       "Name: sgs_p, dtype: float64"
      ]
     },
     "execution_count": 6,
     "metadata": {},
     "output_type": "execute_result"
    }
   ],
   "source": [
    "train_labels = train_dataset.pop('sgs_p')\n",
    "test_labels = test_dataset.pop('sgs_p')\n",
    "test_labels.tail()"
   ]
  },
  {
   "cell_type": "code",
   "execution_count": 7,
   "metadata": {},
   "outputs": [],
   "source": [
    "train_labels = np.asarray(train_labels)\n",
    "test_labels = np.asarray(test_labels)\n",
    "train_dataset = np.asarray(train_dataset)\n",
    "test_dataset = np.asarray(test_dataset)"
   ]
  },
  {
   "cell_type": "markdown",
   "metadata": {},
   "source": [
    "### Here we construct a very simple network constituted of 3 layers\n",
    "The first layer has 10 neurons, the second one has 10 neurons and the last one only one since we want to predict a single value (sgs_p)"
   ]
  },
  {
   "cell_type": "code",
   "execution_count": 8,
   "metadata": {},
   "outputs": [],
   "source": [
    "\n",
    "\n",
    "def build_model():\n",
    "    from tensorflow import keras\n",
    "    from tensorflow.keras import layers\n",
    "    from tensorflow.keras.layers import LeakyReLU\n",
    "\n",
    "    model = keras.Sequential([\n",
    "    layers.Dense(10, use_bias=True,activation='relu', input_shape=[train_dataset.shape[1]]),    \n",
    "    layers.Dense(10, use_bias=True,activation='relu'),     \n",
    "    layers.Dense(1, use_bias=True,activation='linear'),\n",
    "    ])\n",
    "\n",
    "    return model"
   ]
  },
  {
   "cell_type": "code",
   "execution_count": 9,
   "metadata": {},
   "outputs": [
    {
     "name": "stdout",
     "output_type": "stream",
     "text": [
      "Model: \"sequential\"\n",
      "_________________________________________________________________\n",
      "Layer (type)                 Output Shape              Param #   \n",
      "=================================================================\n",
      "dense (Dense)                (None, 10)                140       \n",
      "_________________________________________________________________\n",
      "dense_1 (Dense)              (None, 10)                110       \n",
      "_________________________________________________________________\n",
      "dense_2 (Dense)              (None, 1)                 11        \n",
      "=================================================================\n",
      "Total params: 261\n",
      "Trainable params: 261\n",
      "Non-trainable params: 0\n",
      "_________________________________________________________________\n"
     ]
    }
   ],
   "source": [
    "model = build_model()\n",
    "model.summary()"
   ]
  },
  {
   "cell_type": "markdown",
   "metadata": {},
   "source": [
    "### Define training routine for the model\n",
    "\n",
    "Train the model for 100 epochs (unless it does not improve any more), and record the training and validation accuracy "
   ]
  },
  {
   "cell_type": "code",
   "execution_count": 10,
   "metadata": {},
   "outputs": [],
   "source": [
    "def train_model():\n",
    "  \n",
    "    \n",
    "  optimizer = tf.optimizers.Adam() #\n",
    "\n",
    "  model.compile(loss='mse',\n",
    "                optimizer=optimizer,\n",
    "                metrics=['mse'])\n",
    "\n",
    "# The patience parameter is the amount of epochs to check for improvement\n",
    "  early_stop = keras.callbacks.EarlyStopping(monitor='val_mse',min_delta=1e-17, patience=10)\n",
    "  logdir = os.path.join(\"logs\", datetime.datetime.now().strftime(\"%Y%m%d-%H%M%S\"))\n",
    "  tensorboard_callback = tf.keras.callbacks.TensorBoard(logdir, histogram_freq=1,profile_batch=0)\n",
    "\n",
    "\n",
    "  model.fit(train_dataset, \n",
    "            train_labels, \n",
    "            epochs=100,\n",
    "            batch_size=1000,\n",
    "            validation_split = 0.5, \n",
    "            verbose=0, \n",
    "            callbacks=[early_stop,tensorboard_callback])"
   ]
  },
  {
   "cell_type": "code",
   "execution_count": 11,
   "metadata": {
    "scrolled": true
   },
   "outputs": [
    {
     "data": {
      "text/plain": [
       "array([[-0.15903726],\n",
       "       [-0.03456995],\n",
       "       [-0.0567122 ],\n",
       "       [-0.16241279],\n",
       "       [ 0.10812283],\n",
       "       [-0.71082306],\n",
       "       [ 0.8408665 ],\n",
       "       [-0.03226262],\n",
       "       [-0.05729589],\n",
       "       [ 0.15562636]], dtype=float32)"
      ]
     },
     "execution_count": 11,
     "metadata": {},
     "output_type": "execute_result"
    }
   ],
   "source": [
    "#Check that everything is fine\n",
    "example_batch = train_dataset[:10]\n",
    "example_result = model.predict(example_batch)\n",
    "example_result"
   ]
  },
  {
   "cell_type": "markdown",
   "metadata": {},
   "source": [
    "### Train the model and monitor"
   ]
  },
  {
   "cell_type": "code",
   "execution_count": 12,
   "metadata": {},
   "outputs": [],
   "source": [
    "# Load the TensorBoard notebook extension to follow ANN training\n",
    "%reload_ext tensorboard"
   ]
  },
  {
   "cell_type": "markdown",
   "metadata": {},
   "source": [
    "#### Il se peut que tensorboard ne soit pas disponible. Dans ce cas il faudra l'installer à l'extérieur de jupyter\n",
    "#### Sur mac: brew install tensorboard\n",
    "#### Sur Linux: apt-get install tensorboard\n",
    "Il faudra probablement aussi taper dans un terminal (à l'extérieur de jupyter donc) la commande 'tensorboard --logdir logs' pour lancer tensorboard"
   ]
  },
  {
   "cell_type": "code",
   "execution_count": 13,
   "metadata": {},
   "outputs": [
    {
     "data": {
      "text/plain": [
       "Reusing TensorBoard on port 6007 (pid 5363), started 0:03:24 ago. (Use '!kill 5363' to kill it.)"
      ]
     },
     "metadata": {},
     "output_type": "display_data"
    },
    {
     "data": {
      "text/html": [
       "\n",
       "      <iframe id=\"tensorboard-frame-985de7c20723f72e\" width=\"100%\" height=\"800\" frameborder=\"0\">\n",
       "      </iframe>\n",
       "      <script>\n",
       "        (function() {\n",
       "          const frame = document.getElementById(\"tensorboard-frame-985de7c20723f72e\");\n",
       "          const url = new URL(\"/\", window.location);\n",
       "          const port = 6007;\n",
       "          if (port) {\n",
       "            url.port = port;\n",
       "          }\n",
       "          frame.src = url;\n",
       "        })();\n",
       "      </script>\n",
       "    "
      ],
      "text/plain": [
       "<IPython.core.display.HTML object>"
      ]
     },
     "metadata": {},
     "output_type": "display_data"
    }
   ],
   "source": [
    "#Check results using tensorboard\n",
    "%tensorboard --logdir logs\n",
    "#Train model\n",
    "train_model()"
   ]
  },
  {
   "cell_type": "markdown",
   "metadata": {},
   "source": [
    "### Make predictions\n",
    "\n",
    "Finally, predict SGS values using data in the testing set:"
   ]
  },
  {
   "cell_type": "markdown",
   "metadata": {},
   "source": [
    "#### Model evaluation function"
   ]
  },
  {
   "cell_type": "code",
   "execution_count": 14,
   "metadata": {},
   "outputs": [],
   "source": [
    "def evaluate(model, test_features, test_labels):\n",
    "    predictions = model.predict(test_features).flatten()\n",
    "    #R2\n",
    "    R2=metrics.r2_score(test_labels, predictions)\n",
    "    #Correlation entre predictions et vraies donnees\n",
    "    Correl=np.corrcoef(test_labels, predictions)[0, 1]\n",
    "    print('Model Performance:')\n",
    "    print('Correlation: {:0.4f}.'.format(Correl))\n",
    "    print('R2: {:0.4f}.'.format(R2))"
   ]
  },
  {
   "cell_type": "markdown",
   "metadata": {},
   "source": [
    "#### Visualization of model predictions function"
   ]
  },
  {
   "cell_type": "code",
   "execution_count": 15,
   "metadata": {},
   "outputs": [],
   "source": [
    "def visualize(model, test_features, test_labels):\n",
    "    X_test=test_labels\n",
    "    Y_pred=model.predict(test_features).flatten()\n",
    "    Y_test=test_labels\n",
    "    plt.scatter(Y_test,Y_pred, color = 'red',marker=\".\")\n",
    "    plt.scatter(Y_test,Y_test, color = 'black',marker=\".\")\n",
    "    plt.title('ANN Regression Results')\n",
    "    plt.xlabel('sgs_exact')\n",
    "    plt.ylabel('sgs_model')\n",
    "    plt.show()"
   ]
  },
  {
   "cell_type": "code",
   "execution_count": 16,
   "metadata": {},
   "outputs": [
    {
     "name": "stdout",
     "output_type": "stream",
     "text": [
      "Model Performance:\n",
      "Correlation: 0.5672.\n",
      "R2: 0.3066.\n"
     ]
    },
    {
     "data": {
      "image/png": "[encoded data removed]",
      "text/plain": [
       "<Figure size 432x288 with 1 Axes>"
      ]
     },
     "metadata": {
      "needs_background": "light"
     },
     "output_type": "display_data"
    }
   ],
   "source": [
    "evaluate(model, test_dataset, test_labels)\n",
    "visualize(model, test_dataset, test_labels)"
   ]
  },
  {
   "cell_type": "code",
   "execution_count": null,
   "metadata": {},
   "outputs": [],
   "source": []
  }
 ],
 "metadata": {
  "celltoolbar": "Éditer les Méta-Données",
  "kernelspec": {
   "display_name": "myenv",
   "language": "python",
   "name": "myenv"
  },
  "language_info": {
   "codemirror_mode": {
    "name": "ipython",
    "version": 3
   },
   "file_extension": ".py",
   "mimetype": "text/x-python",
   "name": "python",
   "nbconvert_exporter": "python",
   "pygments_lexer": "ipython3",
   "version": "3.8.5"
  }
 },
 "nbformat": 4,
 "nbformat_minor": 2
}
