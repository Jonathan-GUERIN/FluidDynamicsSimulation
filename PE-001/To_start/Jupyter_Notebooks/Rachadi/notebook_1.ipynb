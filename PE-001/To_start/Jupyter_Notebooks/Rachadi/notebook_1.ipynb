{
 "cells": [
  {
   "cell_type": "code",
   "execution_count": 10,
   "metadata": {},
   "outputs": [
    {
     "name": "stdout",
     "output_type": "stream",
     "text": [
      "Requirement already satisfied: tensorflow in c:\\users\\jonat\\anaconda3\\lib\\site-packages (2.3.1)\n",
      "Requirement already satisfied: wheel>=0.26 in c:\\users\\jonat\\anaconda3\\lib\\site-packages (from tensorflow) (0.34.2)\n",
      "Requirement already satisfied: numpy<1.19.0,>=1.16.0 in c:\\users\\jonat\\anaconda3\\lib\\site-packages (from tensorflow) (1.18.5)\n",
      "Requirement already satisfied: google-pasta>=0.1.8 in c:\\users\\jonat\\anaconda3\\lib\\site-packages (from tensorflow) (0.2.0)\n",
      "Requirement already satisfied: tensorflow-estimator<2.4.0,>=2.3.0 in c:\\users\\jonat\\anaconda3\\lib\\site-packages (from tensorflow) (2.3.0)\n",
      "Requirement already satisfied: wrapt>=1.11.1 in c:\\users\\jonat\\anaconda3\\lib\\site-packages (from tensorflow) (1.11.2)\n",
      "Requirement already satisfied: h5py<2.11.0,>=2.10.0 in c:\\users\\jonat\\anaconda3\\lib\\site-packages (from tensorflow) (2.10.0)\n",
      "Requirement already satisfied: keras-preprocessing<1.2,>=1.1.1 in c:\\users\\jonat\\anaconda3\\lib\\site-packages (from tensorflow) (1.1.2)\n",
      "Requirement already satisfied: opt-einsum>=2.3.2 in c:\\users\\jonat\\anaconda3\\lib\\site-packages (from tensorflow) (3.3.0)\n",
      "Requirement already satisfied: grpcio>=1.8.6 in c:\\users\\jonat\\anaconda3\\lib\\site-packages (from tensorflow) (1.32.0)\n",
      "Requirement already satisfied: gast==0.3.3 in c:\\users\\jonat\\anaconda3\\lib\\site-packages (from tensorflow) (0.3.3)\n",
      "Requirement already satisfied: protobuf>=3.9.2 in c:\\users\\jonat\\anaconda3\\lib\\site-packages (from tensorflow) (3.13.0)\n",
      "Requirement already satisfied: tensorboard<3,>=2.3.0 in c:\\users\\jonat\\anaconda3\\lib\\site-packages (from tensorflow) (2.3.0)\n",
      "Requirement already satisfied: termcolor>=1.1.0 in c:\\users\\jonat\\anaconda3\\lib\\site-packages (from tensorflow) (1.1.0)\n",
      "Requirement already satisfied: absl-py>=0.7.0 in c:\\users\\jonat\\anaconda3\\lib\\site-packages (from tensorflow) (0.10.0)\n",
      "Requirement already satisfied: astunparse==1.6.3 in c:\\users\\jonat\\anaconda3\\lib\\site-packages (from tensorflow) (1.6.3)\n",
      "Requirement already satisfied: six>=1.12.0 in c:\\users\\jonat\\anaconda3\\lib\\site-packages (from tensorflow) (1.15.0)\n",
      "Requirement already satisfied: setuptools in c:\\users\\jonat\\anaconda3\\lib\\site-packages (from protobuf>=3.9.2->tensorflow) (49.2.0.post20200714)\n",
      "Requirement already satisfied: markdown>=2.6.8 in c:\\users\\jonat\\anaconda3\\lib\\site-packages (from tensorboard<3,>=2.3.0->tensorflow) (3.3.1)\n",
      "Requirement already satisfied: requests<3,>=2.21.0 in c:\\users\\jonat\\anaconda3\\lib\\site-packages (from tensorboard<3,>=2.3.0->tensorflow) (2.24.0)\n",
      "Requirement already satisfied: google-auth<2,>=1.6.3 in c:\\users\\jonat\\anaconda3\\lib\\site-packages (from tensorboard<3,>=2.3.0->tensorflow) (1.22.1)\n",
      "Requirement already satisfied: tensorboard-plugin-wit>=1.6.0 in c:\\users\\jonat\\anaconda3\\lib\\site-packages (from tensorboard<3,>=2.3.0->tensorflow) (1.7.0)\n",
      "Requirement already satisfied: google-auth-oauthlib<0.5,>=0.4.1 in c:\\users\\jonat\\anaconda3\\lib\\site-packages (from tensorboard<3,>=2.3.0->tensorflow) (0.4.1)\n",
      "Requirement already satisfied: werkzeug>=0.11.15 in c:\\users\\jonat\\anaconda3\\lib\\site-packages (from tensorboard<3,>=2.3.0->tensorflow) (1.0.1)\n",
      "Requirement already satisfied: idna<3,>=2.5 in c:\\users\\jonat\\anaconda3\\lib\\site-packages (from requests<3,>=2.21.0->tensorboard<3,>=2.3.0->tensorflow) (2.10)\n",
      "Requirement already satisfied: urllib3!=1.25.0,!=1.25.1,<1.26,>=1.21.1 in c:\\users\\jonat\\anaconda3\\lib\\site-packages (from requests<3,>=2.21.0->tensorboard<3,>=2.3.0->tensorflow) (1.25.9)\n",
      "Requirement already satisfied: chardet<4,>=3.0.2 in c:\\users\\jonat\\anaconda3\\lib\\site-packages (from requests<3,>=2.21.0->tensorboard<3,>=2.3.0->tensorflow) (3.0.4)\n",
      "Requirement already satisfied: certifi>=2017.4.17 in c:\\users\\jonat\\anaconda3\\lib\\site-packages (from requests<3,>=2.21.0->tensorboard<3,>=2.3.0->tensorflow) (2020.6.20)\n",
      "Requirement already satisfied: pyasn1-modules>=0.2.1 in c:\\users\\jonat\\anaconda3\\lib\\site-packages (from google-auth<2,>=1.6.3->tensorboard<3,>=2.3.0->tensorflow) (0.2.8)\n",
      "Requirement already satisfied: cachetools<5.0,>=2.0.0 in c:\\users\\jonat\\anaconda3\\lib\\site-packages (from google-auth<2,>=1.6.3->tensorboard<3,>=2.3.0->tensorflow) (4.1.1)\n",
      "Requirement already satisfied: rsa<5,>=3.1.4; python_version >= \"3.5\" in c:\\users\\jonat\\anaconda3\\lib\\site-packages (from google-auth<2,>=1.6.3->tensorboard<3,>=2.3.0->tensorflow) (4.6)\n",
      "Requirement already satisfied: requests-oauthlib>=0.7.0 in c:\\users\\jonat\\anaconda3\\lib\\site-packages (from google-auth-oauthlib<0.5,>=0.4.1->tensorboard<3,>=2.3.0->tensorflow) (1.3.0)\n",
      "Requirement already satisfied: pyasn1<0.5.0,>=0.4.6 in c:\\users\\jonat\\anaconda3\\lib\\site-packages (from pyasn1-modules>=0.2.1->google-auth<2,>=1.6.3->tensorboard<3,>=2.3.0->tensorflow) (0.4.8)\n",
      "Requirement already satisfied: oauthlib>=3.0.0 in c:\\users\\jonat\\anaconda3\\lib\\site-packages (from requests-oauthlib>=0.7.0->google-auth-oauthlib<0.5,>=0.4.1->tensorboard<3,>=2.3.0->tensorflow) (3.1.0)\n",
      "Note: you may need to restart the kernel to use updated packages.\n"
     ]
    }
   ],
   "source": [
    "pip install tensorflow"
   ]
  },
  {
   "cell_type": "code",
   "execution_count": 11,
   "metadata": {},
   "outputs": [],
   "source": [
    "from __future__ import absolute_import, division, print_function, unicode_literals\n",
    "\n",
    "import sqlite3\n",
    "import pathlib\n",
    "import matplotlib.pyplot as plt\n",
    "import pandas as pd\n",
    "import seaborn as sns\n",
    "import numpy as np\n",
    "import sys\n",
    "import datetime, os\n",
    "from sklearn import metrics\n",
    "from sklearn import preprocessing\n",
    "from time import time\n",
    "\n",
    "import tensorflow as tf\n",
    "from tensorflow import keras\n",
    "from tensorflow.keras import layers\n",
    "from tensorflow.keras.layers import LeakyReLU\n",
    "from tensorflow.python.keras.callbacks import TensorBoard\n",
    "\n",
    "import os"
   ]
  },
  {
   "cell_type": "code",
   "execution_count": 12,
   "metadata": {},
   "outputs": [
    {
     "name": "stdout",
     "output_type": "stream",
     "text": [
      "      tmax   alpha        dx         dt  stable  nb_iteration         erreur\n",
      "4825   500  0.0002  0.010638   5.777778       0            87  9.778792e+134\n",
      "4826   500  0.0002  0.010638   6.833333       0            74  5.711992e+119\n",
      "4827   500  0.0002  0.010638   7.888889       0            64  1.340261e+107\n",
      "4828   500  0.0002  0.010638   8.944444       0            56   2.343718e+96\n",
      "4829   500  0.0002  0.010638  10.000000       0            51   8.698314e+89\n"
     ]
    }
   ],
   "source": [
    "columns=['tmax','alpha','dx','dt','stable','nb_iteration','erreur']\n",
    "os.chdir('/Users/jonat/PE/PE-001/data_base/Diffusion1D')\n",
    "cnx = sqlite3.connect('db_diffusion_1D.db')\n",
    "raw_dataset= pd.read_sql_query(\"SELECT * FROM db_diffusion1D_\", cnx)\n",
    "\n",
    "data = raw_dataset.copy()\n",
    "data.columns=['tmax','alpha','dx','dt','stable','nb_iteration','erreur']\n",
    "print(data.tail())"
   ]
  },
  {
   "cell_type": "code",
   "execution_count": 13,
   "metadata": {},
   "outputs": [
    {
     "name": "stdout",
     "output_type": "stream",
     "text": [
      "      tmax     alpha      dx        dt    stable  nb_iteration    erreur\n",
      "4825   0.0  1.649661  1.0581 -0.558282 -0.359211     -0.231365 -0.049508\n",
      "4826   0.0  1.649661  1.0581 -0.483710 -0.359211     -0.286840 -0.049508\n",
      "4827   0.0  1.649661  1.0581 -0.409137 -0.359211     -0.329513 -0.049508\n",
      "4828   0.0  1.649661  1.0581 -0.334565 -0.359211     -0.363652 -0.049508\n",
      "4829   0.0  1.649661  1.0581 -0.259992 -0.359211     -0.384989 -0.049508\n"
     ]
    }
   ],
   "source": [
    "x=data.values\n",
    "scaler = preprocessing.StandardScaler()\n",
    "x_scaled = scaler.fit_transform(x)\n",
    "data = pd.DataFrame(x_scaled)\n",
    "data.columns = ['tmax','alpha','dx','dt','stable','nb_iteration','erreur']\n",
    "print(data.tail())"
   ]
  },
  {
   "cell_type": "code",
   "execution_count": 14,
   "metadata": {},
   "outputs": [],
   "source": [
    "train_dataset = data.sample(frac=0.75,random_state=0)\n",
    "test_dataset = data.drop(train_dataset.index)\n",
    "#print(test_dataset.tail())\n",
    "train_labels = train_dataset.pop('dt')\n",
    "test_labels = test_dataset.pop('dt')\n",
    "#print(test_labels.tail() )\n",
    "train_labels = np.asarray(train_labels)\n",
    "test_labels = np.asarray(test_labels)\n",
    "train_dataset = np.asarray(train_dataset)\n",
    "test_dataset = np.asarray(test_dataset)"
   ]
  },
  {
   "cell_type": "code",
   "execution_count": 15,
   "metadata": {},
   "outputs": [
    {
     "name": "stdout",
     "output_type": "stream",
     "text": [
      "Model: \"sequential\"\n",
      "_________________________________________________________________\n",
      "Layer (type)                 Output Shape              Param #   \n",
      "=================================================================\n",
      "dense (Dense)                (None, 10)                70        \n",
      "_________________________________________________________________\n",
      "leaky_re_lu (LeakyReLU)      (None, 10)                0         \n",
      "_________________________________________________________________\n",
      "dense_1 (Dense)              (None, 10)                110       \n",
      "_________________________________________________________________\n",
      "leaky_re_lu_1 (LeakyReLU)    (None, 10)                0         \n",
      "_________________________________________________________________\n",
      "dense_2 (Dense)              (None, 1)                 11        \n",
      "=================================================================\n",
      "Total params: 191\n",
      "Trainable params: 191\n",
      "Non-trainable params: 0\n",
      "_________________________________________________________________\n"
     ]
    }
   ],
   "source": [
    "def build_model():\n",
    "    model = keras.Sequential()\n",
    "    model.add(layers.Dense(10,use_bias=True,input_shape=[train_dataset.shape[1]]))\n",
    "    model.add(LeakyReLU(alpha=0.1))\n",
    "    model.add(layers.Dense(10,use_bias=True))\n",
    "    model.add(LeakyReLU(alpha=0.1))\n",
    "    model.add(layers.Dense(1,use_bias=True,activation='linear'))\n",
    "\n",
    "    return model\n",
    "\n",
    "model = build_model()\n",
    "model.summary()"
   ]
  },
  {
   "cell_type": "code",
   "execution_count": 16,
   "metadata": {},
   "outputs": [
    {
     "name": "stdout",
     "output_type": "stream",
     "text": [
      "[[-0.4031459 ]\n",
      " [ 0.7635688 ]\n",
      " [ 0.7732205 ]\n",
      " [-0.6851797 ]\n",
      " [-0.3863964 ]\n",
      " [ 0.43329594]\n",
      " [-2.0604107 ]\n",
      " [ 1.4540449 ]\n",
      " [-0.99069476]\n",
      " [ 1.0067768 ]]\n",
      "[[ 0.          0.94207091  1.96479702 -0.3592106  -0.28684033 -0.04950775]\n",
      " [ 0.          0.94207091 -0.23783289 -0.3592106  -0.1502863   0.12403577]\n",
      " [ 0.          0.22004003 -0.45821764 -0.3592106  -0.55141376 -0.04950775]\n",
      " [ 0.          1.29586604  2.23687855 -0.3592106   0.77145341 -0.04950775]\n",
      " [ 0.          1.64966117  1.83099868 -0.3592106  -0.28684033 -0.04950775]\n",
      " [ 0.         -0.49477054 -1.09382003 -0.3592106  -0.17162287 -0.04950775]\n",
      " [ 0.         -0.47310961  1.18347197  2.78388218  3.66895924 -0.04950775]\n",
      " [ 0.          0.9348506  -0.99045751 -0.3592106  -0.53861182 -0.04950775]\n",
      " [ 0.         -1.534495   -0.88608657  2.78388218 -0.23136525 -0.04950775]\n",
      " [ 0.          0.57744532 -0.56677349 -0.3592106  -0.53007719 -0.04950775]]\n"
     ]
    }
   ],
   "source": [
    "def train_model():\n",
    "  \n",
    "    \n",
    "  optimizer = tf.optimizers.Adam() #\n",
    "\n",
    "  model.compile(loss='mse',\n",
    "                optimizer=optimizer,\n",
    "                metrics=['mse'])\n",
    "\n",
    "  early_stop = keras.callbacks.EarlyStopping(monitor='val_mse',min_delta=1e-17, patience=10)\n",
    "  logdir = os.path.join(\"logs\", datetime.datetime.now().strftime(\"%Y%m%d-%H%M%S\"))\n",
    "  tensorboard_callback = tf.keras.callbacks.TensorBoard(logdir, histogram_freq=1,profile_batch=0)\n",
    "\n",
    "\n",
    "  model.fit(train_dataset, \n",
    "            train_labels, \n",
    "            epochs=100,\n",
    "            batch_size=1000,\n",
    "            validation_split = 0.5, \n",
    "            verbose=0, \n",
    "            callbacks=[early_stop,tensorboard_callback])\n",
    "  \n",
    "example_batch = train_dataset[:10]\n",
    "example_result = model.predict(example_batch)\n",
    "print(example_result)\n",
    "print(example_batch)"
   ]
  },
  {
   "cell_type": "code",
   "execution_count": 17,
   "metadata": {},
   "outputs": [],
   "source": [
    "train_model()"
   ]
  },
  {
   "cell_type": "code",
   "execution_count": 18,
   "metadata": {},
   "outputs": [],
   "source": [
    "def evaluate(model, test_features, test_labels):\n",
    "    predictions = model.predict(test_features).flatten()\n",
    "    #R2\n",
    "    R2=metrics.r2_score(test_labels, predictions)\n",
    "    #Correlation entre predictions et vraies donnees\n",
    "    Correl=np.corrcoef(test_labels, predictions)[0, 1]\n",
    "    print('Model Performance:')\n",
    "    print('Correlation: {:0.4f}.'.format(Correl))\n",
    "    print('R2: {:0.4f}.'.format(R2))"
   ]
  },
  {
   "cell_type": "code",
   "execution_count": 19,
   "metadata": {},
   "outputs": [],
   "source": [
    "def visualize(model, test_features, test_labels):\n",
    "    X_test=test_labels\n",
    "    Y_pred=model.predict(test_features).flatten()\n",
    "    Y_test=test_labels\n",
    "    plt.scatter(Y_test,Y_pred, color = 'red',marker=\".\")\n",
    "    plt.scatter(Y_test,Y_test, color = 'black',marker=\".\")\n",
    "    plt.title('ANN Regression Results')\n",
    "    plt.xlabel('dt_exact')\n",
    "    plt.ylabel('dt_model')\n",
    "    plt.show()"
   ]
  },
  {
   "cell_type": "code",
   "execution_count": 20,
   "metadata": {},
   "outputs": [
    {
     "name": "stdout",
     "output_type": "stream",
     "text": [
      "Model Performance:\n",
      "Correlation: 0.7930.\n",
      "R2: 0.6106.\n"
     ]
    },
    {
     "data": {
      "image/png": "[encoded data removed]",
      "text/plain": [
       "<Figure size 432x288 with 1 Axes>"
      ]
     },
     "metadata": {
      "needs_background": "light"
     },
     "output_type": "display_data"
    }
   ],
   "source": [
    "evaluate(model,test_dataset,test_labels)\n",
    "visualize(model,test_dataset,test_labels)"
   ]
  },
  {
   "cell_type": "code",
   "execution_count": null,
   "metadata": {},
   "outputs": [],
   "source": []
  },
  {
   "cell_type": "code",
   "execution_count": null,
   "metadata": {},
   "outputs": [],
   "source": []
  }
 ],
 "metadata": {
  "kernelspec": {
   "display_name": "Python 3",
   "language": "python",
   "name": "python3"
  },
  "language_info": {
   "codemirror_mode": {
    "name": "ipython",
    "version": 3
   },
   "file_extension": ".py",
   "mimetype": "text/x-python",
   "name": "python",
   "nbconvert_exporter": "python",
   "pygments_lexer": "ipython3",
   "version": "3.8.3"
  }
 },
 "nbformat": 4,
 "nbformat_minor": 4
}
